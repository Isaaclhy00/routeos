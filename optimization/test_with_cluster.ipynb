{
 "cells": [
  {
   "cell_type": "code",
   "execution_count": 95,
   "metadata": {},
   "outputs": [],
   "source": [
    "from query_vroom import *\n",
    "from query_osrm import OsrmQuery\n",
    "import pandas as pd\n",
    "import numpy as np\n",
    "import json\n",
    "from clustering import DBScanClusterer\n",
    "\n",
    "# with open(r\"C:\\Users\\isaac.li\\source\\repos\\route - admin_frontend\\data.json\") as f:\n",
    "with open(r\"C:\\Users\\clement.lork\\Documents\\Sembwaste_Routing\\swm_route_optimization\\azure_repos\\admin_frontend\\data.json\") as f:\n",
    "  data = json.loads(f.read())"
   ]
  },
  {
   "cell_type": "markdown",
   "metadata": {},
   "source": [
    "### Convert to DataFrame"
   ]
  },
  {
   "cell_type": "code",
   "execution_count": 96,
   "metadata": {},
   "outputs": [
    {
     "data": {
      "text/plain": [
       "dict_keys(['routesToBreak', 'routesToOptimize', 'pointsToAssign', 'vehiclesInvolved', 'depotData', 'solverConfig', 'allVehicleTypes'])"
      ]
     },
     "execution_count": 96,
     "metadata": {},
     "output_type": "execute_result"
    }
   ],
   "source": [
    "data.keys()"
   ]
  },
  {
   "cell_type": "code",
   "execution_count": 97,
   "metadata": {},
   "outputs": [
    {
     "data": {
      "text/plain": [
       "[{'id': 0, 'Name': '4x2', 'Capacity': 8000, 'Range': 300000},\n",
       " {'id': 1, 'Name': '6x4', 'Capacity': 12000, 'Range': 300000},\n",
       " {'id': 2, 'Name': '8x2', 'Capacity': 16000, 'Range': 300000}]"
      ]
     },
     "execution_count": 97,
     "metadata": {},
     "output_type": "execute_result"
    }
   ],
   "source": [
    "data[\"allVehicleTypes\"]"
   ]
  },
  {
   "cell_type": "code",
   "execution_count": 98,
   "metadata": {},
   "outputs": [],
   "source": [
    "solverConfig = data[\"solverConfig\"]\n",
    "# solverConfig['useClusters'] = True\n",
    "\n",
    "points = data[\"pointsToAssign\"]\n",
    "fleet = data[\"vehiclesInvolved\"]\n",
    "vtypes = data['allVehicleTypes']\n",
    "routebreak = data['routesToBreak']\n",
    "routeopt = data['routesToOptimize']\n",
    "depots = data['depotData']\n",
    "\n",
    "ips = [{'id': 0, 'Name': 'IPs', 'lat': 1.29607, 'long': 103.62173}]"
   ]
  },
  {
   "cell_type": "code",
   "execution_count": 99,
   "metadata": {},
   "outputs": [
    {
     "data": {
      "text/plain": [
       "{'mode': 'Breakroute', 'useClusters': True}"
      ]
     },
     "execution_count": 99,
     "metadata": {},
     "output_type": "execute_result"
    }
   ],
   "source": [
    "solverConfig "
   ]
  },
  {
   "cell_type": "code",
   "execution_count": 100,
   "metadata": {},
   "outputs": [
    {
     "data": {
      "text/plain": [
       "[{'id': 0, 'Name': 'Tuas', 'lat': 1.3344, 'long': 103.64579}]"
      ]
     },
     "execution_count": 100,
     "metadata": {},
     "output_type": "execute_result"
    }
   ],
   "source": [
    "depots"
   ]
  },
  {
   "cell_type": "code",
   "execution_count": 101,
   "metadata": {},
   "outputs": [],
   "source": [
    "points = pd.DataFrame.from_dict(points)\n",
    "fleet = pd.DataFrame.from_dict(fleet)\n",
    "vtypes = pd.DataFrame.from_dict(vtypes)\n",
    "routebreak = pd.DataFrame.from_dict(routebreak)\n",
    "routeopt = pd.DataFrame.from_dict(routeopt)\n",
    "depots = pd.DataFrame.from_dict(depots)\n",
    "ips = pd.DataFrame.from_dict(ips)"
   ]
  },
  {
   "cell_type": "code",
   "execution_count": 102,
   "metadata": {},
   "outputs": [],
   "source": [
    "total_routes = pd.concat([routeopt,routebreak])"
   ]
  },
  {
   "cell_type": "code",
   "execution_count": 104,
   "metadata": {},
   "outputs": [
    {
     "data": {
      "text/html": [
       "<div>\n",
       "<style scoped>\n",
       "    .dataframe tbody tr th:only-of-type {\n",
       "        vertical-align: middle;\n",
       "    }\n",
       "\n",
       "    .dataframe tbody tr th {\n",
       "        vertical-align: top;\n",
       "    }\n",
       "\n",
       "    .dataframe thead th {\n",
       "        text-align: right;\n",
       "    }\n",
       "</style>\n",
       "<table border=\"1\" class=\"dataframe\">\n",
       "  <thead>\n",
       "    <tr style=\"text-align: right;\">\n",
       "      <th></th>\n",
       "      <th>id</th>\n",
       "      <th>Name</th>\n",
       "      <th>Vehicle_Type</th>\n",
       "      <th>Route_ID</th>\n",
       "      <th>Max_Trips</th>\n",
       "      <th>Manpower</th>\n",
       "      <th>Depot</th>\n",
       "      <th>Break_Time</th>\n",
       "      <th>Current_Lat</th>\n",
       "      <th>Current_Long</th>\n",
       "      <th>Current_Tonnage</th>\n",
       "      <th>Start_Time</th>\n",
       "      <th>End_Time</th>\n",
       "    </tr>\n",
       "  </thead>\n",
       "  <tbody>\n",
       "    <tr>\n",
       "      <th>0</th>\n",
       "      <td>0</td>\n",
       "      <td>XE6239D</td>\n",
       "      <td>2</td>\n",
       "      <td>0</td>\n",
       "      <td>3</td>\n",
       "      <td>2</td>\n",
       "      <td>0</td>\n",
       "      <td>12</td>\n",
       "      <td>1.3344</td>\n",
       "      <td>103.64579</td>\n",
       "      <td>0</td>\n",
       "      <td>00:00</td>\n",
       "      <td>00:00</td>\n",
       "    </tr>\n",
       "    <tr>\n",
       "      <th>1</th>\n",
       "      <td>1</td>\n",
       "      <td>XE5992T</td>\n",
       "      <td>1</td>\n",
       "      <td>1</td>\n",
       "      <td>2</td>\n",
       "      <td>3</td>\n",
       "      <td>0</td>\n",
       "      <td>12</td>\n",
       "      <td>1.3344</td>\n",
       "      <td>103.64579</td>\n",
       "      <td>0</td>\n",
       "      <td>00:00</td>\n",
       "      <td>00:00</td>\n",
       "    </tr>\n",
       "    <tr>\n",
       "      <th>2</th>\n",
       "      <td>3</td>\n",
       "      <td>XE5988G</td>\n",
       "      <td>1</td>\n",
       "      <td>3</td>\n",
       "      <td>3</td>\n",
       "      <td>3</td>\n",
       "      <td>0</td>\n",
       "      <td>12</td>\n",
       "      <td>1.3344</td>\n",
       "      <td>103.64579</td>\n",
       "      <td>0</td>\n",
       "      <td>00:00</td>\n",
       "      <td>00:00</td>\n",
       "    </tr>\n",
       "    <tr>\n",
       "      <th>3</th>\n",
       "      <td>4</td>\n",
       "      <td>XE6059G</td>\n",
       "      <td>2</td>\n",
       "      <td>4</td>\n",
       "      <td>3</td>\n",
       "      <td>2</td>\n",
       "      <td>0</td>\n",
       "      <td>12</td>\n",
       "      <td>1.3344</td>\n",
       "      <td>103.64579</td>\n",
       "      <td>0</td>\n",
       "      <td>00:00</td>\n",
       "      <td>00:00</td>\n",
       "    </tr>\n",
       "    <tr>\n",
       "      <th>4</th>\n",
       "      <td>5</td>\n",
       "      <td>XE6193B</td>\n",
       "      <td>2</td>\n",
       "      <td>5</td>\n",
       "      <td>3</td>\n",
       "      <td>2</td>\n",
       "      <td>0</td>\n",
       "      <td>12</td>\n",
       "      <td>1.3344</td>\n",
       "      <td>103.64579</td>\n",
       "      <td>0</td>\n",
       "      <td>00:00</td>\n",
       "      <td>00:00</td>\n",
       "    </tr>\n",
       "    <tr>\n",
       "      <th>5</th>\n",
       "      <td>6</td>\n",
       "      <td>XE6015H</td>\n",
       "      <td>1</td>\n",
       "      <td>6</td>\n",
       "      <td>3</td>\n",
       "      <td>2</td>\n",
       "      <td>0</td>\n",
       "      <td>12</td>\n",
       "      <td>1.3344</td>\n",
       "      <td>103.64579</td>\n",
       "      <td>0</td>\n",
       "      <td>00:00</td>\n",
       "      <td>00:00</td>\n",
       "    </tr>\n",
       "    <tr>\n",
       "      <th>6</th>\n",
       "      <td>7</td>\n",
       "      <td>XE6131E</td>\n",
       "      <td>2</td>\n",
       "      <td>7</td>\n",
       "      <td>3</td>\n",
       "      <td>2</td>\n",
       "      <td>0</td>\n",
       "      <td>12</td>\n",
       "      <td>1.3344</td>\n",
       "      <td>103.64579</td>\n",
       "      <td>0</td>\n",
       "      <td>00:00</td>\n",
       "      <td>00:00</td>\n",
       "    </tr>\n",
       "    <tr>\n",
       "      <th>7</th>\n",
       "      <td>8</td>\n",
       "      <td>XE6350P</td>\n",
       "      <td>2</td>\n",
       "      <td>8</td>\n",
       "      <td>3</td>\n",
       "      <td>2</td>\n",
       "      <td>0</td>\n",
       "      <td>12</td>\n",
       "      <td>1.3344</td>\n",
       "      <td>103.64579</td>\n",
       "      <td>0</td>\n",
       "      <td>00:00</td>\n",
       "      <td>00:00</td>\n",
       "    </tr>\n",
       "  </tbody>\n",
       "</table>\n",
       "</div>"
      ],
      "text/plain": [
       "   id     Name  Vehicle_Type  Route_ID  Max_Trips  Manpower  Depot  \\\n",
       "0   0  XE6239D             2         0          3         2      0   \n",
       "1   1  XE5992T             1         1          2         3      0   \n",
       "2   3  XE5988G             1         3          3         3      0   \n",
       "3   4  XE6059G             2         4          3         2      0   \n",
       "4   5  XE6193B             2         5          3         2      0   \n",
       "5   6  XE6015H             1         6          3         2      0   \n",
       "6   7  XE6131E             2         7          3         2      0   \n",
       "7   8  XE6350P             2         8          3         2      0   \n",
       "\n",
       "   Break_Time  Current_Lat  Current_Long  Current_Tonnage Start_Time End_Time  \n",
       "0          12       1.3344     103.64579                0      00:00    00:00  \n",
       "1          12       1.3344     103.64579                0      00:00    00:00  \n",
       "2          12       1.3344     103.64579                0      00:00    00:00  \n",
       "3          12       1.3344     103.64579                0      00:00    00:00  \n",
       "4          12       1.3344     103.64579                0      00:00    00:00  \n",
       "5          12       1.3344     103.64579                0      00:00    00:00  \n",
       "6          12       1.3344     103.64579                0      00:00    00:00  \n",
       "7          12       1.3344     103.64579                0      00:00    00:00  "
      ]
     },
     "execution_count": 104,
     "metadata": {},
     "output_type": "execute_result"
    }
   ],
   "source": [
    "fleet"
   ]
  },
  {
   "cell_type": "code",
   "execution_count": 103,
   "metadata": {},
   "outputs": [
    {
     "ename": "KeyError",
     "evalue": "'vehicleCapacity'",
     "output_type": "error",
     "traceback": [
      "\u001b[1;31m---------------------------------------------------------------------------\u001b[0m",
      "\u001b[1;31mKeyError\u001b[0m                                  Traceback (most recent call last)",
      "File \u001b[1;32mc:\\Users\\clement.lork\\AppData\\Local\\anaconda3\\Lib\\site-packages\\pandas\\core\\indexes\\base.py:3805\u001b[0m, in \u001b[0;36mIndex.get_loc\u001b[1;34m(self, key)\u001b[0m\n\u001b[0;32m   3804\u001b[0m \u001b[38;5;28;01mtry\u001b[39;00m:\n\u001b[1;32m-> 3805\u001b[0m     \u001b[38;5;28;01mreturn\u001b[39;00m \u001b[38;5;28mself\u001b[39m\u001b[38;5;241m.\u001b[39m_engine\u001b[38;5;241m.\u001b[39mget_loc(casted_key)\n\u001b[0;32m   3806\u001b[0m \u001b[38;5;28;01mexcept\u001b[39;00m \u001b[38;5;167;01mKeyError\u001b[39;00m \u001b[38;5;28;01mas\u001b[39;00m err:\n",
      "File \u001b[1;32mindex.pyx:167\u001b[0m, in \u001b[0;36mpandas._libs.index.IndexEngine.get_loc\u001b[1;34m()\u001b[0m\n",
      "File \u001b[1;32mindex.pyx:196\u001b[0m, in \u001b[0;36mpandas._libs.index.IndexEngine.get_loc\u001b[1;34m()\u001b[0m\n",
      "File \u001b[1;32mpandas\\\\_libs\\\\hashtable_class_helper.pxi:7081\u001b[0m, in \u001b[0;36mpandas._libs.hashtable.PyObjectHashTable.get_item\u001b[1;34m()\u001b[0m\n",
      "File \u001b[1;32mpandas\\\\_libs\\\\hashtable_class_helper.pxi:7089\u001b[0m, in \u001b[0;36mpandas._libs.hashtable.PyObjectHashTable.get_item\u001b[1;34m()\u001b[0m\n",
      "\u001b[1;31mKeyError\u001b[0m: 'vehicleCapacity'",
      "\nThe above exception was the direct cause of the following exception:\n",
      "\u001b[1;31mKeyError\u001b[0m                                  Traceback (most recent call last)",
      "Cell \u001b[1;32mIn[103], line 3\u001b[0m\n\u001b[0;32m      1\u001b[0m fleet[\u001b[38;5;124m\"\u001b[39m\u001b[38;5;124mRoute_ID\u001b[39m\u001b[38;5;124m\"\u001b[39m] \u001b[38;5;241m=\u001b[39m fleet[\u001b[38;5;124m\"\u001b[39m\u001b[38;5;124mRoute_ID\u001b[39m\u001b[38;5;124m\"\u001b[39m]\u001b[38;5;241m.\u001b[39mastype(\u001b[38;5;124m\"\u001b[39m\u001b[38;5;124mint\u001b[39m\u001b[38;5;124m\"\u001b[39m)\n\u001b[0;32m      2\u001b[0m fleet[\u001b[38;5;124m\"\u001b[39m\u001b[38;5;124mManpower\u001b[39m\u001b[38;5;124m\"\u001b[39m] \u001b[38;5;241m=\u001b[39m fleet[\u001b[38;5;124m\"\u001b[39m\u001b[38;5;124mManpower\u001b[39m\u001b[38;5;124m\"\u001b[39m]\u001b[38;5;241m.\u001b[39mastype(\u001b[38;5;124m\"\u001b[39m\u001b[38;5;124mint\u001b[39m\u001b[38;5;124m\"\u001b[39m)\n\u001b[1;32m----> 3\u001b[0m fleet[\u001b[38;5;124m\"\u001b[39m\u001b[38;5;124mvehicleCapacity\u001b[39m\u001b[38;5;124m\"\u001b[39m] \u001b[38;5;241m=\u001b[39m fleet[\u001b[38;5;124m\"\u001b[39m\u001b[38;5;124mvehicleCapacity\u001b[39m\u001b[38;5;124m\"\u001b[39m]\u001b[38;5;241m.\u001b[39mastype(\u001b[38;5;124m\"\u001b[39m\u001b[38;5;124mint\u001b[39m\u001b[38;5;124m\"\u001b[39m)\n",
      "File \u001b[1;32mc:\\Users\\clement.lork\\AppData\\Local\\anaconda3\\Lib\\site-packages\\pandas\\core\\frame.py:4090\u001b[0m, in \u001b[0;36mDataFrame.__getitem__\u001b[1;34m(self, key)\u001b[0m\n\u001b[0;32m   4088\u001b[0m \u001b[38;5;28;01mif\u001b[39;00m \u001b[38;5;28mself\u001b[39m\u001b[38;5;241m.\u001b[39mcolumns\u001b[38;5;241m.\u001b[39mnlevels \u001b[38;5;241m>\u001b[39m \u001b[38;5;241m1\u001b[39m:\n\u001b[0;32m   4089\u001b[0m     \u001b[38;5;28;01mreturn\u001b[39;00m \u001b[38;5;28mself\u001b[39m\u001b[38;5;241m.\u001b[39m_getitem_multilevel(key)\n\u001b[1;32m-> 4090\u001b[0m indexer \u001b[38;5;241m=\u001b[39m \u001b[38;5;28mself\u001b[39m\u001b[38;5;241m.\u001b[39mcolumns\u001b[38;5;241m.\u001b[39mget_loc(key)\n\u001b[0;32m   4091\u001b[0m \u001b[38;5;28;01mif\u001b[39;00m is_integer(indexer):\n\u001b[0;32m   4092\u001b[0m     indexer \u001b[38;5;241m=\u001b[39m [indexer]\n",
      "File \u001b[1;32mc:\\Users\\clement.lork\\AppData\\Local\\anaconda3\\Lib\\site-packages\\pandas\\core\\indexes\\base.py:3812\u001b[0m, in \u001b[0;36mIndex.get_loc\u001b[1;34m(self, key)\u001b[0m\n\u001b[0;32m   3807\u001b[0m     \u001b[38;5;28;01mif\u001b[39;00m \u001b[38;5;28misinstance\u001b[39m(casted_key, \u001b[38;5;28mslice\u001b[39m) \u001b[38;5;129;01mor\u001b[39;00m (\n\u001b[0;32m   3808\u001b[0m         \u001b[38;5;28misinstance\u001b[39m(casted_key, abc\u001b[38;5;241m.\u001b[39mIterable)\n\u001b[0;32m   3809\u001b[0m         \u001b[38;5;129;01mand\u001b[39;00m \u001b[38;5;28many\u001b[39m(\u001b[38;5;28misinstance\u001b[39m(x, \u001b[38;5;28mslice\u001b[39m) \u001b[38;5;28;01mfor\u001b[39;00m x \u001b[38;5;129;01min\u001b[39;00m casted_key)\n\u001b[0;32m   3810\u001b[0m     ):\n\u001b[0;32m   3811\u001b[0m         \u001b[38;5;28;01mraise\u001b[39;00m InvalidIndexError(key)\n\u001b[1;32m-> 3812\u001b[0m     \u001b[38;5;28;01mraise\u001b[39;00m \u001b[38;5;167;01mKeyError\u001b[39;00m(key) \u001b[38;5;28;01mfrom\u001b[39;00m \u001b[38;5;21;01merr\u001b[39;00m\n\u001b[0;32m   3813\u001b[0m \u001b[38;5;28;01mexcept\u001b[39;00m \u001b[38;5;167;01mTypeError\u001b[39;00m:\n\u001b[0;32m   3814\u001b[0m     \u001b[38;5;66;03m# If we have a listlike key, _check_indexing_error will raise\u001b[39;00m\n\u001b[0;32m   3815\u001b[0m     \u001b[38;5;66;03m#  InvalidIndexError. Otherwise we fall through and re-raise\u001b[39;00m\n\u001b[0;32m   3816\u001b[0m     \u001b[38;5;66;03m#  the TypeError.\u001b[39;00m\n\u001b[0;32m   3817\u001b[0m     \u001b[38;5;28mself\u001b[39m\u001b[38;5;241m.\u001b[39m_check_indexing_error(key)\n",
      "\u001b[1;31mKeyError\u001b[0m: 'vehicleCapacity'"
     ]
    }
   ],
   "source": [
    "# fleet[\"Route_ID\"] = fleet[\"Route_ID\"].astype(\"int\")\n",
    "# fleet[\"Manpower\"] = fleet[\"Manpower\"].astype(\"int\")\n",
    "# fleet[\"vehicleCapacity\"] = fleet[\"vehicleCapacity\"].astype(\"int\")"
   ]
  },
  {
   "cell_type": "code",
   "execution_count": 63,
   "metadata": {},
   "outputs": [
    {
     "data": {
      "text/plain": [
       "0.26666666666666666"
      ]
     },
     "execution_count": 63,
     "metadata": {},
     "output_type": "execute_result"
    }
   ],
   "source": [
    "endpoint = \"http://localhost:5001\"\n",
    "querycar = OsrmQuery(endpoint, 'car')\n",
    "route_response = querycar.find_route(1.2984382,103.8047524,1.2980271,103.8050503,u_turn_allowed=True)\n",
    "route_response[\"routes\"][0][\"duration\"]/60"
   ]
  },
  {
   "cell_type": "code",
   "execution_count": 64,
   "metadata": {},
   "outputs": [],
   "source": [
    "vtypes2str = dict(zip(vtypes.id.tolist(),vtypes.Name.tolist()))\n",
    "vtypes2id = dict(zip(vtypes.Name.tolist(),vtypes.id.tolist()))\n",
    "vnames2cap = dict(zip(vtypes.Name.tolist(),vtypes.Capacity.tolist()))"
   ]
  },
  {
   "cell_type": "code",
   "execution_count": 65,
   "metadata": {},
   "outputs": [],
   "source": [
    "# convert Vehicle_Type back to string\n",
    "fleet[\"Vehicle_Type\"] = fleet[\"Vehicle_Type\"].apply(lambda x: vtypes2str[x])\n",
    "fleet[\"Capacity\"] = fleet[\"Vehicle_Type\"].apply(lambda x: vnames2cap[x])"
   ]
  },
  {
   "cell_type": "code",
   "execution_count": 66,
   "metadata": {},
   "outputs": [
    {
     "name": "stdout",
     "output_type": "stream",
     "text": [
      "{0: 0, 2: 2, 3: 3, 4: 4, 5: 5, 6: 6, 7: 7, 8: 8}\n",
      "{'8x2': [0, 4, 5, 7, 8], '6x4': [2, 3, 6]}\n",
      "{0: 3, 2: 3, 3: 3, 4: 2, 5: 2, 6: 2, 7: 2, 8: 2}\n"
     ]
    }
   ],
   "source": [
    "# check if a vehicle is servicing point.route_id, if true set allowed vehicle as the vehicle id\n",
    "\n",
    "rid2vid = dict(zip(fleet.Route_ID.tolist(),fleet.id.tolist()))\n",
    "vt2vid = dict(zip(fleet.Vehicle_Type.tolist(),fleet.id.tolist()))\n",
    "vid2mp = dict(zip(fleet.id.tolist(),fleet.Manpower.tolist()))\n",
    "\n",
    "vt2vid  = {}\n",
    "\n",
    "for idx, vtype in enumerate(fleet['Vehicle_Type']):\n",
    "    if vtype not in vt2vid :\n",
    "        vt2vid[vtype] = []\n",
    "        vt2vid[vtype].append(fleet[\"id\"][idx])\n",
    "    else:\n",
    "        vt2vid[vtype].append(fleet[\"id\"][idx])\n",
    "\n",
    "print(rid2vid)\n",
    "print(vt2vid)\n",
    "print(vid2mp)\n"
   ]
  },
  {
   "cell_type": "code",
   "execution_count": 67,
   "metadata": {},
   "outputs": [
    {
     "data": {
      "text/plain": [
       "array([2, 3], dtype=int64)"
      ]
     },
     "execution_count": 67,
     "metadata": {},
     "output_type": "execute_result"
    }
   ],
   "source": [
    "points[\"Manpower\"].unique()"
   ]
  },
  {
   "cell_type": "markdown",
   "metadata": {},
   "source": [
    "### Find vehicle skils before clustering"
   ]
  },
  {
   "cell_type": "code",
   "execution_count": 68,
   "metadata": {},
   "outputs": [],
   "source": [
    "vehicle_skills = {}\n",
    "for vid in fleet.id:\n",
    "    vehicle_skills[vid] = []\n",
    "\n",
    "for idx, p in points.iterrows():\n",
    "    # if route_id of points is inside routesInvolved, append p.id to vehicle\n",
    "    rid = p[\"Route_ID\"]\n",
    "    allowed_veh = []\n",
    "    if rid in routeopt.id.tolist():\n",
    "        vid = rid2vid[rid]\n",
    "        vehicle_skills[vid].append(p['id'])\n",
    "        points.loc[idx,\"Allowed_Veh\"] = str(vid)\n",
    "    else:\n",
    "        # if vehicles does not have assigned routes, fall back to checking vehicle_type_allowed tags\n",
    "        allowed_veh_list = []\n",
    "        for vt in p[\"Vehicle_Type_Allowed\"].split(\",\"):\n",
    "            if vt in vt2vid.keys():\n",
    "                # allowed_veh_list += [str(i) for i in vt2vid[vt]]\n",
    "                for vid in vt2vid[vt]:\n",
    "                    # check if vehicle support manpower of point\n",
    "                    if p[\"Manpower\"] <= vid2mp[vid]:\n",
    "                        vehicle_skills[vid].append(p['id'])\n",
    "                        allowed_veh_list += [str(vid)]\n",
    "\n",
    "\n",
    "        allowed_veh = \",\".join(sorted(allowed_veh_list))\n",
    "        points.loc[idx,\"Allowed_Veh\"] = allowed_veh"
   ]
  },
  {
   "cell_type": "code",
   "execution_count": 69,
   "metadata": {},
   "outputs": [],
   "source": [
    "points[\"Allowed_Veh\"].unique()\n",
    "\n",
    "try:\n",
    "    assert ('' not in points[\"Allowed_Veh\"].unique())\n",
    "except AssertionError as e:\n",
    "    print(e)"
   ]
  },
  {
   "cell_type": "code",
   "execution_count": 70,
   "metadata": {},
   "outputs": [],
   "source": [
    "# import json\n",
    "# import pandas as pd\n",
    "\n",
    "# def read_data_from_js(file_path, string_to_split):\n",
    "#     # Read the JavaScript file\n",
    "#     with open(file_path, 'r') as f:\n",
    "#         js_content = f.read()\n",
    "\n",
    "#     # Extract the points_data array from the JavaScript content\n",
    "#     points_data_str = js_content.split(string_to_split)[1].split(';')[0]\n",
    "\n",
    "#     # Convert the points_data string to a Python list of dictionaries\n",
    "#     points_data = json.loads(points_data_str)\n",
    "\n",
    "#     return points_data\n",
    "# depots_map = { 0 : \"Tuas\" }\n",
    "# veh_types_map = { 0 : \"4x2\", 1 : \"6x4\", 2 : \"8x2\" }\n",
    "# routes_map = { 0 : \"R16X\", 1 : \"R17\", 2 : \"R18\", 3 : \"R20X\", 4 : \"R22\", 5 :\"R23X\", 6 : \"R24\", 7 : \"R25X\", 8 : \"R26X\"}\n",
    "\n",
    "# depots_data_df = pd.DataFrame(read_data_from_js(r'C:\\Users\\isaac.li\\source\\repos\\route - admin_frontend\\static\\js\\data\\depots_data.js', 'var depots_data ='))\n",
    "# vehicle_types_data_df = pd.DataFrame(read_data_from_js(r'C:\\Users\\isaac.li\\source\\repos\\route - admin_frontend\\static\\js\\data\\vehicle_types_data.js', 'var vehicle_types_data ='))\n",
    "\n",
    "# routes_data_df = pd.DataFrame(read_data_from_js(r'C:\\Users\\isaac.li\\source\\repos\\route - admin_frontend\\static\\js\\data\\routes_data.js', 'var routes_data ='))\n",
    "# routes_data_df['Depot'] = routes_data_df['Depot'].map(depots_map)\n",
    "# routes_data_df['Vehicle_Type'] = routes_data_df['Vehicle_Type'].map(veh_types_map)\n",
    "\n",
    "# vehicles_data_df = pd.DataFrame(read_data_from_js(r'C:\\Users\\isaac.li\\source\\repos\\route - admin_frontend\\static\\js\\data\\vehicles_data.js', 'var vehicles_data ='))\n",
    "# vehicles_data_df['Depot'] = vehicles_data_df['Depot'].map(depots_map)\n",
    "# vehicles_data_df['Vehicle_Type'] = vehicles_data_df['Vehicle_Type'].map(veh_types_map)\n",
    "# vehicles_data_df['Route_ID'] = vehicles_data_df['Route_ID'].map(routes_map)\n",
    "\n",
    "# excel_file_path = \"sample_fleet_excel.xlsx\"\n",
    "\n",
    "# # Create a Pandas Excel writer using XlsxWriter as the engine\n",
    "# with pd.ExcelWriter(excel_file_path) as writer:\n",
    "#     depots_data_df.to_excel(writer, sheet_name='Depots', index=False)\n",
    "#     vehicle_types_data_df.to_excel(writer, sheet_name='Vehicle Types', index=False)\n",
    "#     routes_data_df.to_excel(writer, sheet_name='Routes', index=False)\n",
    "#     vehicles_data_df.to_excel(writer, sheet_name='Vehicles', index=False)\n"
   ]
  },
  {
   "cell_type": "markdown",
   "metadata": {},
   "source": [
    "### Cluster Points again if using clustering"
   ]
  },
  {
   "cell_type": "code",
   "execution_count": 71,
   "metadata": {},
   "outputs": [],
   "source": [
    "cluster_map = dict(zip(points.Network_Cluster.unique().tolist(),list(range(len(points.Network_Cluster.unique())))))\n",
    "points[\"Network_Cluster\"] = points[\"Network_Cluster\"].apply(lambda x: cluster_map[x])"
   ]
  },
  {
   "cell_type": "code",
   "execution_count": 72,
   "metadata": {},
   "outputs": [
    {
     "data": {
      "text/plain": [
       "{'mode': 'breakroute', 'useClusters': False}"
      ]
     },
     "execution_count": 72,
     "metadata": {},
     "output_type": "execute_result"
    }
   ],
   "source": [
    "solverConfig"
   ]
  },
  {
   "cell_type": "code",
   "execution_count": 73,
   "metadata": {},
   "outputs": [
    {
     "name": "stderr",
     "output_type": "stream",
     "text": [
      "100%|██████████| 499/499 [00:03<00:00, 151.19it/s]\n"
     ]
    },
    {
     "name": "stdout",
     "output_type": "stream",
     "text": [
      "/table/v1/car/103.80332,1.297665;103.801706,1.299297;103.801294,1.298164;103.802995,1.297086;103.803496,1.294778;103.806086,1.293593;103.80412,1.295495;103.802664,1.291689;103.802472,1.29026;103.802284,1.297919;103.800725,1.296141;103.800915,1.291346;103.806718,1.29029;103.807823,1.287883;103.815047,1.289347;103.813202,1.287386;103.816379,1.286437;103.815199,1.285433;103.815807,1.28685;103.816388,1.287221;103.816903,1.286638;103.817013,1.2879;103.815593,1.288235;103.815524,1.288029;103.816096,1.288295;103.81649,1.28885;103.81703,1.28894;103.817579,1.288549;103.819357,1.287941;103.81935,1.287302;103.819121,1.28669;103.818874,1.28727;103.818841,1.285929;103.81865,1.285942;103.810687,1.292972;103.811905,1.292993;103.811382,1.294159;103.810932,1.294239;103.811594,1.293086;103.811608,1.293685;103.812281,1.293695;103.812345,1.29412;103.811322,1.29288;103.810391,1.29442;103.81033,1.29398;103.810534,1.295311;103.810399,1.295493;103.809913,1.295565;103.809425,1.295635;103.82325,1.290131;103.807079,1.294976;103.82325,1.290131;103.835634,1.284003;103.834667,1.286796;103.834665,1.285731;103.833204,1.283502;103.834235,1.283832;103.832352,1.282826;103.831655,1.282817;103.83076,1.282699;103.831007,1.282421;103.830108,1.282939;103.830524,1.282414;103.830398,1.282573;103.830296,1.282702;103.830139,1.2829;103.830088,1.282965;103.834043,1.285743;103.830316,1.283607;103.833133,1.2867;103.832745,1.287249;103.832284,1.286792;103.831917,1.286463;103.831362,1.287156;103.830845,1.286444;103.830137,1.286423;103.830158,1.287148;103.828771,1.286991;103.828778,1.286893;103.829577,1.286515;103.829195,1.286511;103.829063,1.286512;103.829646,1.28593;103.833011,1.285971;103.832313,1.286013;103.831691,1.285995;103.831074,1.285976;103.830454,1.285958;103.8276,1.290297;103.828573,1.289254;103.828828,1.289144;103.829478,1.289344;103.829495,1.290081;103.82899,1.290289;103.828599,1.290307;103.82814,1.290298;103.833072,1.289759;103.833149,1.288496;103.832661,1.288661;103.835605,1.289442;103.838189,1.288514;103.833498,1.28926;103.832702,1.289585;103.832441,1.289583;103.83062,1.289285;103.832233,1.289296;103.828075,1.28931;103.827365,1.289631;103.82988,1.287545;103.831169,1.29463;103.832309,1.295565;103.829443,1.28466;103.827489,1.283823;103.8262,1.283286;103.82781,1.281722;103.828027,1.282145;103.827896,1.28277;103.828697,1.282618;103.828814,1.2837;103.827666,1.283346;103.828322,1.282515;103.828797,1.283241;103.829074,1.283725;103.828333,1.283712;103.828268,1.280953;103.828746,1.280216;103.827527,1.280736;103.826029,1.28332;103.825225,1.283063;103.825794,1.282484;103.826325,1.282947;103.825553,1.283273;103.825024,1.282842;103.825265,1.282227;103.82485,1.282225;103.825048,1.282884;103.825965,1.283894;103.825423,1.281604;103.8258,1.282067;103.826142,1.282205;103.827002,1.282483;103.827133,1.28554;103.826096,1.285767;103.825892,1.285777;103.825749,1.284899;103.826519,1.284692;103.826806,1.284592;103.836293,1.284216;103.837334,1.286464;103.837883,1.286039;103.838799,1.287927;103.830948,1.290082;103.838915,1.276384;103.84084,1.274642;103.839313,1.276082;103.838767,1.275757;103.839196,1.275047;103.839858,1.274421;103.839857,1.274472;103.840526,1.274886;103.84006,1.273902;103.840056,1.273812;103.839248,1.273877;103.839248,1.273881;103.842323,1.280761;103.839875,1.287423;103.839787,1.28794;103.833546,1.280605;103.83888,1.27883;103.838325,1.276538;103.838553,1.275898;103.836817,1.277029;103.835588,1.275618;103.836658,1.277012;103.83643,1.277171;103.831919,1.276292;103.836996,1.277236;103.810324,1.2811;103.814775,1.281456;103.814191,1.281431;103.814186,1.281372;103.814212,1.281674;103.803924,1.273398;103.803883,1.276356;103.804367,1.281109;103.813543,1.27878;103.811153,1.275974;103.810459,1.276749;103.810772,1.275701;103.809029,1.277299;103.808512,1.276656;103.808863,1.276861;103.808188,1.2773;103.808689,1.276312;103.811353,1.273366;103.806797,1.276309;103.806689,1.273586;103.807289,1.273764;103.807402,1.273476;103.807426,1.277942;103.806722,1.277272;103.806713,1.276681;103.807547,1.276735;103.80696,1.27587;103.807027,1.275258;103.808118,1.27523;103.808237,1.274672;103.806581,1.272296;103.824339,1.266167;103.82313,1.266147;103.814914,1.269114;103.807143,1.271852;103.819168,1.275499;103.820026,1.275844;103.820118,1.277394;103.821006,1.277917;103.821555,1.277682;103.821178,1.277222;103.81758,1.278774;103.812637,1.270961;103.818315,1.269093;103.820341,1.269376;103.818583,1.267288;103.815774,1.269113;103.821875,1.268562;103.82571,1.276816;103.825689,1.276779;103.828114,1.275468;103.825322,1.275195;103.824938,1.276207;103.825399,1.273583;103.824242,1.274508;103.82388,1.269508;103.824182,1.270579;103.814785,1.273153;103.813907,1.269453;103.817561,1.277478;103.821638,1.282007;103.82149,1.282665;103.818532,1.283536;103.816837,1.283998;103.815674,1.284587;103.815109,1.284737;103.818637,1.284056;103.815701,1.284672;103.807494,1.285921;103.819495,1.284564;103.819211,1.283947;103.820444,1.286505;103.821261,1.286788;103.821692,1.286969;103.82176,1.287423;103.821746,1.287849;103.821636,1.288131;103.821093,1.28387;103.822937,1.284919;103.823133,1.285123;103.823827,1.284879;103.82317,1.284483;103.823648,1.283811;103.82213,1.283322;103.82336,1.286138;103.810316,1.286927;103.813383,1.290263;103.809223,1.28797;103.809182,1.288593;103.809901,1.288747;103.810248,1.288748;103.810248,1.288748;103.810336,1.286537;103.811439,1.286235;103.812922,1.285659;103.814581,1.28655;103.813851,1.289513;103.815204,1.289713;103.815728,1.289278;103.814526,1.289425;103.812028,1.29161;103.815076,1.289803;103.832422,1.277093;103.829281,1.277969;103.828131,1.279217;103.807229,1.287401;103.807305,1.287427;103.807555,1.287725;103.833857,1.285143;103.820167,1.288655;103.8195,1.288448;103.820868,1.290337;103.826214,1.285761;103.853438,1.323138;103.855516,1.323712;103.85579,1.322315;103.857551,1.327288;103.854561,1.327997;103.852514,1.313314;103.860396,1.322895;103.85919,1.320333;103.859297,1.319951;103.859574,1.320336;103.858483,1.320718;103.86006,1.321251;103.860318,1.321065;103.860281,1.321092;103.860437,1.319364;103.813291,1.280462;103.813245,1.280471;103.812873,1.280764;103.812452,1.280678;103.812203,1.2807;103.811506,1.28077;103.811178,1.280803;103.810852,1.280891;103.810447,1.280627;103.809703,1.28103;103.809335,1.28118;103.809046,1.281244;103.809002,1.281254;103.808848,1.281288;103.808606,1.28135;103.808285,1.281705;103.807844,1.281831;103.765905,1.310911;103.766369,1.310911;103.766943,1.310967;103.767267,1.311395;103.766898,1.3117;103.767318,1.312012;103.767063,1.312114;103.766754,1.31234;103.766426,1.312431;103.825654,1.280542;103.826623,1.281627;103.828893,1.280861;103.831267,1.287167;103.822197,1.289312;103.803855,1.28559;103.819618,1.276991;103.808202,1.273756;103.810207,1.27188;103.819042,1.277597;103.823765,1.271762;103.832155,1.28267;103.813248,1.293338;103.814538,1.292824;103.815,1.292253;103.814334,1.292945;103.814044,1.292418;103.814509,1.292502;103.83594,1.274491;103.842878,1.27642;103.800404,1.292508;103.800158,1.292902;103.799964,1.29324;103.799849,1.293588;103.800229,1.293242;103.80292,1.299216;103.803248,1.299592;103.802849,1.300167;103.804278,1.299014;103.805462,1.298293;103.806898,1.299058;103.808341,1.296833;103.808211,1.296809;103.808399,1.297441;103.81174,1.295641;103.812238,1.29556;103.812641,1.295494;103.811086,1.294927;103.811535,1.294856;103.8113,1.296193;103.8116,1.296481;103.812933,1.296221;103.806447,1.297431;103.805879,1.296908;103.806288,1.296637;103.806838,1.296747;103.807261,1.296648;103.806958,1.296229;103.804085,1.298626;103.804024,1.29839;103.80396,1.298512;103.804198,1.298241;103.804766,1.298463;103.805114,1.298017;103.805179,1.297698;103.805339,1.29764;103.805557,1.297561;103.804114,1.297537;103.822156,1.285809;103.829748,1.278042;103.829479,1.277522;103.828082,1.278645;103.826966,1.278825;103.826808,1.278886;103.827036,1.279551;103.770589,1.308051;103.769533,1.307546;103.769998,1.307893;103.769711,1.307981;103.768586,1.310892;103.767784,1.309766;103.767853,1.309407;103.767099,1.309376;103.769176,1.310358;103.769332,1.310134;103.770202,1.310388;103.768547,1.309959;103.768803,1.309216;103.76919,1.309076;103.769817,1.309182;103.770733,1.30943;103.771086,1.309439;103.771422,1.310581;103.770781,1.310474;103.809869,1.294417;103.809198,1.2945;103.762327,1.321287;103.763771,1.321935;103.766884,1.31884;103.766893,1.316812;103.770339,1.315455;103.767922,1.314379;103.769074,1.312981;103.770691,1.324038;103.786973,1.312708;103.7847,1.307203;103.78584,1.305608;103.783069,1.303386;103.759798,1.312298;103.761662,1.311483;103.77132,1.311174;103.792739,1.308377;103.797553,1.300931;103.801312,1.306599;103.806022,1.316918;103.783028,1.307529;103.782944,1.308206;103.783825,1.307942;103.785803,1.309381;103.786079,1.309133;103.786448,1.308287;103.785847,1.308439;103.785312,1.308485;103.784991,1.30908;103.784412,1.308567;103.784425,1.308602;103.783485,1.309017;103.783902,1.309725;103.784662,1.30936;103.784383,1.310185;103.784903,1.309718;103.765274,1.311169;103.764328,1.312928;103.764467,1.312712;103.764032,1.31572;103.763731,1.316493;103.763768,1.316652;103.765913,1.31895;103.765524,1.319626;103.765637,1.319824;103.765665,1.319719;103.764662,1.318877;103.764713,1.319652;103.763999,1.319395;103.764755,1.319252;103.771839,1.31304;103.771828,1.31241;103.792127,1.311138;103.791576,1.311184;103.7919,1.310232;103.79227,1.3099;103.792135,1.310268;103.792523,1.310771;103.796467,1.308861;103.758633,1.324824;103.796311,1.308154;103.797053,1.308656;103.796234,1.307438;103.796173,1.307459;103.794798,1.306247;103.795072,1.306728;103.796491,1.307682;103.797201,1.307277;103.79713,1.301398;103.7979,1.301555;103.796671,1.302013;103.79748,1.302387;103.797553,1.300931;103.798269,1.301364;103.798918,1.301126;103.798963,1.300439;103.799401,1.300636;103.798835,1.29995;103.799457,1.299797;103.79641,1.29883;103.797076,1.299433;103.79896,1.295739;103.798462,1.295978?annotations=distance,duration\n",
      "200\n",
      "Clusters assigned are: {0, 1, 2, 3, 4, 5, 6, 7, 8, 9, 10, 11, 12, 13, 14, 15, 16, 17, 18, 19, 20, 21, 22, 23, 24, 25, 26, 27, 28, 29, 30, 31, 32, 33, 34, 35, 36, 37, 38, 39, 40, 41, 42, 43, 44, 45, 46, 47, 48, 49, 50, 51, 52, 53, 54, 55, 56, 57, 58, 59, 60, 61, 62, 63, 64, 65, 66, 67, 68, 69, 70, 71, 72, 73, 74, 75, 76, 77, 78, 79, 80, 81, 82, 83, 84, 85, 86, 87, 88, 89, 90, 91, 92, 93, 94, 95, 96, 97, 98, 99, 100, 101, 102, 103, 104, 105, 106, 107, 108, 109, 110, 111, 112, 113, 114, 115, 116, 117, 118, 119, 120, 121, 122, 123, 124, 125, 126, 127, 128, 129, 130, 131, 132, 133, 134, 135, 136, 137, 138, 139, 140, 141, 142, 143, 144, 145, 146, 147, 148, 149, 150, 151, 152, 153, 154, 155, 156, 157, 158, 159, 160, 161, 162, 163, 164, 165, 166, 167, 168, 169, 170, 171, 172, 173, 174, 175, 176, 177, 178, 179, 180, 181, 182, 183, 184, 185, 186, 187, 188, 189, 190, 191, 192, 193, 194, 195, 196, 197, 198, 199, 200, 201, 202, 203, 204, 205, 206, 207, 208, 209, 210, 211, 212, 213, 214, 215, 216, 217, 218, 219, 220, 221, 222, 223, 224, 225, 226, 227, 228, 229, 230, 231, 232, 233, 234, 235, 236, 237, 238, 239, 240, 241, 242, 243, 244, 245, 246, 247, 248, 249, 250, 251, 252, 253, 254, 255, 256, 257, 258, 259, 260, 261, 262, 263, 264, 265, 266, 267, 268, 269, 270, 271, 272, 273, 274, 275, 276, 277, 278, 279, 280, 281, 282, 283, 284, 285, 286, 287, 288, 289, 290, 291, 292, 293, 294, 295, 296, 297, 298, 299, 300, 301, 302, 303, 304, 305, 306, 307, 308, 309, 310, 311, 312, 313, 314, 315, 316, 317, 318, 319, 320, 321, 322, 323, 324, 325, 326, 327, 328, 329, 330, 331, 332, 333, 334, 335, 336, 337, 338, 339, 340, 341, 342, 343, 344, 345, 346, 347, 348, 349, 350, 351, 352, 353, 354, 355, 356, 357, 358, 359, 360, 361, 362, 363, 364, 365, 366, 367, 368, 369, 370, 371, 372, 373, 374, 375, 376, 377, 378, 379, 380, 381, 382, 383, 384, 385, 386, 387, 388, 389, 390, 391, 392, 393, 394, 395, 396, 397, 398, 399, 400, 401, 402, 403, 404, 405, 406, 407, 408, 409, 410, 411, 412, 413, 414, 415, 416, 417, 418, 419, 420, 421, 422, 423, 424, 425, 426, 427, 428, 429, 430, 431, 432, 433, 434, 435, 436, 437, 438, 439, 440, 441, 442, 443, 444, 445, 446, 447, 448, 449, 450, 451, 452, 453, 454, 455, 456, 457, 458, 459, 460, 461, 462, 463, 464, 465, 466, 467, 468, 469, 470, 471, 472, 473, 474, 475, 476, 477, 478, 479, 480, 481, 482, 483, 484, 485, 486, 487, 488, 489, 490, 491, 492, 493, 494}\n",
      "before vehicle split clusters 495 split True\n",
      "after vehicle split clusters 496\n",
      "before timing split clusters 496\n",
      "after timing split clusters 496\n"
     ]
    }
   ],
   "source": [
    "\n",
    "veh_key = \"Allowed_Veh\"\n",
    "dbscan = DBScanClusterer(points, querycar)\n",
    "if solverConfig['useClusters'] == False:\n",
    "    dbscan.dbs_cluster(eps=1)\n",
    "dbscan.split_by_vehicle(split=True,veh_key=veh_key)\n",
    "dbscan.split_by_timing(find_overlaps=False)\n",
    "# dbscan.split_by_tonnage_recursive(tonnage_threshold=2000, initial_eps = 500, descent=100, column='Manpower',condition=3)\n",
    "# dbscan.split_by_tonnage_recursive(tonnage_threshold=6000, initial_eps=500, descent=50)\n",
    "cluster_midpoints, cluster_load, cluster_tw, cluster_restrictions, cluster_service_time, cluster_manpower = dbscan.find_cluster_characteristics()\n",
    "points = dbscan.points"
   ]
  },
  {
   "cell_type": "markdown",
   "metadata": {},
   "source": [
    "### Vehicle skills for vehicle after clustering"
   ]
  },
  {
   "cell_type": "code",
   "execution_count": 74,
   "metadata": {},
   "outputs": [],
   "source": [
    "vehicle_skills = {}\n",
    "for vid in fleet.id:\n",
    "    vehicle_skills[vid] = []\n",
    "\n",
    "for idx in range(0,len(cluster_midpoints)):\n",
    "    restrictions = cluster_restrictions[idx].split(',')\n",
    "    for r in restrictions:\n",
    "        vehicle_skills[int(r)].append(idx)\n",
    "    "
   ]
  },
  {
   "cell_type": "markdown",
   "metadata": {},
   "source": [
    "### Add Start Point and End Points"
   ]
  },
  {
   "cell_type": "code",
   "execution_count": 75,
   "metadata": {},
   "outputs": [
    {
     "name": "stdout",
     "output_type": "stream",
     "text": [
      "tuas@ 496\n",
      "ip@ 497\n"
     ]
    }
   ],
   "source": [
    "tuas_osmid, tuas_latlong = querycar.find_nearest(1.33469, 103.64579)\n",
    "ip_osmid, ip_latlong = querycar.find_nearest(1.29607, 103.62173)\n",
    "work_timewindows = [7*60*60,24*60*60]\n",
    "\n",
    "cluster_latlongs = cluster_midpoints.copy()\n",
    "cluster_latlongs.append(tuas_latlong)\n",
    "print(\"tuas@\",len(cluster_latlongs)-1)\n",
    "depot_idx = len(cluster_latlongs)-1\n",
    "cluster_latlongs.append(ip_latlong)\n",
    "print(\"ip@\",len(cluster_latlongs)-1)\n",
    "ip_idx = len(cluster_latlongs)-1"
   ]
  },
  {
   "cell_type": "markdown",
   "metadata": {},
   "source": [
    "### Calculate distance matrix"
   ]
  },
  {
   "cell_type": "code",
   "execution_count": 76,
   "metadata": {},
   "outputs": [
    {
     "name": "stdout",
     "output_type": "stream",
     "text": [
      "/table/v1/car/103.80332,1.297665;103.801706,1.299297;103.801294,1.298164;103.802995,1.297086;103.803496,1.294778;103.806086,1.293593;103.80412,1.295495;103.802664,1.291689;103.802472,1.29026;103.802284,1.297919;103.800725,1.296141;103.800915,1.291346;103.806718,1.29029;103.807823,1.287883;103.815047,1.289347;103.813202,1.287386;103.816379,1.286437;103.815199,1.285433;103.815807,1.28685;103.816388,1.287221;103.816903,1.286638;103.817013,1.2879;103.815593,1.288235;103.815524,1.288029;103.816096,1.288295;103.81649,1.28885;103.81703,1.28894;103.817579,1.288549;103.819357,1.287941;103.81935,1.287302;103.819121,1.28669;103.818874,1.28727;103.818841,1.285929;103.81865,1.285942;103.810687,1.292972;103.811905,1.292993;103.811382,1.294159;103.810932,1.294239;103.811594,1.293086;103.811608,1.293685;103.812281,1.293695;103.812345,1.29412;103.811322,1.29288;103.810391,1.29442;103.81033,1.29398;103.810534,1.295311;103.810399,1.295493;103.809913,1.295565;103.809425,1.295635;103.82325,1.290131;103.807079,1.294976;103.835634,1.284003;103.834667,1.286796;103.834665,1.285731;103.833204,1.283502;103.834235,1.283832;103.832352,1.282826;103.831655,1.282817;103.83076,1.282699;103.831007,1.282421;103.830108,1.282939;103.830524,1.282414;103.830398,1.282573;103.830296,1.282702;103.830139,1.2829;103.830088,1.282965;103.834043,1.285743;103.830316,1.283607;103.833133,1.2867;103.832745,1.287249;103.832284,1.286792;103.831917,1.286463;103.831362,1.287156;103.830845,1.286444;103.830137,1.286423;103.830158,1.287148;103.828771,1.286991;103.828778,1.286893;103.829577,1.286515;103.829195,1.286511;103.829063,1.286512;103.829646,1.28593;103.833011,1.285971;103.832313,1.286013;103.831691,1.285995;103.831074,1.285976;103.830454,1.285958;103.8276,1.290297;103.828573,1.289254;103.828828,1.289144;103.829478,1.289344;103.829495,1.290081;103.82899,1.290289;103.828599,1.290307;103.82814,1.290298;103.833072,1.289759;103.833149,1.288496;103.832661,1.288661;103.835605,1.289442;103.838189,1.288514;103.833498,1.28926;103.832702,1.289585;103.832441,1.289583;103.83062,1.289285;103.832233,1.289296;103.828075,1.28931;103.827365,1.289631;103.82988,1.287545;103.831169,1.29463;103.832309,1.295565;103.829443,1.28466;103.827489,1.283823;103.8262,1.283286;103.82781,1.281722;103.828027,1.282145;103.827896,1.28277;103.828697,1.282618;103.828814,1.2837;103.827666,1.283346;103.828322,1.282515;103.828797,1.283241;103.829074,1.283725;103.828333,1.283712;103.828268,1.280953;103.828746,1.280216;103.827527,1.280736;103.826029,1.28332;103.825225,1.283063;103.825794,1.282484;103.826325,1.282947;103.825553,1.283273;103.825024,1.282842;103.825265,1.282227;103.82485,1.282225;103.825048,1.282884;103.825965,1.283894;103.825423,1.281604;103.8258,1.282067;103.826142,1.282205;103.827002,1.282483;103.827133,1.28554;103.826096,1.285767;103.825892,1.285777;103.825749,1.284899;103.826519,1.284692;103.826806,1.284592;103.836293,1.284216;103.837334,1.286464;103.837883,1.286039;103.838799,1.287927;103.830948,1.290082;103.838915,1.276384;103.84084,1.274642;103.839313,1.276082;103.838767,1.275757;103.839196,1.275047;103.839858,1.274421;103.839857,1.274472;103.840526,1.274886;103.84006,1.273902;103.840056,1.273812;103.839248,1.273881;103.842323,1.280761;103.839875,1.287423;103.839787,1.28794;103.833546,1.280605;103.83888,1.27883;103.838325,1.276538;103.838553,1.275898;103.836817,1.277029;103.835588,1.275618;103.836658,1.277012;103.83643,1.277171;103.831919,1.276292;103.836996,1.277236;103.810324,1.2811;103.814775,1.281456;103.814191,1.281431;103.814186,1.281372;103.814212,1.281674;103.803924,1.273398;103.803883,1.276356;103.804367,1.281109;103.813543,1.27878;103.811153,1.275974;103.810459,1.276749;103.810772,1.275701;103.809029,1.277299;103.808512,1.276656;103.808863,1.276861;103.808188,1.2773;103.808689,1.276312;103.811353,1.273366;103.806797,1.276309;103.806689,1.273586;103.807289,1.273764;103.807402,1.273476;103.807426,1.277942;103.806722,1.277272;103.806713,1.276681;103.807547,1.276735;103.80696,1.27587;103.807027,1.275258;103.808118,1.27523;103.808237,1.274672;103.806581,1.272296;103.824339,1.266167;103.82313,1.266147;103.814914,1.269114;103.807143,1.271852;103.819168,1.275499;103.820026,1.275844;103.820118,1.277394;103.821006,1.277917;103.821555,1.277682;103.821178,1.277222;103.81758,1.278774;103.812637,1.270961;103.818315,1.269093;103.820341,1.269376;103.818583,1.267288;103.815774,1.269113;103.821875,1.268562;103.82571,1.276816;103.825689,1.276779;103.828114,1.275468;103.825322,1.275195;103.824938,1.276207;103.825399,1.273583;103.824242,1.274508;103.82388,1.269508;103.824182,1.270579;103.814785,1.273153;103.813907,1.269453;103.817561,1.277478;103.821638,1.282007;103.82149,1.282665;103.818532,1.283536;103.816837,1.283998;103.815674,1.284587;103.815109,1.284737;103.818637,1.284056;103.815701,1.284672;103.807494,1.285921;103.819495,1.284564;103.819211,1.283947;103.820444,1.286505;103.821261,1.286788;103.821692,1.286969;103.82176,1.287423;103.821746,1.287849;103.821636,1.288131;103.821093,1.28387;103.822937,1.284919;103.823133,1.285123;103.823827,1.284879;103.82317,1.284483;103.823648,1.283811;103.82213,1.283322;103.82336,1.286138;103.810316,1.286927;103.813383,1.290263;103.809223,1.28797;103.809182,1.288593;103.809901,1.288747;103.810248,1.288748;103.810336,1.286537;103.811439,1.286235;103.812922,1.285659;103.814581,1.28655;103.813851,1.289513;103.815204,1.289713;103.815728,1.289278;103.814526,1.289425;103.812028,1.29161;103.815076,1.289803;103.832422,1.277093;103.829281,1.277969;103.828131,1.279217;103.807229,1.287401;103.807305,1.287427;103.807555,1.287725;103.833857,1.285143;103.820167,1.288655;103.8195,1.288448;103.820868,1.290337;103.826214,1.285761;103.853438,1.323138;103.855516,1.323712;103.85579,1.322315;103.857551,1.327288;103.854561,1.327997;103.852514,1.313314;103.860396,1.322895;103.85919,1.320333;103.859297,1.319951;103.859574,1.320336;103.858483,1.320718;103.86006,1.321251;103.860318,1.321065;103.860281,1.321092;103.860437,1.319364;103.813291,1.280462;103.813245,1.280471;103.812873,1.280764;103.812452,1.280678;103.812203,1.2807;103.811506,1.28077;103.811178,1.280803;103.810852,1.280891;103.810447,1.280627;103.809703,1.28103;103.809335,1.28118;103.809046,1.281244;103.809002,1.281254;103.808848,1.281288;103.808606,1.28135;103.808285,1.281705;103.807844,1.281831;103.765905,1.310911;103.766369,1.310911;103.766943,1.310967;103.767267,1.311395;103.766898,1.3117;103.767318,1.312012;103.767063,1.312114;103.766754,1.31234;103.766426,1.312431;103.825654,1.280542;103.826623,1.281627;103.828893,1.280861;103.831267,1.287167;103.822197,1.289312;103.803855,1.28559;103.819618,1.276991;103.808202,1.273756;103.810207,1.27188;103.819042,1.277597;103.823765,1.271762;103.832155,1.28267;103.813248,1.293338;103.814538,1.292824;103.815,1.292253;103.814334,1.292945;103.814044,1.292418;103.814509,1.292502;103.83594,1.274491;103.842878,1.27642;103.800404,1.292508;103.800158,1.292902;103.799964,1.29324;103.799849,1.293588;103.800229,1.293242;103.80292,1.299216;103.803248,1.299592;103.802849,1.300167;103.804278,1.299014;103.805462,1.298293;103.806898,1.299058;103.808341,1.296833;103.808211,1.296809;103.808399,1.297441;103.81174,1.295641;103.812238,1.29556;103.812641,1.295494;103.811086,1.294927;103.811535,1.294856;103.8113,1.296193;103.8116,1.296481;103.812933,1.296221;103.806447,1.297431;103.805879,1.296908;103.806288,1.296637;103.806838,1.296747;103.807261,1.296648;103.806958,1.296229;103.804085,1.298626;103.804024,1.29839;103.80396,1.298512;103.804198,1.298241;103.804766,1.298463;103.805114,1.298017;103.805179,1.297698;103.805339,1.29764;103.805557,1.297561;103.804114,1.297537;103.822156,1.285809;103.829748,1.278042;103.829479,1.277522;103.828082,1.278645;103.826966,1.278825;103.826808,1.278886;103.827036,1.279551;103.770589,1.308051;103.769533,1.307546;103.769998,1.307893;103.769711,1.307981;103.768586,1.310892;103.767784,1.309766;103.767853,1.309407;103.767099,1.309376;103.769176,1.310358;103.769332,1.310134;103.770202,1.310388;103.768547,1.309959;103.768803,1.309216;103.76919,1.309076;103.769817,1.309182;103.770733,1.30943;103.771086,1.309439;103.771422,1.310581;103.770781,1.310474;103.809869,1.294417;103.809198,1.2945;103.762327,1.321287;103.763771,1.321935;103.766884,1.31884;103.766893,1.316812;103.770339,1.315455;103.767922,1.314379;103.769074,1.312981;103.770691,1.324038;103.786973,1.312708;103.7847,1.307203;103.78584,1.305608;103.783069,1.303386;103.759798,1.312298;103.761662,1.311483;103.77132,1.311174;103.792739,1.308377;103.797553,1.300931;103.801312,1.306599;103.806022,1.316918;103.783028,1.307529;103.782944,1.308206;103.783825,1.307942;103.785803,1.309381;103.786079,1.309133;103.786448,1.308287;103.785847,1.308439;103.785312,1.308485;103.784991,1.30908;103.784412,1.308567;103.784425,1.308602;103.783485,1.309017;103.783902,1.309725;103.784662,1.30936;103.784383,1.310185;103.784903,1.309718;103.765274,1.311169;103.764328,1.312928;103.764467,1.312712;103.764032,1.31572;103.763731,1.316493;103.763768,1.316652;103.765913,1.31895;103.765524,1.319626;103.765637,1.319824;103.765665,1.319719;103.764662,1.318877;103.764713,1.319652;103.763999,1.319395;103.764755,1.319252;103.771839,1.31304;103.771828,1.31241;103.792127,1.311138;103.791576,1.311184;103.7919,1.310232;103.79227,1.3099;103.792135,1.310268;103.792523,1.310771;103.796467,1.308861;103.758633,1.324824;103.796311,1.308154;103.797053,1.308656;103.796234,1.307438;103.796173,1.307459;103.794798,1.306247;103.795072,1.306728;103.796491,1.307682;103.797201,1.307277;103.79713,1.301398;103.7979,1.301555;103.796671,1.302013;103.79748,1.302387;103.798269,1.301364;103.798918,1.301126;103.798963,1.300439;103.799401,1.300636;103.798835,1.29995;103.799457,1.299797;103.79641,1.29883;103.797076,1.299433;103.79896,1.295739;103.798462,1.295978;103.797553,1.300931;103.645796,1.334696;103.621713,1.296095?annotations=distance,duration\n",
      "200\n"
     ]
    }
   ],
   "source": [
    "dist_matrix, time_matrix = querycar.find_matrix(cluster_latlongs)\n",
    "time_matrix = time_matrix*60\n",
    "# time_matrix[0:500,500] = time_matrix[0:500,500]+10*60*60\n",
    "# time_matrix[500,0:500] = time_matrix[500,0:500]+10*60*60\n",
    "\n",
    "dist_matrix = dist_matrix.astype(\"int64\").tolist()\n",
    "time_matrix = time_matrix.astype(\"int64\").tolist()"
   ]
  },
  {
   "cell_type": "markdown",
   "metadata": {},
   "source": [
    "### Add Vehicles"
   ]
  },
  {
   "cell_type": "code",
   "execution_count": 77,
   "metadata": {},
   "outputs": [
    {
     "data": {
      "text/html": [
       "<div>\n",
       "<style scoped>\n",
       "    .dataframe tbody tr th:only-of-type {\n",
       "        vertical-align: middle;\n",
       "    }\n",
       "\n",
       "    .dataframe tbody tr th {\n",
       "        vertical-align: top;\n",
       "    }\n",
       "\n",
       "    .dataframe thead th {\n",
       "        text-align: right;\n",
       "    }\n",
       "</style>\n",
       "<table border=\"1\" class=\"dataframe\">\n",
       "  <thead>\n",
       "    <tr style=\"text-align: right;\">\n",
       "      <th></th>\n",
       "      <th>id</th>\n",
       "      <th>Name</th>\n",
       "      <th>Vehicle_Type</th>\n",
       "      <th>Route_ID</th>\n",
       "      <th>Max_Trips</th>\n",
       "      <th>Manpower</th>\n",
       "      <th>Depot</th>\n",
       "      <th>Break_Time</th>\n",
       "      <th>Current_Lat</th>\n",
       "      <th>Current_Long</th>\n",
       "      <th>Current_Tonnage</th>\n",
       "      <th>Start_Time</th>\n",
       "      <th>End_Time</th>\n",
       "      <th>vehicleCapacity</th>\n",
       "      <th>vehicleRange</th>\n",
       "      <th>Capacity</th>\n",
       "    </tr>\n",
       "  </thead>\n",
       "  <tbody>\n",
       "    <tr>\n",
       "      <th>0</th>\n",
       "      <td>0</td>\n",
       "      <td>XE6239D</td>\n",
       "      <td>8x2</td>\n",
       "      <td>0</td>\n",
       "      <td>3</td>\n",
       "      <td>3</td>\n",
       "      <td>0</td>\n",
       "      <td>12</td>\n",
       "      <td>1.3344</td>\n",
       "      <td>103.64579</td>\n",
       "      <td>0</td>\n",
       "      <td>00:00</td>\n",
       "      <td>00:00</td>\n",
       "      <td>16000</td>\n",
       "      <td>300000</td>\n",
       "      <td>16000</td>\n",
       "    </tr>\n",
       "    <tr>\n",
       "      <th>1</th>\n",
       "      <td>2</td>\n",
       "      <td>XE5596D</td>\n",
       "      <td>6x4</td>\n",
       "      <td>2</td>\n",
       "      <td>3</td>\n",
       "      <td>3</td>\n",
       "      <td>0</td>\n",
       "      <td>12</td>\n",
       "      <td>1.3344</td>\n",
       "      <td>103.64579</td>\n",
       "      <td>0</td>\n",
       "      <td>00:00</td>\n",
       "      <td>00:00</td>\n",
       "      <td>12000</td>\n",
       "      <td>300000</td>\n",
       "      <td>12000</td>\n",
       "    </tr>\n",
       "    <tr>\n",
       "      <th>2</th>\n",
       "      <td>3</td>\n",
       "      <td>XE5988G</td>\n",
       "      <td>6x4</td>\n",
       "      <td>3</td>\n",
       "      <td>3</td>\n",
       "      <td>3</td>\n",
       "      <td>0</td>\n",
       "      <td>12</td>\n",
       "      <td>1.3344</td>\n",
       "      <td>103.64579</td>\n",
       "      <td>0</td>\n",
       "      <td>00:00</td>\n",
       "      <td>00:00</td>\n",
       "      <td>12000</td>\n",
       "      <td>300000</td>\n",
       "      <td>12000</td>\n",
       "    </tr>\n",
       "    <tr>\n",
       "      <th>3</th>\n",
       "      <td>4</td>\n",
       "      <td>XE6059G</td>\n",
       "      <td>8x2</td>\n",
       "      <td>4</td>\n",
       "      <td>3</td>\n",
       "      <td>2</td>\n",
       "      <td>0</td>\n",
       "      <td>12</td>\n",
       "      <td>1.3344</td>\n",
       "      <td>103.64579</td>\n",
       "      <td>0</td>\n",
       "      <td>00:00</td>\n",
       "      <td>00:00</td>\n",
       "      <td>16000</td>\n",
       "      <td>300000</td>\n",
       "      <td>16000</td>\n",
       "    </tr>\n",
       "    <tr>\n",
       "      <th>4</th>\n",
       "      <td>5</td>\n",
       "      <td>XE6193B</td>\n",
       "      <td>8x2</td>\n",
       "      <td>5</td>\n",
       "      <td>3</td>\n",
       "      <td>2</td>\n",
       "      <td>0</td>\n",
       "      <td>12</td>\n",
       "      <td>1.3344</td>\n",
       "      <td>103.64579</td>\n",
       "      <td>0</td>\n",
       "      <td>00:00</td>\n",
       "      <td>00:00</td>\n",
       "      <td>16000</td>\n",
       "      <td>300000</td>\n",
       "      <td>16000</td>\n",
       "    </tr>\n",
       "    <tr>\n",
       "      <th>5</th>\n",
       "      <td>6</td>\n",
       "      <td>XE6015H</td>\n",
       "      <td>6x4</td>\n",
       "      <td>6</td>\n",
       "      <td>3</td>\n",
       "      <td>2</td>\n",
       "      <td>0</td>\n",
       "      <td>12</td>\n",
       "      <td>1.3344</td>\n",
       "      <td>103.64579</td>\n",
       "      <td>0</td>\n",
       "      <td>00:00</td>\n",
       "      <td>00:00</td>\n",
       "      <td>12000</td>\n",
       "      <td>300000</td>\n",
       "      <td>12000</td>\n",
       "    </tr>\n",
       "    <tr>\n",
       "      <th>6</th>\n",
       "      <td>7</td>\n",
       "      <td>XE6131E</td>\n",
       "      <td>8x2</td>\n",
       "      <td>7</td>\n",
       "      <td>3</td>\n",
       "      <td>2</td>\n",
       "      <td>0</td>\n",
       "      <td>12</td>\n",
       "      <td>1.3344</td>\n",
       "      <td>103.64579</td>\n",
       "      <td>0</td>\n",
       "      <td>00:00</td>\n",
       "      <td>00:00</td>\n",
       "      <td>16000</td>\n",
       "      <td>300000</td>\n",
       "      <td>16000</td>\n",
       "    </tr>\n",
       "    <tr>\n",
       "      <th>7</th>\n",
       "      <td>8</td>\n",
       "      <td>XE6350P</td>\n",
       "      <td>8x2</td>\n",
       "      <td>8</td>\n",
       "      <td>3</td>\n",
       "      <td>2</td>\n",
       "      <td>0</td>\n",
       "      <td>12</td>\n",
       "      <td>1.3344</td>\n",
       "      <td>103.64579</td>\n",
       "      <td>0</td>\n",
       "      <td>00:00</td>\n",
       "      <td>00:00</td>\n",
       "      <td>16000</td>\n",
       "      <td>300000</td>\n",
       "      <td>16000</td>\n",
       "    </tr>\n",
       "  </tbody>\n",
       "</table>\n",
       "</div>"
      ],
      "text/plain": [
       "   id     Name Vehicle_Type  Route_ID  Max_Trips  Manpower  Depot  Break_Time  \\\n",
       "0   0  XE6239D          8x2         0          3         3      0          12   \n",
       "1   2  XE5596D          6x4         2          3         3      0          12   \n",
       "2   3  XE5988G          6x4         3          3         3      0          12   \n",
       "3   4  XE6059G          8x2         4          3         2      0          12   \n",
       "4   5  XE6193B          8x2         5          3         2      0          12   \n",
       "5   6  XE6015H          6x4         6          3         2      0          12   \n",
       "6   7  XE6131E          8x2         7          3         2      0          12   \n",
       "7   8  XE6350P          8x2         8          3         2      0          12   \n",
       "\n",
       "  Current_Lat Current_Long Current_Tonnage Start_Time End_Time  \\\n",
       "0      1.3344    103.64579               0      00:00    00:00   \n",
       "1      1.3344    103.64579               0      00:00    00:00   \n",
       "2      1.3344    103.64579               0      00:00    00:00   \n",
       "3      1.3344    103.64579               0      00:00    00:00   \n",
       "4      1.3344    103.64579               0      00:00    00:00   \n",
       "5      1.3344    103.64579               0      00:00    00:00   \n",
       "6      1.3344    103.64579               0      00:00    00:00   \n",
       "7      1.3344    103.64579               0      00:00    00:00   \n",
       "\n",
       "   vehicleCapacity  vehicleRange  Capacity  \n",
       "0            16000        300000     16000  \n",
       "1            12000        300000     12000  \n",
       "2            12000        300000     12000  \n",
       "3            16000        300000     16000  \n",
       "4            16000        300000     16000  \n",
       "5            12000        300000     12000  \n",
       "6            16000        300000     16000  \n",
       "7            16000        300000     16000  "
      ]
     },
     "execution_count": 77,
     "metadata": {},
     "output_type": "execute_result"
    }
   ],
   "source": [
    "fleet"
   ]
  },
  {
   "cell_type": "code",
   "execution_count": 78,
   "metadata": {},
   "outputs": [],
   "source": [
    "vehicles = []\n",
    "for idx, veh in fleet.iterrows():\n",
    "    v = Vehicle(veh['id'], 'car', \n",
    "                start =None, start_index=int(depot_idx), \n",
    "                end =None, end_index=int(depot_idx), \n",
    "                capacity=[int(veh[\"Capacity\"])], costs=None,\n",
    "                skills = vehicle_skills[veh['id']],\n",
    "                time_window=[7*60*60,19*60*60], max_tasks=None,\n",
    "                max_travel_time=None,\n",
    "                max_distance=300000).to_dict()\n",
    "    vehicles.append(v)"
   ]
  },
  {
   "cell_type": "code",
   "execution_count": 79,
   "metadata": {},
   "outputs": [
    {
     "data": {
      "text/plain": [
       "dict_keys(['routesToBreak', 'routesToOptimize', 'pointsToAssign', 'vehiclesInvolved', 'depotData', 'solverConfig', 'allVehicleTypes'])"
      ]
     },
     "execution_count": 79,
     "metadata": {},
     "output_type": "execute_result"
    }
   ],
   "source": [
    "data.keys()"
   ]
  },
  {
   "cell_type": "markdown",
   "metadata": {},
   "source": [
    "### Add pickup delivery (cluster)"
   ]
  },
  {
   "cell_type": "code",
   "execution_count": 80,
   "metadata": {},
   "outputs": [],
   "source": [
    "shipments = []\n",
    "for idx in range(0,len(cluster_midpoints)):\n",
    "    amount = [cluster_load[idx]]\n",
    "    skills = [idx]\n",
    "    pickup_step = Shipment_Step(id=idx,\n",
    "                                description = str(\"cluster\")+str(idx),\n",
    "                                location = None,\n",
    "                                location_index = idx,\n",
    "                                setup = None,\n",
    "                                service = int(cluster_service_time[idx])*60,\n",
    "                                time_windows = [[int(cluster_tw[idx][0])*60*60, int(cluster_tw[idx][1])*60*60]]).to_dict()\n",
    "    delivery_step = Shipment_Step(id=len(cluster_midpoints)+2+idx,\n",
    "                                  description = \"IP\",\n",
    "                                  location= None,\n",
    "                                  location_index= ip_idx,\n",
    "                                  setup = 20*60,\n",
    "                                  service= None,\n",
    "                                  time_windows = [[7*60*60, 24*60*60]]).to_dict()\n",
    "    ship = Shipment(pickup_step=pickup_step, delivery_step=delivery_step, amount=amount, skills=skills, priority=0).to_dict()\n",
    "    shipments.append(ship)\n",
    "\n",
    "\n",
    "    matrix = Matrix(duration_matrix = time_matrix, distance_matrix=None, cost_matrix=None).to_dict()\n"
   ]
  },
  {
   "cell_type": "code",
   "execution_count": 81,
   "metadata": {},
   "outputs": [],
   "source": [
    "data = sendData(jobs=[],shipments=shipments,vehicles=vehicles,matrices=matrix).to_dict()\n",
    "data = json.dumps(data, indent=2, default=int)\n",
    "data = json.loads(data)\n",
    "output = solve(data)"
   ]
  },
  {
   "cell_type": "code",
   "execution_count": 82,
   "metadata": {},
   "outputs": [
    {
     "data": {
      "text/plain": [
       "{'cost': 100680,\n",
       " 'routes': 8,\n",
       " 'unassigned': 38,\n",
       " 'delivery': [212730],\n",
       " 'amount': [212730],\n",
       " 'pickup': [212730],\n",
       " 'setup': 27600,\n",
       " 'service': 179340,\n",
       " 'duration': 100680,\n",
       " 'waiting_time': 0,\n",
       " 'priority': 0,\n",
       " 'violations': [],\n",
       " 'computing_times': {'loading': 8, 'solving': 23594, 'routing': 0}}"
      ]
     },
     "execution_count": 82,
     "metadata": {},
     "output_type": "execute_result"
    }
   ],
   "source": [
    "output[\"summary\"]"
   ]
  },
  {
   "cell_type": "code",
   "execution_count": 83,
   "metadata": {},
   "outputs": [],
   "source": [
    "def sec2time(seconds):\n",
    "    hours = seconds // 3600\n",
    "    remaining_seconds = seconds % 3600\n",
    "    minutes = remaining_seconds // 60\n",
    "    return '{:02d}:{:02d}'.format(hours,minutes)"
   ]
  },
  {
   "cell_type": "code",
   "execution_count": 84,
   "metadata": {},
   "outputs": [],
   "source": [
    "total_assignment = {}\n",
    "\n",
    "for k in range(0,len(output['routes'])):\n",
    "    assignment = {}\n",
    "    time = []\n",
    "    route = []\n",
    "    for i in output['routes'][k][\"steps\"]:\n",
    "        route.append(i[\"location_index\"])\n",
    "        time.append(sec2time(i['arrival']))\n",
    "        # if i[\"location_index\"] == depot_idx:\n",
    "        #     route.append(\"DP\")\n",
    "        # elif i[\"location_index\"] > depot_idx:\n",
    "        #     route.append(\"IP\")\n",
    "        # else:\n",
    "        #     route.append(i[\"load\"][0])\n",
    "    route = [route[i] for i in range(len(route)) if i == 0 or route[i] != route[i - 1]]\n",
    "    time = [time[i] for i in range(len(time)) if i == 0 or time[i] != time[i - 1]]\n",
    "    assignment['time'] = time\n",
    "    assignment['route'] = route\n",
    "    total_assignment[fleet.loc[fleet[\"id\"]==output['routes'][k]['vehicle'],\"Name\"].tolist()[0]] = assignment\n"
   ]
  },
  {
   "cell_type": "code",
   "execution_count": 85,
   "metadata": {},
   "outputs": [],
   "source": [
    "from tsp import run_tsp\n",
    "\n",
    "def get_cluster_latlongs(cluster_latlongs, cluster_id):\n",
    "    if cluster_id>=len(cluster_latlongs):\n",
    "        return cluster_latlongs[-1]\n",
    "    else:\n",
    "        return cluster_latlongs[cluster_id]\n",
    "\n",
    "def find_order_tsp(points, cluster_latlongs, querycar, prev_cluster, current_cluster,next_cluster):\n",
    "    start = get_cluster_latlongs(cluster_latlongs, prev_cluster)\n",
    "    end = get_cluster_latlongs(cluster_latlongs, next_cluster)\n",
    "    locations = points.loc[points[\"Network_Cluster\"]==current_cluster,\"Node_Latlong\"].tolist()\n",
    "    if len(locations)>1:\n",
    "        # print(prev_cluster,current_cluster,next_cluster)\n",
    "        #create node list\n",
    "        node_list = [start]+locations+[end]\n",
    "        #generate distance matrix from node list\n",
    "        dist_matrix, time_matrix = querycar.find_matrix(node_list)\n",
    "        #run tsp\n",
    "        r = run_tsp(dist_matrix)[0:-1] # remove the addition of startpoint and endpoint\n",
    "        r = [n-1 for n in r]\n",
    "        out = points.loc[points[\"Network_Cluster\"]==current_cluster]\n",
    "        out = out.reset_index().iloc[r]\n",
    "    else:\n",
    "        out = points.loc[points[\"Network_Cluster\"]==current_cluster]\n",
    "    return out"
   ]
  },
  {
   "cell_type": "code",
   "execution_count": 86,
   "metadata": {},
   "outputs": [
    {
     "name": "stdout",
     "output_type": "stream",
     "text": [
      "/table/v1/car/103.807079,1.294976;103.82325,1.290131;103.82325,1.290131;103.813202,1.287386?annotations=distance,duration\n",
      "200\n",
      "Solver status:  1\n",
      "/table/v1/car/103.838767,1.275757;103.839248,1.273877;103.839248,1.273881;103.840056,1.273812?annotations=distance,duration\n",
      "200\n",
      "Solver status:  1\n",
      "/table/v1/car/103.809901,1.288747;103.810248,1.288748;103.810248,1.288748;103.809182,1.288593?annotations=distance,duration\n",
      "200\n",
      "Solver status:  1\n"
     ]
    }
   ],
   "source": [
    "for v in total_assignment:\n",
    "    cluster_nodes = total_assignment[v]['route']\n",
    "    expanded = []\n",
    "    for idx, cluster in enumerate(cluster_nodes):\n",
    "        if cluster == depot_idx:\n",
    "            expanded.append(\"DP\")\n",
    "        elif cluster == ip_idx:\n",
    "            expanded.append(\"IP\")\n",
    "        else:\n",
    "            if idx>0 and idx<len(cluster_nodes):\n",
    "                start = cluster_nodes[idx-1]\n",
    "                current = cluster_nodes[idx]\n",
    "                end = cluster_nodes[idx+1]\n",
    "                try:\n",
    "                    locations = find_order_tsp(points, cluster_latlongs, querycar, start, current, end)\n",
    "                except Exception as e:\n",
    "                    print(e)\n",
    "                    locations = points[points[\"Network_Cluster\"]==cluster]\n",
    "                expanded+=locations.id.tolist()\n",
    "    total_assignment[v][\"points_id\"]= expanded"
   ]
  },
  {
   "cell_type": "code",
   "execution_count": 87,
   "metadata": {},
   "outputs": [],
   "source": [
    "unassigned= [ua for ua in output[\"unassigned\"] if ua[\"type\"] == \"pickup\"] \n",
    "\n",
    "expanded = []\n",
    "for u in unassigned:\n",
    "    locations = points[points[\"Network_Cluster\"]==u['id']]\n",
    "    expanded += locations.id.tolist()\n",
    "\n",
    "total_assignment[\"unassigned\"] = {}\n",
    "total_assignment[\"unassigned\"][\"points_id\"] = expanded"
   ]
  },
  {
   "cell_type": "code",
   "execution_count": 88,
   "metadata": {},
   "outputs": [
    {
     "name": "stdout",
     "output_type": "stream",
     "text": [
      "[{'id': 412, 'location_index': 412, 'type': 'pickup', 'description': 'cluster412'}, {'id': 388, 'location_index': 388, 'type': 'pickup', 'description': 'cluster388'}, {'id': 387, 'location_index': 387, 'type': 'pickup', 'description': 'cluster387'}, {'id': 386, 'location_index': 386, 'type': 'pickup', 'description': 'cluster386'}, {'id': 368, 'location_index': 368, 'type': 'pickup', 'description': 'cluster368'}, {'id': 367, 'location_index': 367, 'type': 'pickup', 'description': 'cluster367'}, {'id': 352, 'location_index': 352, 'type': 'pickup', 'description': 'cluster352'}, {'id': 351, 'location_index': 351, 'type': 'pickup', 'description': 'cluster351'}, {'id': 350, 'location_index': 350, 'type': 'pickup', 'description': 'cluster350'}, {'id': 349, 'location_index': 349, 'type': 'pickup', 'description': 'cluster349'}, {'id': 348, 'location_index': 348, 'type': 'pickup', 'description': 'cluster348'}, {'id': 291, 'location_index': 291, 'type': 'pickup', 'description': 'cluster291'}, {'id': 290, 'location_index': 290, 'type': 'pickup', 'description': 'cluster290'}, {'id': 288, 'location_index': 288, 'type': 'pickup', 'description': 'cluster288'}, {'id': 109, 'location_index': 109, 'type': 'pickup', 'description': 'cluster109'}, {'id': 148, 'location_index': 148, 'type': 'pickup', 'description': 'cluster148'}, {'id': 149, 'location_index': 149, 'type': 'pickup', 'description': 'cluster149'}, {'id': 150, 'location_index': 150, 'type': 'pickup', 'description': 'cluster150'}, {'id': 164, 'location_index': 164, 'type': 'pickup', 'description': 'cluster164'}]\n"
     ]
    }
   ],
   "source": [
    "print(unassigned )"
   ]
  },
  {
   "cell_type": "code",
   "execution_count": 89,
   "metadata": {},
   "outputs": [
    {
     "data": {
      "text/html": [
       "<div>\n",
       "<style scoped>\n",
       "    .dataframe tbody tr th:only-of-type {\n",
       "        vertical-align: middle;\n",
       "    }\n",
       "\n",
       "    .dataframe tbody tr th {\n",
       "        vertical-align: top;\n",
       "    }\n",
       "\n",
       "    .dataframe thead th {\n",
       "        text-align: right;\n",
       "    }\n",
       "</style>\n",
       "<table border=\"1\" class=\"dataframe\">\n",
       "  <thead>\n",
       "    <tr style=\"text-align: right;\">\n",
       "      <th></th>\n",
       "      <th>id</th>\n",
       "      <th>Name</th>\n",
       "      <th>Depot</th>\n",
       "      <th>Vehicle_Type</th>\n",
       "      <th>Max_Trips</th>\n",
       "      <th>Manpower</th>\n",
       "      <th>Points_Count</th>\n",
       "    </tr>\n",
       "  </thead>\n",
       "  <tbody>\n",
       "    <tr>\n",
       "      <th>0</th>\n",
       "      <td>0</td>\n",
       "      <td>R16X</td>\n",
       "      <td>0</td>\n",
       "      <td>2</td>\n",
       "      <td>3</td>\n",
       "      <td>2</td>\n",
       "      <td>52</td>\n",
       "    </tr>\n",
       "    <tr>\n",
       "      <th>1</th>\n",
       "      <td>2</td>\n",
       "      <td>R18</td>\n",
       "      <td>0</td>\n",
       "      <td>1</td>\n",
       "      <td>3</td>\n",
       "      <td>3</td>\n",
       "      <td>60</td>\n",
       "    </tr>\n",
       "    <tr>\n",
       "      <th>2</th>\n",
       "      <td>3</td>\n",
       "      <td>R20X</td>\n",
       "      <td>0</td>\n",
       "      <td>1</td>\n",
       "      <td>3</td>\n",
       "      <td>3</td>\n",
       "      <td>78</td>\n",
       "    </tr>\n",
       "    <tr>\n",
       "      <th>3</th>\n",
       "      <td>4</td>\n",
       "      <td>R22</td>\n",
       "      <td>0</td>\n",
       "      <td>2</td>\n",
       "      <td>3</td>\n",
       "      <td>2</td>\n",
       "      <td>41</td>\n",
       "    </tr>\n",
       "    <tr>\n",
       "      <th>4</th>\n",
       "      <td>5</td>\n",
       "      <td>R23X</td>\n",
       "      <td>0</td>\n",
       "      <td>2</td>\n",
       "      <td>3</td>\n",
       "      <td>2</td>\n",
       "      <td>20</td>\n",
       "    </tr>\n",
       "    <tr>\n",
       "      <th>5</th>\n",
       "      <td>6</td>\n",
       "      <td>R24</td>\n",
       "      <td>0</td>\n",
       "      <td>1</td>\n",
       "      <td>3</td>\n",
       "      <td>2</td>\n",
       "      <td>66</td>\n",
       "    </tr>\n",
       "    <tr>\n",
       "      <th>6</th>\n",
       "      <td>7</td>\n",
       "      <td>R25X</td>\n",
       "      <td>0</td>\n",
       "      <td>2</td>\n",
       "      <td>3</td>\n",
       "      <td>2</td>\n",
       "      <td>19</td>\n",
       "    </tr>\n",
       "    <tr>\n",
       "      <th>7</th>\n",
       "      <td>8</td>\n",
       "      <td>R26X</td>\n",
       "      <td>0</td>\n",
       "      <td>2</td>\n",
       "      <td>3</td>\n",
       "      <td>2</td>\n",
       "      <td>63</td>\n",
       "    </tr>\n",
       "  </tbody>\n",
       "</table>\n",
       "</div>"
      ],
      "text/plain": [
       "   id  Name  Depot  Vehicle_Type  Max_Trips  Manpower  Points_Count\n",
       "0   0  R16X      0             2          3         2            52\n",
       "1   2   R18      0             1          3         3            60\n",
       "2   3  R20X      0             1          3         3            78\n",
       "3   4   R22      0             2          3         2            41\n",
       "4   5  R23X      0             2          3         2            20\n",
       "5   6   R24      0             1          3         2            66\n",
       "6   7  R25X      0             2          3         2            19\n",
       "7   8  R26X      0             2          3         2            63"
      ]
     },
     "execution_count": 89,
     "metadata": {},
     "output_type": "execute_result"
    }
   ],
   "source": [
    "routeopt"
   ]
  },
  {
   "cell_type": "code",
   "execution_count": 90,
   "metadata": {},
   "outputs": [],
   "source": [
    "##make sure uid is \n",
    "points.set_index('id', inplace=True)\n",
    "fleet.set_index('id', inplace=True)\n",
    "vtypes.set_index('id', inplace=True)\n",
    "depots.set_index('id', inplace=True)\n",
    "ips.set_index('id', inplace=True)\n",
    "total_routes.set_index('id', inplace=True)\n"
   ]
  },
  {
   "cell_type": "code",
   "execution_count": 91,
   "metadata": {},
   "outputs": [],
   "source": [
    "output = {}\n",
    "\n",
    "output[\"points\"] = points.to_dict() \n",
    "output[\"fleet\"] = fleet.to_dict()\n",
    "output['vtypes'] = vtypes.to_dict()\n",
    "output[\"depots\"] = depots.to_dict()\n",
    "output[\"ips\"] = ips.to_dict()\n",
    "output[\"assignment\"] = total_assignment\n",
    "output[\"total_routes\"] = total_routes.to_dict()\n",
    "\n",
    "\n",
    "output[\"assignment\"] = total_assignment"
   ]
  },
  {
   "cell_type": "code",
   "execution_count": 92,
   "metadata": {},
   "outputs": [],
   "source": [
    "import json\n",
    "with open(r\"C:\\Users\\clement.lork\\Documents\\Sembwaste_Routing\\swm_route_optimization\\azure_repos\\admin_frontend\\output.json\", 'w') as f:\n",
    "    json.dump(output, f)"
   ]
  },
  {
   "cell_type": "code",
   "execution_count": 93,
   "metadata": {},
   "outputs": [],
   "source": [
    "import numpy as np\n",
    "import folium\n",
    "import matplotlib\n",
    "import ast\n",
    "\n",
    "# Add arrows along the PolyLine to indicate direction\n",
    "def add_arrows(m, line, color='black', size=10):\n",
    "    locations = line.locations\n",
    "    latitudes, longitudes = zip(*locations)\n",
    "\n",
    "    for i in range(0,len(latitudes) - 1,5):\n",
    "        arrow = folium.Marker(\n",
    "            location=[latitudes[i], longitudes[i]],\n",
    "            icon=folium.DivIcon(\n",
    "                icon_size=(size, size),\n",
    "                icon_anchor=(size / 2, size / 2),\n",
    "                html='<div style=\"font-size: {}px; color: {}; transform: rotate({}deg);\">&#10148;</div>'.format(\n",
    "                    size, color, calculate_bearing(latitudes[i], longitudes[i], latitudes[i+1], longitudes[i+1])\n",
    "                )\n",
    "            )\n",
    "        )\n",
    "        arrow.add_to(m)\n",
    "\n",
    "# Function to calculate bearing between two points\n",
    "def calculate_bearing(lat1, lon1, lat2, lon2):\n",
    "    delta_lon = lon2 - lon1\n",
    "    y = np.sin(np.radians(delta_lon)) * np.cos(np.radians(lat2))\n",
    "    x = np.cos(np.radians(lat1)) * np.sin(np.radians(lat2)) - \\\n",
    "        np.sin(np.radians(lat1)) * np.cos(np.radians(lat2)) * np.cos(np.radians(delta_lon))\n",
    "    initial_bearing = np.arctan2(y, x)\n",
    "    compass_bearing = (np.degrees(initial_bearing) + 270) % 360\n",
    "    return compass_bearing\n",
    "\n",
    "def find_route(start,end):\n",
    "    route_response = querycar.find_route(start[0],start[1],end[0],end[1],u_turn_allowed=True)\n",
    "    routeLonLats = route_response[\"routes\"][0][\"geometry\"][\"coordinates\"]\n",
    "    routeLatLons = [item[::-1] for item in routeLonLats]\n",
    "    dist = route_response[\"routes\"][0][\"distance\"]\n",
    "    time = int(np.ceil(route_response[\"routes\"][0][\"duration\"]/60))\n",
    "    return routeLatLons, dist, time\n",
    "\n",
    "def plot_map(csv_data, color=\"blue\"):\n",
    "    total_distance = 0\n",
    "    total_time = 0\n",
    "    map_center = [1.281651,103.829894]\n",
    "    map_ = folium.Map(location=map_center, zoom_start=12, tiles=None)\n",
    "    folium.TileLayer(\"cartodb positron\").add_to(map_)\n",
    "\n",
    "    # cmap = matplotlib.colormaps['hsv']\n",
    "    # point_colors = [matplotlib.colors.rgb2hex(cmap(c)) for c in points['Network_Cluster']/max(points['Network_Cluster'])]\n",
    "    \n",
    "    # for j in points[\"Network_Cluster\"].unique():\n",
    "    #         folium.CircleMarker(location=cluster_midpoints[j], popup=\"Cluster_\"+str(j)+\"_\"+str(cluster_load[j])+\"_\"+str(cluster_tw[j])+\"_\"+str(cluster_restrictions[j]), color=\"black\", fill=True, radius=15, opacity=0.3).add_to(map_)\n",
    "\n",
    "    # for idx in points.index:\n",
    "    #     folium.CircleMarker(location=points.loc[idx,\"Node_Latlong\"], popup=str(points.loc[idx,\"Network_Cluster\"])+\"-\"+str(points.loc[idx,\"House\"])+\"_\"+str(points.loc[idx,\"Street\"])+\"_\"+str(idx)+\"_\"+str(points.loc[idx,'Vehicle_Type_Allowed'])+\"_\"+str(points.loc[idx,'Tonnage_kg']), color=point_colors[idx], fill=True, radius=5).add_to(map_)\n",
    "    \n",
    "    for i in range(0,len(csv_data)-1):\n",
    "        point = points.loc[points['id'] == csv_data[i]]\n",
    "        next_point = points.loc[points['id'] == csv_data[i + 1]]\n",
    "        \n",
    "        folium.CircleMarker(location=point[\"Node_Latlong\"].iloc[0], popup=str(point[\"Network_Cluster\"].iloc[0])+\"-\"+str(point[\"House\"].iloc[0])+\"_\"+str(point[\"Street\"].iloc[0])+\"_\"+str(point['id'].iloc[0])+\"_\"+str(point['Vehicle_Type_Allowed'].iloc[0])+\"_\"+str(point['Tonnage_kg'].iloc[0]), color='red', fill=True, radius=2).add_to(map_)\n",
    "        route_name = str(point['id'].iloc[0])+\"-\"+str(next_point['id'].iloc[0])\n",
    "        route_layer = folium.FeatureGroup(name=route_name+\" \"+str(point[\"House\"].iloc[0])+\"_\"+str(point[\"Street\"].iloc[0])+\"-\"+str(next_point[\"House\"].iloc[0])+\"_\"+str(next_point[\"Street\"].iloc[0]), show=False).add_to(map_)\n",
    "        routeLatLons, dist, time = find_route(point['Node_Latlong'].iloc[0], next_point['Node_Latlong'].iloc[0])\n",
    "        total_distance += dist \n",
    "        total_time += time\n",
    "        if routeLatLons==None:\n",
    "            pass\n",
    "        else:\n",
    "            path = folium.PolyLine(routeLatLons,color=color,popup=\"dist:\"+str(dist)+\"_time:\"+str(time)).add_to(route_layer)\n",
    "            add_arrows(route_layer, path)\n",
    "    print(\"Total_distance_taken:\",total_distance)\n",
    "    print(\"Total_time_taken:\",total_time)\n",
    "\n",
    "    folium.LayerControl().add_to(map_)\n",
    "    return map_, total_distance, total_time\n",
    "    \n",
    "def plot_route_for_truck_number(truck_number_plate):\n",
    "    csv_data = []\n",
    "    for id in total_assignment[truck_number_plate][\"points_id\"]:\n",
    "        if id == 'DP':\n",
    "            csv_data.append(501)\n",
    "        elif id == 'IP':\n",
    "            csv_data.append(500)\n",
    "        else:\n",
    "            csv_data.append(int(id))\n",
    "    print(\"Truck Number Plate: \", truck_number_plate)\n",
    "    map_, dist, time = plot_map(csv_data)\n",
    "    map_.save(f'{truck_number_plate}_route.html')\n"
   ]
  },
  {
   "cell_type": "code",
   "execution_count": 94,
   "metadata": {},
   "outputs": [
    {
     "data": {
      "text/html": [
       "<div>\n",
       "<style scoped>\n",
       "    .dataframe tbody tr th:only-of-type {\n",
       "        vertical-align: middle;\n",
       "    }\n",
       "\n",
       "    .dataframe tbody tr th {\n",
       "        vertical-align: top;\n",
       "    }\n",
       "\n",
       "    .dataframe thead th {\n",
       "        text-align: right;\n",
       "    }\n",
       "</style>\n",
       "<table border=\"1\" class=\"dataframe\">\n",
       "  <thead>\n",
       "    <tr style=\"text-align: right;\">\n",
       "      <th></th>\n",
       "      <th>House</th>\n",
       "      <th>Street</th>\n",
       "      <th>Alias</th>\n",
       "      <th>Postal_Code</th>\n",
       "      <th>Premises</th>\n",
       "      <th>Direct Collection</th>\n",
       "      <th>Allowed_Veh</th>\n",
       "      <th>Ideal_Vehicle_Type</th>\n",
       "      <th>Service_Time_min</th>\n",
       "      <th>Vehicle_Type_Allowed</th>\n",
       "      <th>...</th>\n",
       "      <th>Node_Latlong</th>\n",
       "      <th>User_LongLat</th>\n",
       "      <th>Poly_Cluster</th>\n",
       "      <th>Network_Cluster</th>\n",
       "      <th>Network_Vehicle_Type_Allowed</th>\n",
       "      <th>User_Timing</th>\n",
       "      <th>Cluster_Start</th>\n",
       "      <th>Cluster_End</th>\n",
       "      <th>Completed</th>\n",
       "      <th>id</th>\n",
       "    </tr>\n",
       "  </thead>\n",
       "  <tbody>\n",
       "    <tr>\n",
       "      <th>496</th>\n",
       "      <td>64</td>\n",
       "      <td>COMMONWEALTH DRIVE</td>\n",
       "      <td>None</td>\n",
       "      <td>None</td>\n",
       "      <td>HDB/Trade</td>\n",
       "      <td>Y</td>\n",
       "      <td>8</td>\n",
       "      <td>2.0</td>\n",
       "      <td>4.0</td>\n",
       "      <td>8x2,6x4,4x2</td>\n",
       "      <td>...</td>\n",
       "      <td>(1.299433, 103.797076)</td>\n",
       "      <td>(103.7971861717, 1.2993562266)</td>\n",
       "      <td>987.0</td>\n",
       "      <td>492</td>\n",
       "      <td>8</td>\n",
       "      <td>(6, 19)</td>\n",
       "      <td>6.0</td>\n",
       "      <td>19.0</td>\n",
       "      <td>True</td>\n",
       "      <td>NaN</td>\n",
       "    </tr>\n",
       "    <tr>\n",
       "      <th>497</th>\n",
       "      <td>1</td>\n",
       "      <td>COMMONWEALTH DRIVE</td>\n",
       "      <td>BLEESED SACRAMENT CHURCH</td>\n",
       "      <td>None</td>\n",
       "      <td>Trade</td>\n",
       "      <td>Y</td>\n",
       "      <td>8</td>\n",
       "      <td>2.0</td>\n",
       "      <td>4.0</td>\n",
       "      <td>8x2,6x4,4x2</td>\n",
       "      <td>...</td>\n",
       "      <td>(1.295739, 103.79896)</td>\n",
       "      <td>(103.7989636894, 1.2957496234)</td>\n",
       "      <td>987.0</td>\n",
       "      <td>493</td>\n",
       "      <td>8</td>\n",
       "      <td>(6, 19)</td>\n",
       "      <td>6.0</td>\n",
       "      <td>19.0</td>\n",
       "      <td>False</td>\n",
       "      <td>NaN</td>\n",
       "    </tr>\n",
       "    <tr>\n",
       "      <th>498</th>\n",
       "      <td>3</td>\n",
       "      <td>COMMONWEALTH DRIVE</td>\n",
       "      <td>SRI MUNEES-WARAN TP</td>\n",
       "      <td>None</td>\n",
       "      <td>Trade</td>\n",
       "      <td>Y</td>\n",
       "      <td>8</td>\n",
       "      <td>2.0</td>\n",
       "      <td>4.0</td>\n",
       "      <td>8x2,6x4,4x2</td>\n",
       "      <td>...</td>\n",
       "      <td>(1.295978, 103.798462)</td>\n",
       "      <td>(103.7985892673, 1.2958908083)</td>\n",
       "      <td>987.0</td>\n",
       "      <td>494</td>\n",
       "      <td>8</td>\n",
       "      <td>(6, 19)</td>\n",
       "      <td>6.0</td>\n",
       "      <td>19.0</td>\n",
       "      <td>False</td>\n",
       "      <td>NaN</td>\n",
       "    </tr>\n",
       "    <tr>\n",
       "      <th>499</th>\n",
       "      <td>Tuas</td>\n",
       "      <td>IP</td>\n",
       "      <td>NaN</td>\n",
       "      <td>NaN</td>\n",
       "      <td>NaN</td>\n",
       "      <td>NaN</td>\n",
       "      <td>NaN</td>\n",
       "      <td>NaN</td>\n",
       "      <td>NaN</td>\n",
       "      <td>0</td>\n",
       "      <td>...</td>\n",
       "      <td>(1.296, 103.6205)</td>\n",
       "      <td>NaN</td>\n",
       "      <td>NaN</td>\n",
       "      <td>-1</td>\n",
       "      <td>NaN</td>\n",
       "      <td>NaN</td>\n",
       "      <td>NaN</td>\n",
       "      <td>NaN</td>\n",
       "      <td>NaN</td>\n",
       "      <td>500.0</td>\n",
       "    </tr>\n",
       "    <tr>\n",
       "      <th>500</th>\n",
       "      <td>Tuas</td>\n",
       "      <td>Depot</td>\n",
       "      <td>NaN</td>\n",
       "      <td>NaN</td>\n",
       "      <td>NaN</td>\n",
       "      <td>NaN</td>\n",
       "      <td>NaN</td>\n",
       "      <td>NaN</td>\n",
       "      <td>NaN</td>\n",
       "      <td>0</td>\n",
       "      <td>...</td>\n",
       "      <td>(1.3346, 103.6457)</td>\n",
       "      <td>NaN</td>\n",
       "      <td>NaN</td>\n",
       "      <td>-1</td>\n",
       "      <td>NaN</td>\n",
       "      <td>NaN</td>\n",
       "      <td>NaN</td>\n",
       "      <td>NaN</td>\n",
       "      <td>NaN</td>\n",
       "      <td>501.0</td>\n",
       "    </tr>\n",
       "  </tbody>\n",
       "</table>\n",
       "<p>5 rows × 33 columns</p>\n",
       "</div>"
      ],
      "text/plain": [
       "    House               Street                     Alias Postal_Code  \\\n",
       "496   64   COMMONWEALTH DRIVE                       None        None   \n",
       "497     1  COMMONWEALTH DRIVE   BLEESED SACRAMENT CHURCH        None   \n",
       "498     3  COMMONWEALTH DRIVE        SRI MUNEES-WARAN TP        None   \n",
       "499  Tuas                   IP                       NaN         NaN   \n",
       "500  Tuas                Depot                       NaN         NaN   \n",
       "\n",
       "      Premises Direct Collection Allowed_Veh  Ideal_Vehicle_Type  \\\n",
       "496  HDB/Trade                 Y           8                 2.0   \n",
       "497     Trade                  Y           8                 2.0   \n",
       "498     Trade                  Y           8                 2.0   \n",
       "499        NaN               NaN         NaN                 NaN   \n",
       "500        NaN               NaN         NaN                 NaN   \n",
       "\n",
       "     Service_Time_min Vehicle_Type_Allowed  ...            Node_Latlong  \\\n",
       "496               4.0          8x2,6x4,4x2  ...  (1.299433, 103.797076)   \n",
       "497               4.0          8x2,6x4,4x2  ...   (1.295739, 103.79896)   \n",
       "498               4.0          8x2,6x4,4x2  ...  (1.295978, 103.798462)   \n",
       "499               NaN                    0  ...       (1.296, 103.6205)   \n",
       "500               NaN                    0  ...      (1.3346, 103.6457)   \n",
       "\n",
       "                       User_LongLat  Poly_Cluster  Network_Cluster  \\\n",
       "496  (103.7971861717, 1.2993562266)         987.0              492   \n",
       "497  (103.7989636894, 1.2957496234)         987.0              493   \n",
       "498  (103.7985892673, 1.2958908083)         987.0              494   \n",
       "499                             NaN           NaN               -1   \n",
       "500                             NaN           NaN               -1   \n",
       "\n",
       "     Network_Vehicle_Type_Allowed User_Timing  Cluster_Start  Cluster_End  \\\n",
       "496                             8     (6, 19)            6.0         19.0   \n",
       "497                             8     (6, 19)            6.0         19.0   \n",
       "498                             8     (6, 19)            6.0         19.0   \n",
       "499                           NaN         NaN            NaN          NaN   \n",
       "500                           NaN         NaN            NaN          NaN   \n",
       "\n",
       "     Completed     id  \n",
       "496       True    NaN  \n",
       "497      False    NaN  \n",
       "498      False    NaN  \n",
       "499        NaN  500.0  \n",
       "500        NaN  501.0  \n",
       "\n",
       "[5 rows x 33 columns]"
      ]
     },
     "execution_count": 94,
     "metadata": {},
     "output_type": "execute_result"
    }
   ],
   "source": [
    "DP = {\n",
    "    'id' : 501,\n",
    "    'House' : 'Tuas',\n",
    "    'Street' : 'Depot',\n",
    "    'Vehicle_Type_Allowed' : 0,\n",
    "    'Tonnage_kg' : 0,\n",
    "    'Node_Latlong' : (1.3346, 103.6457),\n",
    "    'Network_Cluster' : -1\n",
    "}\n",
    "\n",
    "IP = {\n",
    "    'id' : 500,\n",
    "    'House' : 'Tuas',\n",
    "    'Street' : 'IP',\n",
    "    'Vehicle_Type_Allowed' : 0,\n",
    "    'Tonnage_kg' : 0,\n",
    "    'Node_Latlong' : (1.296, 103.6205),\n",
    "    'Network_Cluster' : -1\n",
    "}\n",
    "\n",
    "special_points_df = pd.DataFrame([IP, DP])\n",
    "points = pd.concat([points, special_points_df], ignore_index = True)\n",
    "points.tail()"
   ]
  }
 ],
 "metadata": {
  "kernelspec": {
   "display_name": "Python 3",
   "language": "python",
   "name": "python3"
  },
  "language_info": {
   "codemirror_mode": {
    "name": "ipython",
    "version": 3
   },
   "file_extension": ".py",
   "mimetype": "text/x-python",
   "name": "python",
   "nbconvert_exporter": "python",
   "pygments_lexer": "ipython3",
   "version": "3.11.3"
  }
 },
 "nbformat": 4,
 "nbformat_minor": 2
}
