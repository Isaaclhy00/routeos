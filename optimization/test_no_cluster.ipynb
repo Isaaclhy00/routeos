{
 "cells": [
  {
   "cell_type": "code",
   "execution_count": 2,
   "metadata": {},
   "outputs": [],
   "source": [
    "from query_vroom import *\n",
    "from query_osrm import OsrmQuery\n",
    "import pandas as pd\n",
    "import numpy as np\n",
    "import json\n",
    "from clustering import DBScanClusterer\n",
    "\n",
    "with open(r\"C:\\Users\\clement.lork\\Documents\\Sembwaste_Routing\\swm_route_optimization\\azure_repos\\admin_frontend\\data1.json\") as f:\n",
    "  data = json.loads(f.read())"
   ]
  },
  {
   "cell_type": "code",
   "execution_count": 3,
   "metadata": {},
   "outputs": [
    {
     "name": "stdout",
     "output_type": "stream",
     "text": [
      "/table/v1/car/103.803251749,1.2975874959;103.8015381601,1.2991045323;103.8012557253,1.2981694472;103.8029222855,1.2970478898;103.8034980162,1.2949669;103.8059849537,1.2938049;103.8042774846,1.2956737;103.80266735,1.2918678;103.80247,1.29026;103.80227,1.29792;103.8006147809,1.2962227643;103.8009496073,1.2913810053;103.806630449,1.290363;103.8077590945,1.2878833;103.8151952073,1.2893498964;103.81321,1.28738;103.8163366739,1.2862738254;103.8152417375,1.28587615;103.81581,1.28685;103.81639,1.28721;103.8169,1.28664;103.81701,1.2879;103.8155536,1.28833;103.81552,1.28803;103.81609,1.2883;103.81649,1.28885;103.81703,1.28894;103.81758,1.28855;103.81937,1.28794;103.81935,1.28729;103.81912,1.28669;103.81888,1.28727;103.81884,1.28592;103.81865,1.28594;103.8107121615,1.2931516;103.8121070076,1.29298105;103.8114222239,1.29438085;103.8109724232,1.2944609;103.8113931236,1.2931142;103.8116368241,1.2938599;103.8121025838,1.29372165;103.8121812035,1.2942066;103.81132,1.29287;103.81039,1.29442;103.81033,1.29398;103.81038,1.2953302;103.8104373981,1.2957434;103.8099501147,1.2958109;103.8094605259,1.29587985;103.82325,1.29013;103.80707,1.29497;103.82325,1.29013;103.8332107647,1.2865602187;103.8327645209,1.2869612292;103.8324739228,1.2867864855;103.8319132056,1.2866458889;103.8313400707,1.2869526258;103.8308400191,1.2865997775;103.8301315995,1.2865709009;103.8302850266,1.2870498637;103.8286368645,1.2869853319;103.8289368481,1.286905015;103.8295790559,1.2864253433;103.8291953554,1.2864775961;103.8287351628,1.2863325065;103.8296357255,1.2861482529;103.8389516,1.27620015;103.84085,1.27464;103.839888387,1.2758142;103.8390179425,1.2758331;103.8392052058,1.27531455;103.8397292575,1.2744195;103.8400995058,1.274474;103.8405280425,1.274708;103.8403063,1.27390185;103.8398831911,1.2738203;103.8393624791,1.273876544;103.839040851,1.2738854466;103.8422385,1.2807127;103.8400152584,1.2876153;103.83979,1.28794;103.8337788125,1.28046195;103.839116511,1.27851615;103.8382605,1.2765217;103.8385532,1.2758982;103.8368214992,1.2769933;103.8356838175,1.27544025;103.8365798866,1.2771014708;103.83644,1.27716;103.8319189,1.276292;103.8370674,1.2772421;103.8103369078,1.2812834411;103.814623353,1.2814730778;103.8143597774,1.28141645;103.8139921,1.2813887;103.8141210018,1.28188395;103.80393,1.27339;103.8033806948,1.27630965;103.80437,1.28111;103.81354,1.27878;103.8110375349,1.2759772268;103.81048,1.27674;103.8108471328,1.2759461847;103.8089725704,1.2773203522;103.8085091054,1.2766461989;103.8087494815,1.2769031026;103.8083521763,1.2774212421;103.8085076849,1.2762876218;103.8113569051,1.273378222;103.8069129682,1.2763456198;103.8066665703,1.2735963961;103.8072772644,1.2738710028;103.8074329971,1.2734759921;103.8073717214,1.2777594449;103.8068479091,1.2772519921;103.8068593331,1.2766898428;103.8075182178,1.2765723921;103.80696,1.27587;103.8070802888,1.2752618393;103.8081682423,1.2750262998;103.8079904288,1.274680835;103.8064107243,1.2723729275;103.8242820794,1.2663116011;103.8229637752,1.2661867386;103.8147465527,1.2692135657;103.8071096782,1.2717638496;103.645796,1.334696;103.621713,1.296095?annotations=distance,duration\n",
      "200\n",
      "{'code': 0, 'summary': {'cost': 18900, 'routes': 2, 'unassigned': 6, 'delivery': [51760], 'amount': [51760], 'pickup': [51760], 'setup': 4800, 'service': 43380, 'duration': 18900, 'waiting_time': 0, 'priority': 0, 'violations': [], 'computing_times': {'loading': 2, 'solving': 1456, 'routing': 0}}, 'unassigned': [{'id': 208, 'location_index': 127, 'type': 'delivery', 'description': 'IP'}, {'id': 80, 'location_index': 80, 'type': 'pickup', 'description': 'cluster80'}, {'id': 207, 'location_index': 127, 'type': 'delivery', 'description': 'IP'}, {'id': 79, 'location_index': 79, 'type': 'pickup', 'description': 'cluster79'}, {'id': 206, 'location_index': 127, 'type': 'delivery', 'description': 'IP'}, {'id': 78, 'location_index': 78, 'type': 'pickup', 'description': 'cluster78'}], 'routes': [{'vehicle': 0, 'cost': 8460, 'delivery': [28310], 'amount': [28310], 'pickup': [28310], 'setup': 2400, 'service': 20280, 'duration': 8460, 'waiting_time': 0, 'priority': 0, 'steps': [{'type': 'start', 'location_index': 126, 'setup': 0, 'service': 0, 'waiting_time': 0, 'load': [0], 'arrival': 25200, 'duration': 0, 'violations': []}, {'type': 'pickup', 'description': 'cluster7', 'location_index': 7, 'id': 7, 'setup': 0, 'service': 1200, 'waiting_time': 0, 'job': 7, 'load': [1500], 'arrival': 26520, 'duration': 1320, 'violations': []}, {'type': 'pickup', 'description': 'cluster8', 'location_index': 8, 'id': 8, 'setup': 0, 'service': 1200, 'waiting_time': 0, 'job': 8, 'load': [3500], 'arrival': 27780, 'duration': 1380, 'violations': []}, {'type': 'pickup', 'description': 'cluster4', 'location_index': 4, 'id': 4, 'setup': 0, 'service': 1200, 'waiting_time': 0, 'job': 4, 'load': [4250], 'arrival': 29160, 'duration': 1560, 'violations': []}, {'type': 'pickup', 'description': 'cluster2', 'location_index': 2, 'id': 2, 'setup': 0, 'service': 300, 'waiting_time': 0, 'job': 2, 'load': [5000], 'arrival': 30480, 'duration': 1680, 'violations': []}, {'type': 'pickup', 'description': 'cluster10', 'location_index': 10, 'id': 10, 'setup': 0, 'service': 240, 'waiting_time': 0, 'job': 10, 'load': [6500], 'arrival': 30960, 'duration': 1860, 'violations': []}, {'type': 'pickup', 'description': 'cluster11', 'location_index': 11, 'id': 11, 'setup': 0, 'service': 240, 'waiting_time': 0, 'job': 11, 'load': [6740], 'arrival': 31260, 'duration': 1920, 'violations': []}, {'type': 'pickup', 'description': 'cluster12', 'location_index': 12, 'id': 12, 'setup': 0, 'service': 240, 'waiting_time': 0, 'job': 12, 'load': [6980], 'arrival': 31560, 'duration': 1980, 'violations': []}, {'type': 'pickup', 'description': 'cluster42', 'location_index': 42, 'id': 42, 'setup': 0, 'service': 1200, 'waiting_time': 0, 'job': 42, 'load': [7980], 'arrival': 31860, 'duration': 2040, 'violations': []}, {'type': 'pickup', 'description': 'cluster38', 'location_index': 38, 'id': 38, 'setup': 0, 'service': 240, 'waiting_time': 0, 'job': 38, 'load': [8280], 'arrival': 33060, 'duration': 2040, 'violations': []}, {'type': 'pickup', 'description': 'cluster34', 'location_index': 34, 'id': 34, 'setup': 0, 'service': 240, 'waiting_time': 0, 'job': 34, 'load': [8580], 'arrival': 33300, 'duration': 2040, 'violations': []}, {'type': 'pickup', 'description': 'cluster35', 'location_index': 35, 'id': 35, 'setup': 0, 'service': 240, 'waiting_time': 0, 'job': 35, 'load': [8880], 'arrival': 33540, 'duration': 2040, 'violations': []}, {'type': 'pickup', 'description': 'cluster40', 'location_index': 40, 'id': 40, 'setup': 0, 'service': 240, 'waiting_time': 0, 'job': 40, 'load': [9180], 'arrival': 33840, 'duration': 2100, 'violations': []}, {'type': 'pickup', 'description': 'cluster41', 'location_index': 41, 'id': 41, 'setup': 0, 'service': 240, 'waiting_time': 0, 'job': 41, 'load': [9480], 'arrival': 34080, 'duration': 2100, 'violations': []}, {'type': 'pickup', 'description': 'cluster39', 'location_index': 39, 'id': 39, 'setup': 0, 'service': 240, 'waiting_time': 0, 'job': 39, 'load': [9780], 'arrival': 34320, 'duration': 2100, 'violations': []}, {'type': 'pickup', 'description': 'cluster37', 'location_index': 37, 'id': 37, 'setup': 0, 'service': 240, 'waiting_time': 0, 'job': 37, 'load': [10080], 'arrival': 34560, 'duration': 2100, 'violations': []}, {'type': 'pickup', 'description': 'cluster46', 'location_index': 46, 'id': 46, 'setup': 0, 'service': 120, 'waiting_time': 0, 'job': 46, 'load': [10380], 'arrival': 34800, 'duration': 2100, 'violations': []}, {'type': 'pickup', 'description': 'cluster48', 'location_index': 48, 'id': 48, 'setup': 0, 'service': 120, 'waiting_time': 0, 'job': 48, 'load': [10680], 'arrival': 34920, 'duration': 2100, 'violations': []}, {'type': 'pickup', 'description': 'cluster47', 'location_index': 47, 'id': 47, 'setup': 0, 'service': 120, 'waiting_time': 0, 'job': 47, 'load': [10980], 'arrival': 35040, 'duration': 2100, 'violations': []}, {'type': 'pickup', 'description': 'cluster45', 'location_index': 45, 'id': 45, 'setup': 0, 'service': 120, 'waiting_time': 0, 'job': 45, 'load': [11280], 'arrival': 35160, 'duration': 2100, 'violations': []}, {'type': 'pickup', 'description': 'cluster43', 'location_index': 43, 'id': 43, 'setup': 0, 'service': 240, 'waiting_time': 0, 'job': 43, 'load': [11580], 'arrival': 35280, 'duration': 2100, 'violations': []}, {'type': 'pickup', 'description': 'cluster44', 'location_index': 44, 'id': 44, 'setup': 0, 'service': 240, 'waiting_time': 0, 'job': 44, 'load': [11880], 'arrival': 35520, 'duration': 2100, 'violations': []}, {'type': 'pickup', 'description': 'cluster36', 'location_index': 36, 'id': 36, 'setup': 0, 'service': 240, 'waiting_time': 0, 'job': 36, 'load': [12180], 'arrival': 35820, 'duration': 2160, 'violations': []}, {'type': 'pickup', 'description': 'cluster50', 'location_index': 50, 'id': 50, 'setup': 0, 'service': 120, 'waiting_time': 0, 'job': 50, 'load': [12480], 'arrival': 36120, 'duration': 2220, 'violations': []}, {'type': 'delivery', 'description': 'IP', 'location_index': 127, 'id': 166, 'setup': 1200, 'service': 0, 'waiting_time': 0, 'job': 166, 'load': [12180], 'arrival': 37860, 'duration': 3840, 'violations': []}, {'type': 'delivery', 'description': 'IP', 'location_index': 127, 'id': 167, 'setup': 0, 'service': 0, 'waiting_time': 0, 'job': 167, 'load': [11880], 'arrival': 39060, 'duration': 3840, 'violations': []}, {'type': 'delivery', 'description': 'IP', 'location_index': 127, 'id': 136, 'setup': 0, 'service': 0, 'waiting_time': 0, 'job': 136, 'load': [9880], 'arrival': 39060, 'duration': 3840, 'violations': []}, {'type': 'delivery', 'description': 'IP', 'location_index': 127, 'id': 135, 'setup': 0, 'service': 0, 'waiting_time': 0, 'job': 135, 'load': [8380], 'arrival': 39060, 'duration': 3840, 'violations': []}, {'type': 'delivery', 'description': 'IP', 'location_index': 127, 'id': 132, 'setup': 0, 'service': 0, 'waiting_time': 0, 'job': 132, 'load': [7630], 'arrival': 39060, 'duration': 3840, 'violations': []}, {'type': 'delivery', 'description': 'IP', 'location_index': 127, 'id': 138, 'setup': 0, 'service': 0, 'waiting_time': 0, 'job': 138, 'load': [6130], 'arrival': 39060, 'duration': 3840, 'violations': []}, {'type': 'delivery', 'description': 'IP', 'location_index': 127, 'id': 130, 'setup': 0, 'service': 0, 'waiting_time': 0, 'job': 130, 'load': [5380], 'arrival': 39060, 'duration': 3840, 'violations': []}, {'type': 'delivery', 'description': 'IP', 'location_index': 127, 'id': 139, 'setup': 0, 'service': 0, 'waiting_time': 0, 'job': 139, 'load': [5140], 'arrival': 39060, 'duration': 3840, 'violations': []}, {'type': 'delivery', 'description': 'IP', 'location_index': 127, 'id': 176, 'setup': 0, 'service': 0, 'waiting_time': 0, 'job': 176, 'load': [4840], 'arrival': 39060, 'duration': 3840, 'violations': []}, {'type': 'delivery', 'description': 'IP', 'location_index': 127, 'id': 175, 'setup': 0, 'service': 0, 'waiting_time': 0, 'job': 175, 'load': [4540], 'arrival': 39060, 'duration': 3840, 'violations': []}, {'type': 'delivery', 'description': 'IP', 'location_index': 127, 'id': 174, 'setup': 0, 'service': 0, 'waiting_time': 0, 'job': 174, 'load': [4240], 'arrival': 39060, 'duration': 3840, 'violations': []}, {'type': 'delivery', 'description': 'IP', 'location_index': 127, 'id': 173, 'setup': 0, 'service': 0, 'waiting_time': 0, 'job': 173, 'load': [3940], 'arrival': 39060, 'duration': 3840, 'violations': []}, {'type': 'delivery', 'description': 'IP', 'location_index': 127, 'id': 172, 'setup': 0, 'service': 0, 'waiting_time': 0, 'job': 172, 'load': [3640], 'arrival': 39060, 'duration': 3840, 'violations': []}, {'type': 'delivery', 'description': 'IP', 'location_index': 127, 'id': 140, 'setup': 0, 'service': 0, 'waiting_time': 0, 'job': 140, 'load': [3400], 'arrival': 39060, 'duration': 3840, 'violations': []}, {'type': 'delivery', 'description': 'IP', 'location_index': 127, 'id': 165, 'setup': 0, 'service': 0, 'waiting_time': 0, 'job': 165, 'load': [3100], 'arrival': 39060, 'duration': 3840, 'violations': []}, {'type': 'delivery', 'description': 'IP', 'location_index': 127, 'id': 164, 'setup': 0, 'service': 0, 'waiting_time': 0, 'job': 164, 'load': [2800], 'arrival': 39060, 'duration': 3840, 'violations': []}, {'type': 'delivery', 'description': 'IP', 'location_index': 127, 'id': 162, 'setup': 0, 'service': 0, 'waiting_time': 0, 'job': 162, 'load': [2500], 'arrival': 39060, 'duration': 3840, 'violations': []}, {'type': 'delivery', 'description': 'IP', 'location_index': 127, 'id': 163, 'setup': 0, 'service': 0, 'waiting_time': 0, 'job': 163, 'load': [2200], 'arrival': 39060, 'duration': 3840, 'violations': []}, {'type': 'delivery', 'description': 'IP', 'location_index': 127, 'id': 170, 'setup': 0, 'service': 0, 'waiting_time': 0, 'job': 170, 'load': [1200], 'arrival': 39060, 'duration': 3840, 'violations': []}, {'type': 'delivery', 'description': 'IP', 'location_index': 127, 'id': 178, 'setup': 0, 'service': 0, 'waiting_time': 0, 'job': 178, 'load': [900], 'arrival': 39060, 'duration': 3840, 'violations': []}, {'type': 'delivery', 'description': 'IP', 'location_index': 127, 'id': 168, 'setup': 0, 'service': 0, 'waiting_time': 0, 'job': 168, 'load': [600], 'arrival': 39060, 'duration': 3840, 'violations': []}, {'type': 'delivery', 'description': 'IP', 'location_index': 127, 'id': 169, 'setup': 0, 'service': 0, 'waiting_time': 0, 'job': 169, 'load': [300], 'arrival': 39060, 'duration': 3840, 'violations': []}, {'type': 'delivery', 'description': 'IP', 'location_index': 127, 'id': 171, 'setup': 0, 'service': 0, 'waiting_time': 0, 'job': 171, 'load': [0], 'arrival': 39060, 'duration': 3840, 'violations': []}, {'type': 'pickup', 'description': 'cluster13', 'location_index': 13, 'id': 13, 'setup': 0, 'service': 1200, 'waiting_time': 0, 'job': 13, 'load': [750], 'arrival': 40620, 'duration': 5400, 'violations': []}, {'type': 'pickup', 'description': 'cluster17', 'location_index': 17, 'id': 17, 'setup': 0, 'service': 240, 'waiting_time': 0, 'job': 17, 'load': [990], 'arrival': 42060, 'duration': 5640, 'violations': []}, {'type': 'pickup', 'description': 'cluster16', 'location_index': 16, 'id': 16, 'setup': 0, 'service': 240, 'waiting_time': 0, 'job': 16, 'load': [1230], 'arrival': 42300, 'duration': 5640, 'violations': []}, {'type': 'pickup', 'description': 'cluster51', 'location_index': 51, 'id': 51, 'setup': 0, 'service': 120, 'waiting_time': 0, 'job': 51, 'load': [1980], 'arrival': 42660, 'duration': 5760, 'violations': []}, {'type': 'pickup', 'description': 'cluster49', 'location_index': 49, 'id': 49, 'setup': 0, 'service': 120, 'waiting_time': 0, 'job': 49, 'load': [2730], 'arrival': 42780, 'duration': 5760, 'violations': []}, {'type': 'pickup', 'description': 'cluster28', 'location_index': 28, 'id': 28, 'setup': 0, 'service': 240, 'waiting_time': 0, 'job': 28, 'load': [2980], 'arrival': 43080, 'duration': 5940, 'violations': []}, {'type': 'pickup', 'description': 'cluster31', 'location_index': 31, 'id': 31, 'setup': 0, 'service': 1200, 'waiting_time': 0, 'job': 31, 'load': [4980], 'arrival': 43320, 'duration': 5940, 'violations': []}, {'type': 'pickup', 'description': 'cluster29', 'location_index': 29, 'id': 29, 'setup': 0, 'service': 240, 'waiting_time': 0, 'job': 29, 'load': [5230], 'arrival': 44520, 'duration': 5940, 'violations': []}, {'type': 'pickup', 'description': 'cluster30', 'location_index': 30, 'id': 30, 'setup': 0, 'service': 240, 'waiting_time': 0, 'job': 30, 'load': [5480], 'arrival': 44760, 'duration': 5940, 'violations': []}, {'type': 'pickup', 'description': 'cluster33', 'location_index': 33, 'id': 33, 'setup': 0, 'service': 240, 'waiting_time': 0, 'job': 33, 'load': [5730], 'arrival': 45000, 'duration': 5940, 'violations': []}, {'type': 'pickup', 'description': 'cluster32', 'location_index': 32, 'id': 32, 'setup': 0, 'service': 240, 'waiting_time': 0, 'job': 32, 'load': [5980], 'arrival': 45240, 'duration': 5940, 'violations': []}, {'type': 'pickup', 'description': 'cluster20', 'location_index': 20, 'id': 20, 'setup': 0, 'service': 240, 'waiting_time': 0, 'job': 20, 'load': [6230], 'arrival': 45600, 'duration': 6060, 'violations': []}, {'type': 'pickup', 'description': 'cluster18', 'location_index': 18, 'id': 18, 'setup': 0, 'service': 240, 'waiting_time': 0, 'job': 18, 'load': [6480], 'arrival': 45840, 'duration': 6060, 'violations': []}, {'type': 'pickup', 'description': 'cluster19', 'location_index': 19, 'id': 19, 'setup': 0, 'service': 240, 'waiting_time': 0, 'job': 19, 'load': [6730], 'arrival': 46080, 'duration': 6060, 'violations': []}, {'type': 'pickup', 'description': 'cluster22', 'location_index': 22, 'id': 22, 'setup': 0, 'service': 240, 'waiting_time': 0, 'job': 22, 'load': [6980], 'arrival': 46380, 'duration': 6120, 'violations': []}, {'type': 'pickup', 'description': 'cluster23', 'location_index': 23, 'id': 23, 'setup': 0, 'service': 240, 'waiting_time': 0, 'job': 23, 'load': [7230], 'arrival': 46620, 'duration': 6120, 'violations': []}, {'type': 'pickup', 'description': 'cluster24', 'location_index': 24, 'id': 24, 'setup': 0, 'service': 240, 'waiting_time': 0, 'job': 24, 'load': [7630], 'arrival': 46860, 'duration': 6120, 'violations': []}, {'type': 'pickup', 'description': 'cluster25', 'location_index': 25, 'id': 25, 'setup': 0, 'service': 240, 'waiting_time': 0, 'job': 25, 'load': [8030], 'arrival': 47100, 'duration': 6120, 'violations': []}, {'type': 'pickup', 'description': 'cluster26', 'location_index': 26, 'id': 26, 'setup': 0, 'service': 240, 'waiting_time': 0, 'job': 26, 'load': [8280], 'arrival': 47340, 'duration': 6120, 'violations': []}, {'type': 'pickup', 'description': 'cluster27', 'location_index': 27, 'id': 27, 'setup': 0, 'service': 240, 'waiting_time': 0, 'job': 27, 'load': [8530], 'arrival': 47580, 'duration': 6120, 'violations': []}, {'type': 'pickup', 'description': 'cluster21', 'location_index': 21, 'id': 21, 'setup': 0, 'service': 240, 'waiting_time': 0, 'job': 21, 'load': [8780], 'arrival': 47820, 'duration': 6120, 'violations': []}, {'type': 'pickup', 'description': 'cluster15', 'location_index': 15, 'id': 15, 'setup': 0, 'service': 240, 'waiting_time': 0, 'job': 15, 'load': [10780], 'arrival': 48180, 'duration': 6240, 'violations': []}, {'type': 'pickup', 'description': 'cluster14', 'location_index': 14, 'id': 14, 'setup': 0, 'service': 600, 'waiting_time': 0, 'job': 14, 'load': [11530], 'arrival': 48540, 'duration': 6360, 'violations': []}, {'type': 'pickup', 'description': 'cluster5', 'location_index': 5, 'id': 5, 'setup': 0, 'service': 300, 'waiting_time': 0, 'job': 5, 'load': [12280], 'arrival': 49260, 'duration': 6480, 'violations': []}, {'type': 'pickup', 'description': 'cluster6', 'location_index': 6, 'id': 6, 'setup': 0, 'service': 1200, 'waiting_time': 0, 'job': 6, 'load': [13780], 'arrival': 49560, 'duration': 6480, 'violations': []}, {'type': 'pickup', 'description': 'cluster3', 'location_index': 3, 'id': 3, 'setup': 0, 'service': 1200, 'waiting_time': 0, 'job': 3, 'load': [14080], 'arrival': 50760, 'duration': 6480, 'violations': []}, {'type': 'pickup', 'description': 'cluster9', 'location_index': 9, 'id': 9, 'setup': 0, 'service': 600, 'waiting_time': 0, 'job': 9, 'load': [14830], 'arrival': 51960, 'duration': 6480, 'violations': []}, {'type': 'pickup', 'description': 'cluster0', 'location_index': 0, 'id': 0, 'setup': 0, 'service': 300, 'waiting_time': 0, 'job': 0, 'load': [15080], 'arrival': 52620, 'duration': 6540, 'violations': []}, {'type': 'pickup', 'description': 'cluster1', 'location_index': 1, 'id': 1, 'setup': 0, 'service': 300, 'waiting_time': 0, 'job': 1, 'load': [15830], 'arrival': 52920, 'duration': 6540, 'violations': []}, {'type': 'delivery', 'description': 'IP', 'location_index': 127, 'id': 131, 'setup': 1200, 'service': 0, 'waiting_time': 0, 'job': 131, 'load': [15530], 'arrival': 54720, 'duration': 8040, 'violations': []}, {'type': 'delivery', 'description': 'IP', 'location_index': 127, 'id': 137, 'setup': 0, 'service': 0, 'waiting_time': 0, 'job': 137, 'load': [14780], 'arrival': 55920, 'duration': 8040, 'violations': []}, {'type': 'delivery', 'description': 'IP', 'location_index': 127, 'id': 134, 'setup': 0, 'service': 0, 'waiting_time': 0, 'job': 134, 'load': [13280], 'arrival': 55920, 'duration': 8040, 'violations': []}, {'type': 'delivery', 'description': 'IP', 'location_index': 127, 'id': 133, 'setup': 0, 'service': 0, 'waiting_time': 0, 'job': 133, 'load': [12530], 'arrival': 55920, 'duration': 8040, 'violations': []}, {'type': 'delivery', 'description': 'IP', 'location_index': 127, 'id': 128, 'setup': 0, 'service': 0, 'waiting_time': 0, 'job': 128, 'load': [12280], 'arrival': 55920, 'duration': 8040, 'violations': []}, {'type': 'delivery', 'description': 'IP', 'location_index': 127, 'id': 129, 'setup': 0, 'service': 0, 'waiting_time': 0, 'job': 129, 'load': [11530], 'arrival': 55920, 'duration': 8040, 'violations': []}, {'type': 'delivery', 'description': 'IP', 'location_index': 127, 'id': 179, 'setup': 0, 'service': 0, 'waiting_time': 0, 'job': 179, 'load': [10780], 'arrival': 55920, 'duration': 8040, 'violations': []}, {'type': 'delivery', 'description': 'IP', 'location_index': 127, 'id': 177, 'setup': 0, 'service': 0, 'waiting_time': 0, 'job': 177, 'load': [10030], 'arrival': 55920, 'duration': 8040, 'violations': []}, {'type': 'delivery', 'description': 'IP', 'location_index': 127, 'id': 141, 'setup': 0, 'service': 0, 'waiting_time': 0, 'job': 141, 'load': [9280], 'arrival': 55920, 'duration': 8040, 'violations': []}, {'type': 'delivery', 'description': 'IP', 'location_index': 127, 'id': 143, 'setup': 0, 'service': 0, 'waiting_time': 0, 'job': 143, 'load': [7280], 'arrival': 55920, 'duration': 8040, 'violations': []}, {'type': 'delivery', 'description': 'IP', 'location_index': 127, 'id': 142, 'setup': 0, 'service': 0, 'waiting_time': 0, 'job': 142, 'load': [6530], 'arrival': 55920, 'duration': 8040, 'violations': []}, {'type': 'delivery', 'description': 'IP', 'location_index': 127, 'id': 145, 'setup': 0, 'service': 0, 'waiting_time': 0, 'job': 145, 'load': [6290], 'arrival': 55920, 'duration': 8040, 'violations': []}, {'type': 'delivery', 'description': 'IP', 'location_index': 127, 'id': 144, 'setup': 0, 'service': 0, 'waiting_time': 0, 'job': 144, 'load': [6050], 'arrival': 55920, 'duration': 8040, 'violations': []}, {'type': 'delivery', 'description': 'IP', 'location_index': 127, 'id': 154, 'setup': 0, 'service': 0, 'waiting_time': 0, 'job': 154, 'load': [5800], 'arrival': 55920, 'duration': 8040, 'violations': []}, {'type': 'delivery', 'description': 'IP', 'location_index': 127, 'id': 153, 'setup': 0, 'service': 0, 'waiting_time': 0, 'job': 153, 'load': [5400], 'arrival': 55920, 'duration': 8040, 'violations': []}, {'type': 'delivery', 'description': 'IP', 'location_index': 127, 'id': 151, 'setup': 0, 'service': 0, 'waiting_time': 0, 'job': 151, 'load': [5150], 'arrival': 55920, 'duration': 8040, 'violations': []}, {'type': 'delivery', 'description': 'IP', 'location_index': 127, 'id': 150, 'setup': 0, 'service': 0, 'waiting_time': 0, 'job': 150, 'load': [4900], 'arrival': 55920, 'duration': 8040, 'violations': []}, {'type': 'delivery', 'description': 'IP', 'location_index': 127, 'id': 155, 'setup': 0, 'service': 0, 'waiting_time': 0, 'job': 155, 'load': [4650], 'arrival': 55920, 'duration': 8040, 'violations': []}, {'type': 'delivery', 'description': 'IP', 'location_index': 127, 'id': 152, 'setup': 0, 'service': 0, 'waiting_time': 0, 'job': 152, 'load': [4250], 'arrival': 55920, 'duration': 8040, 'violations': []}, {'type': 'delivery', 'description': 'IP', 'location_index': 127, 'id': 149, 'setup': 0, 'service': 0, 'waiting_time': 0, 'job': 149, 'load': [4000], 'arrival': 55920, 'duration': 8040, 'violations': []}, {'type': 'delivery', 'description': 'IP', 'location_index': 127, 'id': 148, 'setup': 0, 'service': 0, 'waiting_time': 0, 'job': 148, 'load': [3750], 'arrival': 55920, 'duration': 8040, 'violations': []}, {'type': 'delivery', 'description': 'IP', 'location_index': 127, 'id': 147, 'setup': 0, 'service': 0, 'waiting_time': 0, 'job': 147, 'load': [3500], 'arrival': 55920, 'duration': 8040, 'violations': []}, {'type': 'delivery', 'description': 'IP', 'location_index': 127, 'id': 146, 'setup': 0, 'service': 0, 'waiting_time': 0, 'job': 146, 'load': [3250], 'arrival': 55920, 'duration': 8040, 'violations': []}, {'type': 'delivery', 'description': 'IP', 'location_index': 127, 'id': 160, 'setup': 0, 'service': 0, 'waiting_time': 0, 'job': 160, 'load': [3000], 'arrival': 55920, 'duration': 8040, 'violations': []}, {'type': 'delivery', 'description': 'IP', 'location_index': 127, 'id': 161, 'setup': 0, 'service': 0, 'waiting_time': 0, 'job': 161, 'load': [2750], 'arrival': 55920, 'duration': 8040, 'violations': []}, {'type': 'delivery', 'description': 'IP', 'location_index': 127, 'id': 156, 'setup': 0, 'service': 0, 'waiting_time': 0, 'job': 156, 'load': [2500], 'arrival': 55920, 'duration': 8040, 'violations': []}, {'type': 'delivery', 'description': 'IP', 'location_index': 127, 'id': 159, 'setup': 0, 'service': 0, 'waiting_time': 0, 'job': 159, 'load': [500], 'arrival': 55920, 'duration': 8040, 'violations': []}, {'type': 'delivery', 'description': 'IP', 'location_index': 127, 'id': 158, 'setup': 0, 'service': 0, 'waiting_time': 0, 'job': 158, 'load': [250], 'arrival': 55920, 'duration': 8040, 'violations': []}, {'type': 'delivery', 'description': 'IP', 'location_index': 127, 'id': 157, 'setup': 0, 'service': 0, 'waiting_time': 0, 'job': 157, 'load': [0], 'arrival': 55920, 'duration': 8040, 'violations': []}, {'type': 'end', 'location_index': 126, 'setup': 0, 'service': 0, 'waiting_time': 0, 'load': [0], 'arrival': 56340, 'duration': 8460, 'violations': []}], 'violations': []}, {'vehicle': 2, 'cost': 10440, 'delivery': [23450], 'amount': [23450], 'pickup': [23450], 'setup': 2400, 'service': 23100, 'duration': 10440, 'waiting_time': 0, 'priority': 0, 'steps': [{'type': 'start', 'location_index': 126, 'setup': 0, 'service': 0, 'waiting_time': 0, 'load': [0], 'arrival': 25200, 'duration': 0, 'violations': []}, {'type': 'pickup', 'description': 'cluster97', 'location_index': 97, 'id': 97, 'setup': 0, 'service': 240, 'waiting_time': 0, 'job': 97, 'load': [150], 'arrival': 26520, 'duration': 1320, 'violations': []}, {'type': 'pickup', 'description': 'cluster96', 'location_index': 96, 'id': 96, 'setup': 0, 'service': 600, 'waiting_time': 0, 'job': 96, 'load': [550], 'arrival': 26940, 'duration': 1500, 'violations': []}, {'type': 'pickup', 'description': 'cluster121', 'location_index': 121, 'id': 121, 'setup': 0, 'service': 120, 'waiting_time': 0, 'job': 121, 'load': [620], 'arrival': 27720, 'duration': 1680, 'violations': []}, {'type': 'pickup', 'description': 'cluster119', 'location_index': 119, 'id': 119, 'setup': 0, 'service': 240, 'waiting_time': 0, 'job': 119, 'load': [870], 'arrival': 27900, 'duration': 1740, 'violations': []}, {'type': 'pickup', 'description': 'cluster118', 'location_index': 118, 'id': 118, 'setup': 0, 'service': 240, 'waiting_time': 0, 'job': 118, 'load': [1120], 'arrival': 28140, 'duration': 1740, 'violations': []}, {'type': 'pickup', 'description': 'cluster115', 'location_index': 115, 'id': 115, 'setup': 0, 'service': 240, 'waiting_time': 0, 'job': 115, 'load': [1370], 'arrival': 28380, 'duration': 1740, 'violations': []}, {'type': 'pickup', 'description': 'cluster114', 'location_index': 114, 'id': 114, 'setup': 0, 'service': 240, 'waiting_time': 0, 'job': 114, 'load': [1620], 'arrival': 28620, 'duration': 1740, 'violations': []}, {'type': 'pickup', 'description': 'cluster113', 'location_index': 113, 'id': 113, 'setup': 0, 'service': 240, 'waiting_time': 0, 'job': 113, 'load': [1870], 'arrival': 28860, 'duration': 1740, 'violations': []}, {'type': 'pickup', 'description': 'cluster116', 'location_index': 116, 'id': 116, 'setup': 0, 'service': 240, 'waiting_time': 0, 'job': 116, 'load': [2120], 'arrival': 29100, 'duration': 1740, 'violations': []}, {'type': 'pickup', 'description': 'cluster109', 'location_index': 109, 'id': 109, 'setup': 0, 'service': 240, 'waiting_time': 0, 'job': 109, 'load': [2620], 'arrival': 29400, 'duration': 1800, 'violations': []}, {'type': 'pickup', 'description': 'cluster117', 'location_index': 117, 'id': 117, 'setup': 0, 'service': 240, 'waiting_time': 0, 'job': 117, 'load': [2870], 'arrival': 29640, 'duration': 1800, 'violations': []}, {'type': 'pickup', 'description': 'cluster110', 'location_index': 110, 'id': 110, 'setup': 0, 'service': 240, 'waiting_time': 0, 'job': 110, 'load': [3120], 'arrival': 30000, 'duration': 1920, 'violations': []}, {'type': 'pickup', 'description': 'cluster112', 'location_index': 112, 'id': 112, 'setup': 0, 'service': 240, 'waiting_time': 0, 'job': 112, 'load': [3370], 'arrival': 30300, 'duration': 1980, 'violations': []}, {'type': 'pickup', 'description': 'cluster111', 'location_index': 111, 'id': 111, 'setup': 0, 'service': 240, 'waiting_time': 0, 'job': 111, 'load': [3620], 'arrival': 30540, 'duration': 1980, 'violations': []}, {'type': 'pickup', 'description': 'cluster125', 'location_index': 125, 'id': 125, 'setup': 0, 'service': 120, 'waiting_time': 0, 'job': 125, 'load': [3690], 'arrival': 30900, 'duration': 2100, 'violations': []}, {'type': 'pickup', 'description': 'cluster124', 'location_index': 124, 'id': 124, 'setup': 0, 'service': 240, 'waiting_time': 0, 'job': 124, 'load': [3940], 'arrival': 31080, 'duration': 2160, 'violations': []}, {'type': 'pickup', 'description': 'cluster123', 'location_index': 123, 'id': 123, 'setup': 0, 'service': 240, 'waiting_time': 0, 'job': 123, 'load': [4190], 'arrival': 31500, 'duration': 2340, 'violations': []}, {'type': 'pickup', 'description': 'cluster122', 'location_index': 122, 'id': 122, 'setup': 0, 'service': 120, 'waiting_time': 0, 'job': 122, 'load': [4260], 'arrival': 31800, 'duration': 2400, 'violations': []}, {'type': 'pickup', 'description': 'cluster61', 'location_index': 61, 'id': 61, 'setup': 0, 'service': 120, 'waiting_time': 0, 'job': 61, 'load': [4330], 'arrival': 32220, 'duration': 2700, 'violations': []}, {'type': 'pickup', 'description': 'cluster60', 'location_index': 60, 'id': 60, 'setup': 0, 'service': 240, 'waiting_time': 0, 'job': 60, 'load': [4580], 'arrival': 32340, 'duration': 2700, 'violations': []}, {'type': 'pickup', 'description': 'cluster56', 'location_index': 56, 'id': 56, 'setup': 0, 'service': 240, 'waiting_time': 0, 'job': 56, 'load': [4830], 'arrival': 32580, 'duration': 2700, 'violations': []}, {'type': 'pickup', 'description': 'cluster53', 'location_index': 53, 'id': 53, 'setup': 0, 'service': 240, 'waiting_time': 0, 'job': 53, 'load': [5080], 'arrival': 32820, 'duration': 2700, 'violations': []}, {'type': 'pickup', 'description': 'cluster52', 'location_index': 52, 'id': 52, 'setup': 0, 'service': 240, 'waiting_time': 0, 'job': 52, 'load': [5330], 'arrival': 33060, 'duration': 2700, 'violations': []}, {'type': 'pickup', 'description': 'cluster54', 'location_index': 54, 'id': 54, 'setup': 0, 'service': 240, 'waiting_time': 0, 'job': 54, 'load': [5580], 'arrival': 33300, 'duration': 2700, 'violations': []}, {'type': 'pickup', 'description': 'cluster59', 'location_index': 59, 'id': 59, 'setup': 0, 'service': 240, 'waiting_time': 0, 'job': 59, 'load': [5830], 'arrival': 33600, 'duration': 2760, 'violations': []}, {'type': 'pickup', 'description': 'cluster63', 'location_index': 63, 'id': 63, 'setup': 0, 'service': 240, 'waiting_time': 0, 'job': 63, 'load': [6080], 'arrival': 33900, 'duration': 2820, 'violations': []}, {'type': 'pickup', 'description': 'cluster57', 'location_index': 57, 'id': 57, 'setup': 0, 'service': 240, 'waiting_time': 0, 'job': 57, 'load': [6330], 'arrival': 34140, 'duration': 2820, 'violations': []}, {'type': 'pickup', 'description': 'cluster81', 'location_index': 81, 'id': 81, 'setup': 0, 'service': 240, 'waiting_time': 0, 'job': 81, 'load': [6580], 'arrival': 34620, 'duration': 3060, 'violations': []}, {'type': 'pickup', 'description': 'cluster107', 'location_index': 107, 'id': 107, 'setup': 0, 'service': 240, 'waiting_time': 0, 'job': 107, 'load': [6830], 'arrival': 35280, 'duration': 3480, 'violations': []}, {'type': 'pickup', 'description': 'cluster106', 'location_index': 106, 'id': 106, 'setup': 0, 'service': 240, 'waiting_time': 0, 'job': 106, 'load': [7080], 'arrival': 35640, 'duration': 3600, 'violations': []}, {'type': 'pickup', 'description': 'cluster104', 'location_index': 104, 'id': 104, 'setup': 0, 'service': 240, 'waiting_time': 0, 'job': 104, 'load': [7330], 'arrival': 35880, 'duration': 3600, 'violations': []}, {'type': 'pickup', 'description': 'cluster103', 'location_index': 103, 'id': 103, 'setup': 0, 'service': 240, 'waiting_time': 0, 'job': 103, 'load': [7580], 'arrival': 36120, 'duration': 3600, 'violations': []}, {'type': 'pickup', 'description': 'cluster105', 'location_index': 105, 'id': 105, 'setup': 0, 'service': 240, 'waiting_time': 0, 'job': 105, 'load': [7830], 'arrival': 36360, 'duration': 3600, 'violations': []}, {'type': 'pickup', 'description': 'cluster100', 'location_index': 100, 'id': 100, 'setup': 0, 'service': 240, 'waiting_time': 0, 'job': 100, 'load': [8080], 'arrival': 36720, 'duration': 3720, 'violations': []}, {'type': 'pickup', 'description': 'cluster102', 'location_index': 102, 'id': 102, 'setup': 0, 'service': 240, 'waiting_time': 0, 'job': 102, 'load': [8330], 'arrival': 36960, 'duration': 3720, 'violations': []}, {'type': 'pickup', 'description': 'cluster101', 'location_index': 101, 'id': 101, 'setup': 0, 'service': 240, 'waiting_time': 0, 'job': 101, 'load': [8580], 'arrival': 37200, 'duration': 3720, 'violations': []}, {'type': 'pickup', 'description': 'cluster120', 'location_index': 120, 'id': 120, 'setup': 0, 'service': 120, 'waiting_time': 0, 'job': 120, 'load': [8650], 'arrival': 37500, 'duration': 3780, 'violations': []}, {'type': 'pickup', 'description': 'cluster108', 'location_index': 108, 'id': 108, 'setup': 0, 'service': 240, 'waiting_time': 0, 'job': 108, 'load': [8900], 'arrival': 37740, 'duration': 3900, 'violations': []}, {'type': 'pickup', 'description': 'cluster99', 'location_index': 99, 'id': 99, 'setup': 0, 'service': 600, 'waiting_time': 0, 'job': 99, 'load': [9400], 'arrival': 38160, 'duration': 4080, 'violations': []}, {'type': 'pickup', 'description': 'cluster95', 'location_index': 95, 'id': 95, 'setup': 0, 'service': 240, 'waiting_time': 0, 'job': 95, 'load': [9650], 'arrival': 38880, 'duration': 4200, 'violations': []}, {'type': 'pickup', 'description': 'cluster92', 'location_index': 92, 'id': 92, 'setup': 0, 'service': 240, 'waiting_time': 0, 'job': 92, 'load': [9900], 'arrival': 39120, 'duration': 4200, 'violations': []}, {'type': 'pickup', 'description': 'cluster94', 'location_index': 94, 'id': 94, 'setup': 0, 'service': 240, 'waiting_time': 0, 'job': 94, 'load': [10150], 'arrival': 39420, 'duration': 4260, 'violations': []}, {'type': 'pickup', 'description': 'cluster93', 'location_index': 93, 'id': 93, 'setup': 0, 'service': 240, 'waiting_time': 0, 'job': 93, 'load': [10400], 'arrival': 39660, 'duration': 4260, 'violations': []}, {'type': 'pickup', 'description': 'cluster91', 'location_index': 91, 'id': 91, 'setup': 0, 'service': 600, 'waiting_time': 0, 'job': 91, 'load': [11400], 'arrival': 39960, 'duration': 4320, 'violations': []}, {'type': 'pickup', 'description': 'cluster98', 'location_index': 98, 'id': 98, 'setup': 0, 'service': 480, 'waiting_time': 0, 'job': 98, 'load': [11520], 'arrival': 40680, 'duration': 4440, 'violations': []}, {'type': 'delivery', 'description': 'IP', 'location_index': 127, 'id': 246, 'setup': 1200, 'service': 0, 'waiting_time': 0, 'job': 246, 'load': [11270], 'arrival': 42660, 'duration': 5940, 'violations': []}, {'type': 'delivery', 'description': 'IP', 'location_index': 127, 'id': 241, 'setup': 0, 'service': 0, 'waiting_time': 0, 'job': 241, 'load': [11020], 'arrival': 43860, 'duration': 5940, 'violations': []}, {'type': 'delivery', 'description': 'IP', 'location_index': 127, 'id': 209, 'setup': 0, 'service': 0, 'waiting_time': 0, 'job': 209, 'load': [10770], 'arrival': 43860, 'duration': 5940, 'violations': []}, {'type': 'delivery', 'description': 'IP', 'location_index': 127, 'id': 187, 'setup': 0, 'service': 0, 'waiting_time': 0, 'job': 187, 'load': [10520], 'arrival': 43860, 'duration': 5940, 'violations': []}, {'type': 'delivery', 'description': 'IP', 'location_index': 127, 'id': 191, 'setup': 0, 'service': 0, 'waiting_time': 0, 'job': 191, 'load': [10270], 'arrival': 43860, 'duration': 5940, 'violations': []}, {'type': 'delivery', 'description': 'IP', 'location_index': 127, 'id': 188, 'setup': 0, 'service': 0, 'waiting_time': 0, 'job': 188, 'load': [10020], 'arrival': 43860, 'duration': 5940, 'violations': []}, {'type': 'delivery', 'description': 'IP', 'location_index': 127, 'id': 185, 'setup': 0, 'service': 0, 'waiting_time': 0, 'job': 185, 'load': [9770], 'arrival': 43860, 'duration': 5940, 'violations': []}, {'type': 'delivery', 'description': 'IP', 'location_index': 127, 'id': 184, 'setup': 0, 'service': 0, 'waiting_time': 0, 'job': 184, 'load': [9520], 'arrival': 43860, 'duration': 5940, 'violations': []}, {'type': 'delivery', 'description': 'IP', 'location_index': 127, 'id': 182, 'setup': 0, 'service': 0, 'waiting_time': 0, 'job': 182, 'load': [9270], 'arrival': 43860, 'duration': 5940, 'violations': []}, {'type': 'delivery', 'description': 'IP', 'location_index': 127, 'id': 180, 'setup': 0, 'service': 0, 'waiting_time': 0, 'job': 180, 'load': [9020], 'arrival': 43860, 'duration': 5940, 'violations': []}, {'type': 'delivery', 'description': 'IP', 'location_index': 127, 'id': 181, 'setup': 0, 'service': 0, 'waiting_time': 0, 'job': 181, 'load': [8770], 'arrival': 43860, 'duration': 5940, 'violations': []}, {'type': 'delivery', 'description': 'IP', 'location_index': 127, 'id': 251, 'setup': 0, 'service': 0, 'waiting_time': 0, 'job': 251, 'load': [8520], 'arrival': 43860, 'duration': 5940, 'violations': []}, {'type': 'delivery', 'description': 'IP', 'location_index': 127, 'id': 250, 'setup': 0, 'service': 0, 'waiting_time': 0, 'job': 250, 'load': [8450], 'arrival': 43860, 'duration': 5940, 'violations': []}, {'type': 'delivery', 'description': 'IP', 'location_index': 127, 'id': 252, 'setup': 0, 'service': 0, 'waiting_time': 0, 'job': 252, 'load': [8200], 'arrival': 43860, 'duration': 5940, 'violations': []}, {'type': 'delivery', 'description': 'IP', 'location_index': 127, 'id': 235, 'setup': 0, 'service': 0, 'waiting_time': 0, 'job': 235, 'load': [7950], 'arrival': 43860, 'duration': 5940, 'violations': []}, {'type': 'delivery', 'description': 'IP', 'location_index': 127, 'id': 234, 'setup': 0, 'service': 0, 'waiting_time': 0, 'job': 234, 'load': [7700], 'arrival': 43860, 'duration': 5940, 'violations': []}, {'type': 'delivery', 'description': 'IP', 'location_index': 127, 'id': 231, 'setup': 0, 'service': 0, 'waiting_time': 0, 'job': 231, 'load': [7450], 'arrival': 43860, 'duration': 5940, 'violations': []}, {'type': 'delivery', 'description': 'IP', 'location_index': 127, 'id': 233, 'setup': 0, 'service': 0, 'waiting_time': 0, 'job': 233, 'load': [7200], 'arrival': 43860, 'duration': 5940, 'violations': []}, {'type': 'delivery', 'description': 'IP', 'location_index': 127, 'id': 232, 'setup': 0, 'service': 0, 'waiting_time': 0, 'job': 232, 'load': [6950], 'arrival': 43860, 'duration': 5940, 'violations': []}, {'type': 'delivery', 'description': 'IP', 'location_index': 127, 'id': 236, 'setup': 0, 'service': 0, 'waiting_time': 0, 'job': 236, 'load': [6700], 'arrival': 43860, 'duration': 5940, 'violations': []}, {'type': 'delivery', 'description': 'IP', 'location_index': 127, 'id': 248, 'setup': 0, 'service': 0, 'waiting_time': 0, 'job': 248, 'load': [6630], 'arrival': 43860, 'duration': 5940, 'violations': []}, {'type': 'delivery', 'description': 'IP', 'location_index': 127, 'id': 229, 'setup': 0, 'service': 0, 'waiting_time': 0, 'job': 229, 'load': [6380], 'arrival': 43860, 'duration': 5940, 'violations': []}, {'type': 'delivery', 'description': 'IP', 'location_index': 127, 'id': 230, 'setup': 0, 'service': 0, 'waiting_time': 0, 'job': 230, 'load': [6130], 'arrival': 43860, 'duration': 5940, 'violations': []}, {'type': 'delivery', 'description': 'IP', 'location_index': 127, 'id': 228, 'setup': 0, 'service': 0, 'waiting_time': 0, 'job': 228, 'load': [5880], 'arrival': 43860, 'duration': 5940, 'violations': []}, {'type': 'delivery', 'description': 'IP', 'location_index': 127, 'id': 225, 'setup': 0, 'service': 0, 'waiting_time': 0, 'job': 225, 'load': [5730], 'arrival': 43860, 'duration': 5940, 'violations': []}, {'type': 'delivery', 'description': 'IP', 'location_index': 127, 'id': 224, 'setup': 0, 'service': 0, 'waiting_time': 0, 'job': 224, 'load': [5330], 'arrival': 43860, 'duration': 5940, 'violations': []}, {'type': 'delivery', 'description': 'IP', 'location_index': 127, 'id': 238, 'setup': 0, 'service': 0, 'waiting_time': 0, 'job': 238, 'load': [5080], 'arrival': 43860, 'duration': 5940, 'violations': []}, {'type': 'delivery', 'description': 'IP', 'location_index': 127, 'id': 244, 'setup': 0, 'service': 0, 'waiting_time': 0, 'job': 244, 'load': [4830], 'arrival': 43860, 'duration': 5940, 'violations': []}, {'type': 'delivery', 'description': 'IP', 'location_index': 127, 'id': 247, 'setup': 0, 'service': 0, 'waiting_time': 0, 'job': 247, 'load': [4580], 'arrival': 43860, 'duration': 5940, 'violations': []}, {'type': 'delivery', 'description': 'IP', 'location_index': 127, 'id': 243, 'setup': 0, 'service': 0, 'waiting_time': 0, 'job': 243, 'load': [4330], 'arrival': 43860, 'duration': 5940, 'violations': []}, {'type': 'delivery', 'description': 'IP', 'location_index': 127, 'id': 242, 'setup': 0, 'service': 0, 'waiting_time': 0, 'job': 242, 'load': [4080], 'arrival': 43860, 'duration': 5940, 'violations': []}, {'type': 'delivery', 'description': 'IP', 'location_index': 127, 'id': 237, 'setup': 0, 'service': 0, 'waiting_time': 0, 'job': 237, 'load': [3580], 'arrival': 43860, 'duration': 5940, 'violations': []}, {'type': 'delivery', 'description': 'IP', 'location_index': 127, 'id': 245, 'setup': 0, 'service': 0, 'waiting_time': 0, 'job': 245, 'load': [3330], 'arrival': 43860, 'duration': 5940, 'violations': []}, {'type': 'delivery', 'description': 'IP', 'location_index': 127, 'id': 240, 'setup': 0, 'service': 0, 'waiting_time': 0, 'job': 240, 'load': [3080], 'arrival': 43860, 'duration': 5940, 'violations': []}, {'type': 'delivery', 'description': 'IP', 'location_index': 127, 'id': 239, 'setup': 0, 'service': 0, 'waiting_time': 0, 'job': 239, 'load': [2830], 'arrival': 43860, 'duration': 5940, 'violations': []}, {'type': 'delivery', 'description': 'IP', 'location_index': 127, 'id': 227, 'setup': 0, 'service': 0, 'waiting_time': 0, 'job': 227, 'load': [2330], 'arrival': 43860, 'duration': 5940, 'violations': []}, {'type': 'delivery', 'description': 'IP', 'location_index': 127, 'id': 249, 'setup': 0, 'service': 0, 'waiting_time': 0, 'job': 249, 'load': [2260], 'arrival': 43860, 'duration': 5940, 'violations': []}, {'type': 'delivery', 'description': 'IP', 'location_index': 127, 'id': 253, 'setup': 0, 'service': 0, 'waiting_time': 0, 'job': 253, 'load': [2190], 'arrival': 43860, 'duration': 5940, 'violations': []}, {'type': 'delivery', 'description': 'IP', 'location_index': 127, 'id': 220, 'setup': 0, 'service': 0, 'waiting_time': 0, 'job': 220, 'load': [1940], 'arrival': 43860, 'duration': 5940, 'violations': []}, {'type': 'delivery', 'description': 'IP', 'location_index': 127, 'id': 223, 'setup': 0, 'service': 0, 'waiting_time': 0, 'job': 223, 'load': [1690], 'arrival': 43860, 'duration': 5940, 'violations': []}, {'type': 'delivery', 'description': 'IP', 'location_index': 127, 'id': 222, 'setup': 0, 'service': 0, 'waiting_time': 0, 'job': 222, 'load': [1440], 'arrival': 43860, 'duration': 5940, 'violations': []}, {'type': 'delivery', 'description': 'IP', 'location_index': 127, 'id': 221, 'setup': 0, 'service': 0, 'waiting_time': 0, 'job': 221, 'load': [1190], 'arrival': 43860, 'duration': 5940, 'violations': []}, {'type': 'delivery', 'description': 'IP', 'location_index': 127, 'id': 219, 'setup': 0, 'service': 0, 'waiting_time': 0, 'job': 219, 'load': [190], 'arrival': 43860, 'duration': 5940, 'violations': []}, {'type': 'delivery', 'description': 'IP', 'location_index': 127, 'id': 226, 'setup': 0, 'service': 0, 'waiting_time': 0, 'job': 226, 'load': [70], 'arrival': 43860, 'duration': 5940, 'violations': []}, {'type': 'pickup', 'description': 'cluster65', 'location_index': 65, 'id': 65, 'setup': 0, 'service': 120, 'waiting_time': 0, 'job': 65, 'load': [140], 'arrival': 45600, 'duration': 7680, 'violations': []}, {'type': 'pickup', 'description': 'cluster64', 'location_index': 64, 'id': 64, 'setup': 0, 'service': 120, 'waiting_time': 0, 'job': 64, 'load': [210], 'arrival': 45780, 'duration': 7740, 'violations': []}, {'type': 'pickup', 'description': 'cluster62', 'location_index': 62, 'id': 62, 'setup': 0, 'service': 120, 'waiting_time': 0, 'job': 62, 'load': [280], 'arrival': 45900, 'duration': 7740, 'violations': []}, {'type': 'pickup', 'description': 'cluster58', 'location_index': 58, 'id': 58, 'setup': 0, 'service': 240, 'waiting_time': 0, 'job': 58, 'load': [530], 'arrival': 46020, 'duration': 7740, 'violations': []}, {'type': 'pickup', 'description': 'cluster55', 'location_index': 55, 'id': 55, 'setup': 0, 'service': 120, 'waiting_time': 0, 'job': 55, 'load': [600], 'arrival': 46260, 'duration': 7740, 'violations': []}, {'type': 'pickup', 'description': 'cluster82', 'location_index': 82, 'id': 82, 'setup': 0, 'service': 240, 'waiting_time': 0, 'job': 82, 'load': [1100], 'arrival': 46500, 'duration': 7860, 'violations': []}, {'type': 'pickup', 'description': 'cluster86', 'location_index': 86, 'id': 86, 'setup': 0, 'service': 1200, 'waiting_time': 0, 'job': 86, 'load': [1500], 'arrival': 46800, 'duration': 7920, 'violations': []}, {'type': 'pickup', 'description': 'cluster90', 'location_index': 90, 'id': 90, 'setup': 0, 'service': 900, 'waiting_time': 0, 'job': 90, 'load': [1750], 'arrival': 48060, 'duration': 7980, 'violations': []}, {'type': 'pickup', 'description': 'cluster85', 'location_index': 85, 'id': 85, 'setup': 0, 'service': 1200, 'waiting_time': 0, 'job': 85, 'load': [2750], 'arrival': 48960, 'duration': 7980, 'violations': []}, {'type': 'pickup', 'description': 'cluster68', 'location_index': 68, 'id': 68, 'setup': 0, 'service': 240, 'waiting_time': 0, 'job': 68, 'load': [2950], 'arrival': 50220, 'duration': 8040, 'violations': []}, {'type': 'pickup', 'description': 'cluster66', 'location_index': 66, 'id': 66, 'setup': 0, 'service': 1200, 'waiting_time': 0, 'job': 66, 'load': [4950], 'arrival': 50460, 'duration': 8040, 'violations': []}, {'type': 'pickup', 'description': 'cluster83', 'location_index': 83, 'id': 83, 'setup': 0, 'service': 1200, 'waiting_time': 0, 'job': 83, 'load': [5300], 'arrival': 51660, 'duration': 8040, 'violations': []}, {'type': 'pickup', 'description': 'cluster67', 'location_index': 67, 'id': 67, 'setup': 0, 'service': 240, 'waiting_time': 0, 'job': 67, 'load': [5550], 'arrival': 52920, 'duration': 8100, 'violations': []}, {'type': 'pickup', 'description': 'cluster73', 'location_index': 73, 'id': 73, 'setup': 0, 'service': 240, 'waiting_time': 0, 'job': 73, 'load': [6050], 'arrival': 53220, 'duration': 8160, 'violations': []}, {'type': 'pickup', 'description': 'cluster72', 'location_index': 72, 'id': 72, 'setup': 0, 'service': 240, 'waiting_time': 0, 'job': 72, 'load': [6550], 'arrival': 53460, 'duration': 8160, 'violations': []}, {'type': 'pickup', 'description': 'cluster71', 'location_index': 71, 'id': 71, 'setup': 0, 'service': 240, 'waiting_time': 0, 'job': 71, 'load': [7050], 'arrival': 53700, 'duration': 8160, 'violations': []}, {'type': 'pickup', 'description': 'cluster70', 'location_index': 70, 'id': 70, 'setup': 0, 'service': 240, 'waiting_time': 0, 'job': 70, 'load': [7550], 'arrival': 53940, 'duration': 8160, 'violations': []}, {'type': 'pickup', 'description': 'cluster69', 'location_index': 69, 'id': 69, 'setup': 0, 'service': 240, 'waiting_time': 0, 'job': 69, 'load': [8050], 'arrival': 54180, 'duration': 8160, 'violations': []}, {'type': 'pickup', 'description': 'cluster77', 'location_index': 77, 'id': 77, 'setup': 0, 'service': 240, 'waiting_time': 0, 'job': 77, 'load': [8550], 'arrival': 54480, 'duration': 8220, 'violations': []}, {'type': 'pickup', 'description': 'cluster76', 'location_index': 76, 'id': 76, 'setup': 0, 'service': 240, 'waiting_time': 0, 'job': 76, 'load': [9050], 'arrival': 54720, 'duration': 8220, 'violations': []}, {'type': 'pickup', 'description': 'cluster75', 'location_index': 75, 'id': 75, 'setup': 0, 'service': 240, 'waiting_time': 0, 'job': 75, 'load': [9550], 'arrival': 54960, 'duration': 8220, 'violations': []}, {'type': 'pickup', 'description': 'cluster74', 'location_index': 74, 'id': 74, 'setup': 0, 'service': 240, 'waiting_time': 0, 'job': 74, 'load': [10050], 'arrival': 55200, 'duration': 8220, 'violations': []}, {'type': 'pickup', 'description': 'cluster84', 'location_index': 84, 'id': 84, 'setup': 0, 'service': 240, 'waiting_time': 0, 'job': 84, 'load': [10300], 'arrival': 55500, 'duration': 8280, 'violations': []}, {'type': 'pickup', 'description': 'cluster87', 'location_index': 87, 'id': 87, 'setup': 0, 'service': 1200, 'waiting_time': 0, 'job': 87, 'load': [11000], 'arrival': 55740, 'duration': 8280, 'violations': []}, {'type': 'pickup', 'description': 'cluster88', 'location_index': 88, 'id': 88, 'setup': 0, 'service': 240, 'waiting_time': 0, 'job': 88, 'load': [11250], 'arrival': 56940, 'duration': 8280, 'violations': []}, {'type': 'pickup', 'description': 'cluster89', 'location_index': 89, 'id': 89, 'setup': 0, 'service': 600, 'waiting_time': 0, 'job': 89, 'load': [12000], 'arrival': 57180, 'duration': 8280, 'violations': []}, {'type': 'delivery', 'description': 'IP', 'location_index': 127, 'id': 189, 'setup': 1200, 'service': 0, 'waiting_time': 0, 'job': 189, 'load': [11930], 'arrival': 59520, 'duration': 10020, 'violations': []}, {'type': 'delivery', 'description': 'IP', 'location_index': 127, 'id': 192, 'setup': 0, 'service': 0, 'waiting_time': 0, 'job': 192, 'load': [11860], 'arrival': 60720, 'duration': 10020, 'violations': []}, {'type': 'delivery', 'description': 'IP', 'location_index': 127, 'id': 190, 'setup': 0, 'service': 0, 'waiting_time': 0, 'job': 190, 'load': [11790], 'arrival': 60720, 'duration': 10020, 'violations': []}, {'type': 'delivery', 'description': 'IP', 'location_index': 127, 'id': 183, 'setup': 0, 'service': 0, 'waiting_time': 0, 'job': 183, 'load': [11720], 'arrival': 60720, 'duration': 10020, 'violations': []}, {'type': 'delivery', 'description': 'IP', 'location_index': 127, 'id': 186, 'setup': 0, 'service': 0, 'waiting_time': 0, 'job': 186, 'load': [11470], 'arrival': 60720, 'duration': 10020, 'violations': []}, {'type': 'delivery', 'description': 'IP', 'location_index': 127, 'id': 193, 'setup': 0, 'service': 0, 'waiting_time': 0, 'job': 193, 'load': [11400], 'arrival': 60720, 'duration': 10020, 'violations': []}, {'type': 'delivery', 'description': 'IP', 'location_index': 127, 'id': 210, 'setup': 0, 'service': 0, 'waiting_time': 0, 'job': 210, 'load': [10900], 'arrival': 60720, 'duration': 10020, 'violations': []}, {'type': 'delivery', 'description': 'IP', 'location_index': 127, 'id': 217, 'setup': 0, 'service': 0, 'waiting_time': 0, 'job': 217, 'load': [10150], 'arrival': 60720, 'duration': 10020, 'violations': []}, {'type': 'delivery', 'description': 'IP', 'location_index': 127, 'id': 201, 'setup': 0, 'service': 0, 'waiting_time': 0, 'job': 201, 'load': [9650], 'arrival': 60720, 'duration': 10020, 'violations': []}, {'type': 'delivery', 'description': 'IP', 'location_index': 127, 'id': 200, 'setup': 0, 'service': 0, 'waiting_time': 0, 'job': 200, 'load': [9150], 'arrival': 60720, 'duration': 10020, 'violations': []}, {'type': 'delivery', 'description': 'IP', 'location_index': 127, 'id': 199, 'setup': 0, 'service': 0, 'waiting_time': 0, 'job': 199, 'load': [8650], 'arrival': 60720, 'duration': 10020, 'violations': []}, {'type': 'delivery', 'description': 'IP', 'location_index': 127, 'id': 198, 'setup': 0, 'service': 0, 'waiting_time': 0, 'job': 198, 'load': [8150], 'arrival': 60720, 'duration': 10020, 'violations': []}, {'type': 'delivery', 'description': 'IP', 'location_index': 127, 'id': 197, 'setup': 0, 'service': 0, 'waiting_time': 0, 'job': 197, 'load': [7650], 'arrival': 60720, 'duration': 10020, 'violations': []}, {'type': 'delivery', 'description': 'IP', 'location_index': 127, 'id': 218, 'setup': 0, 'service': 0, 'waiting_time': 0, 'job': 218, 'load': [7400], 'arrival': 60720, 'duration': 10020, 'violations': []}, {'type': 'delivery', 'description': 'IP', 'location_index': 127, 'id': 213, 'setup': 0, 'service': 0, 'waiting_time': 0, 'job': 213, 'load': [6400], 'arrival': 60720, 'duration': 10020, 'violations': []}, {'type': 'delivery', 'description': 'IP', 'location_index': 127, 'id': 195, 'setup': 0, 'service': 0, 'waiting_time': 0, 'job': 195, 'load': [6150], 'arrival': 60720, 'duration': 10020, 'violations': []}, {'type': 'delivery', 'description': 'IP', 'location_index': 127, 'id': 196, 'setup': 0, 'service': 0, 'waiting_time': 0, 'job': 196, 'load': [5950], 'arrival': 60720, 'duration': 10020, 'violations': []}, {'type': 'delivery', 'description': 'IP', 'location_index': 127, 'id': 194, 'setup': 0, 'service': 0, 'waiting_time': 0, 'job': 194, 'load': [3950], 'arrival': 60720, 'duration': 10020, 'violations': []}, {'type': 'delivery', 'description': 'IP', 'location_index': 127, 'id': 216, 'setup': 0, 'service': 0, 'waiting_time': 0, 'job': 216, 'load': [3700], 'arrival': 60720, 'duration': 10020, 'violations': []}, {'type': 'delivery', 'description': 'IP', 'location_index': 127, 'id': 214, 'setup': 0, 'service': 0, 'waiting_time': 0, 'job': 214, 'load': [3300], 'arrival': 60720, 'duration': 10020, 'violations': []}, {'type': 'delivery', 'description': 'IP', 'location_index': 127, 'id': 211, 'setup': 0, 'service': 0, 'waiting_time': 0, 'job': 211, 'load': [2950], 'arrival': 60720, 'duration': 10020, 'violations': []}, {'type': 'delivery', 'description': 'IP', 'location_index': 127, 'id': 205, 'setup': 0, 'service': 0, 'waiting_time': 0, 'job': 205, 'load': [2450], 'arrival': 60720, 'duration': 10020, 'violations': []}, {'type': 'delivery', 'description': 'IP', 'location_index': 127, 'id': 204, 'setup': 0, 'service': 0, 'waiting_time': 0, 'job': 204, 'load': [1950], 'arrival': 60720, 'duration': 10020, 'violations': []}, {'type': 'delivery', 'description': 'IP', 'location_index': 127, 'id': 215, 'setup': 0, 'service': 0, 'waiting_time': 0, 'job': 215, 'load': [1250], 'arrival': 60720, 'duration': 10020, 'violations': []}, {'type': 'delivery', 'description': 'IP', 'location_index': 127, 'id': 212, 'setup': 0, 'service': 0, 'waiting_time': 0, 'job': 212, 'load': [1000], 'arrival': 60720, 'duration': 10020, 'violations': []}, {'type': 'delivery', 'description': 'IP', 'location_index': 127, 'id': 203, 'setup': 0, 'service': 0, 'waiting_time': 0, 'job': 203, 'load': [500], 'arrival': 60720, 'duration': 10020, 'violations': []}, {'type': 'delivery', 'description': 'IP', 'location_index': 127, 'id': 202, 'setup': 0, 'service': 0, 'waiting_time': 0, 'job': 202, 'load': [0], 'arrival': 60720, 'duration': 10020, 'violations': []}, {'type': 'end', 'location_index': 126, 'setup': 0, 'service': 0, 'waiting_time': 0, 'load': [0], 'arrival': 61140, 'duration': 10440, 'violations': []}], 'violations': []}]}\n"
     ]
    }
   ],
   "source": [
    "from solve_no_clusters import solve_nocluster\n",
    "output = solve_nocluster(data)\n",
    "\n",
    "print(output)"
   ]
  },
  {
   "cell_type": "markdown",
   "metadata": {},
   "source": [
    "### Add in VehicleTypes data"
   ]
  },
  {
   "cell_type": "code",
   "execution_count": 4,
   "metadata": {},
   "outputs": [],
   "source": [
    "data[\"vehicleTypes\"] = [{'id' : 0,'Name' : \"4x2\",\n",
    "     'Capacity' : 8000,\n",
    "     'Range' : 300000},\n",
    "     {'id' : 1,\n",
    "     'Name' : \"6x4\",\n",
    "     'Capacity' : 12000,\n",
    "     'Range' : 300000},\n",
    "     {'id' : 2,\n",
    "     'Name' : \"8x2\",\n",
    "     'Capacity' : 16000,\n",
    "     'Range' : 300000}\n",
    "]"
   ]
  },
  {
   "cell_type": "markdown",
   "metadata": {},
   "source": [
    "### Convert to DataFrame"
   ]
  },
  {
   "cell_type": "code",
   "execution_count": 5,
   "metadata": {},
   "outputs": [],
   "source": [
    "solverConfig = data[\"solverConfig\"]\n",
    "points = data[\"pointsToAssign\"]\n",
    "fleet = data[\"vehiclesInvolved\"]\n",
    "routes = data[\"routesInvolved\"]\n",
    "vtypes = data['vehicleTypes']\n",
    "\n",
    "solverConfig[\"useClusters\"] = False"
   ]
  },
  {
   "cell_type": "code",
   "execution_count": 6,
   "metadata": {},
   "outputs": [],
   "source": [
    "points = pd.DataFrame.from_dict(points)\n",
    "fleet = pd.DataFrame.from_dict(fleet)\n",
    "routes = pd.DataFrame.from_dict(routes)\n",
    "vtypes = pd.DataFrame.from_dict(vtypes)"
   ]
  },
  {
   "cell_type": "code",
   "execution_count": 7,
   "metadata": {},
   "outputs": [
    {
     "data": {
      "text/plain": [
       "0.26666666666666666"
      ]
     },
     "execution_count": 7,
     "metadata": {},
     "output_type": "execute_result"
    }
   ],
   "source": [
    "endpoint = \"http://localhost:5001\"\n",
    "querycar = OsrmQuery(endpoint, 'car')\n",
    "route_response = querycar.find_route(1.2984382,103.8047524,1.2980271,103.8050503,u_turn_allowed=True)\n",
    "route_response[\"routes\"][0][\"duration\"]/60"
   ]
  },
  {
   "cell_type": "code",
   "execution_count": 8,
   "metadata": {},
   "outputs": [
    {
     "data": {
      "text/plain": [
       "Index(['id', 'House', 'Street', 'Alias', 'Postal_Code', 'Premises',\n",
       "       'Direct Collection', 'Allowed_Veh', 'Ideal_Vehicle_Type',\n",
       "       'Service_Time_min', 'Vehicle_Type_Allowed', 'Min_Collection_Time_hrs',\n",
       "       'Max_Collection_Time_hrs', 'Time_Collected_hrs', 'Tonnage_kg',\n",
       "       'Manpower', 'Remarks', 'Route_ID', 'Vehicle_ID', 'Lat_User',\n",
       "       'Long_User', 'Fatigue', 'Leg', 'Node_Osmid', 'Node_Latlong',\n",
       "       'User_LongLat', 'Poly_Cluster', 'Network_Cluster',\n",
       "       'Network_Vehicle_Type_Allowed', 'User_Timing', 'Cluster_Start',\n",
       "       'Cluster_End', 'Completed'],\n",
       "      dtype='object')"
      ]
     },
     "execution_count": 8,
     "metadata": {},
     "output_type": "execute_result"
    }
   ],
   "source": [
    "points.columns"
   ]
  },
  {
   "cell_type": "code",
   "execution_count": 9,
   "metadata": {},
   "outputs": [],
   "source": [
    "vtypes2str = dict(zip(vtypes.id.tolist(),vtypes.Name.tolist()))\n",
    "vtypes2id = dict(zip(vtypes.Name.tolist(),vtypes.id.tolist()))"
   ]
  },
  {
   "cell_type": "code",
   "execution_count": 10,
   "metadata": {},
   "outputs": [],
   "source": [
    "# convert Vehicle_Type back to string\n",
    "fleet[\"Vehicle_Type\"] = fleet[\"Vehicle_Type\"].apply(lambda x: vtypes2str[x])"
   ]
  },
  {
   "cell_type": "code",
   "execution_count": 11,
   "metadata": {},
   "outputs": [
    {
     "name": "stdout",
     "output_type": "stream",
     "text": [
      "{'8x2': [0], '6x4': [2]}\n"
     ]
    }
   ],
   "source": [
    "# check if a vehicle is servicing point.route_id, if true set allowed vehicle as the vehicle id\n",
    "\n",
    "rid2vid = dict(zip(fleet.Route_ID.tolist(),fleet.id.tolist()))\n",
    "vt2vid = dict(zip(fleet.Vehicle_Type.tolist(),fleet.id.tolist()))\n",
    "\n",
    "vt2vid  = {}\n",
    "\n",
    "for idx, vtype in enumerate(fleet['Vehicle_Type']):\n",
    "    if vtype not in vt2vid :\n",
    "        vt2vid[vtype] = []\n",
    "        vt2vid[vtype].append(fleet[\"id\"][idx])\n",
    "    else:\n",
    "        vt2vid[vtype].append(fleet[\"id\"][idx])\n",
    "print(vt2vid)\n"
   ]
  },
  {
   "cell_type": "markdown",
   "metadata": {},
   "source": [
    "### Find vehicle skils before clustering"
   ]
  },
  {
   "cell_type": "code",
   "execution_count": 12,
   "metadata": {},
   "outputs": [],
   "source": [
    "vehicle_skills = {}\n",
    "for vid in fleet.id:\n",
    "    vehicle_skills[vid] = []\n",
    "\n",
    "for idx, p in points.iterrows():\n",
    "    # if route_id of points is inside vehicle, append p.id to vehicle\n",
    "    rid = p[\"Route_ID\"]\n",
    "    allowed_veh = []\n",
    "    if rid in rid2vid.keys():\n",
    "        vid = rid2vid[rid]\n",
    "        vehicle_skills[vid].append(p['id'])\n",
    "        points.loc[idx,\"Allowed_Veh\"] = str(vid)\n",
    "    else:\n",
    "        # if vehicles does not have assigned routes, fall back to checking vehicle_type_allowed tags\n",
    "        allowed_veh_list = []\n",
    "        for vt in p[\"Vehicle_Type_Allowed\"].split(\",\"):\n",
    "            if vt in vt2vid.keys():\n",
    "                allowed_veh_list += [str(i) for i in vt2vid[vt]]\n",
    "                for vid in vt2vid[vt]:\n",
    "                    vehicle_skills[vid].append(p['id'])\n",
    "        allowed_veh = \",\".join(allowed_veh_list)\n",
    "        points.loc[idx,\"Allowed_Veh\"] = allowed_veh"
   ]
  },
  {
   "cell_type": "markdown",
   "metadata": {},
   "source": [
    "### Cluster Points again if using clustering"
   ]
  },
  {
   "cell_type": "code",
   "execution_count": 13,
   "metadata": {},
   "outputs": [],
   "source": [
    "cluster_midpoints = list(zip(points[\"Lat_User\"].tolist(), points[\"Long_User\"].tolist()))"
   ]
  },
  {
   "cell_type": "markdown",
   "metadata": {},
   "source": [
    "### Add Start Point and End Points"
   ]
  },
  {
   "cell_type": "code",
   "execution_count": 14,
   "metadata": {},
   "outputs": [
    {
     "name": "stdout",
     "output_type": "stream",
     "text": [
      "tuas@ 126\n",
      "ip@ 127\n"
     ]
    }
   ],
   "source": [
    "tuas_osmid, tuas_latlong = querycar.find_nearest(1.33469, 103.64579)\n",
    "ip_osmid, ip_latlong = querycar.find_nearest(1.29607, 103.62173)\n",
    "work_timewindows = [7*60*60,24*60*60]\n",
    "\n",
    "cluster_latlongs = cluster_midpoints.copy()\n",
    "cluster_latlongs.append(tuas_latlong)\n",
    "print(\"tuas@\",len(cluster_latlongs)-1)\n",
    "depot_idx = len(cluster_latlongs)-1\n",
    "cluster_latlongs.append(ip_latlong)\n",
    "print(\"ip@\",len(cluster_latlongs)-1)\n",
    "ip_idx = len(cluster_latlongs)-1"
   ]
  },
  {
   "cell_type": "markdown",
   "metadata": {},
   "source": [
    "### Calculate distance matrix"
   ]
  },
  {
   "cell_type": "code",
   "execution_count": 15,
   "metadata": {},
   "outputs": [
    {
     "name": "stdout",
     "output_type": "stream",
     "text": [
      "/table/v1/car/103.803251749,1.2975874959;103.8015381601,1.2991045323;103.8012557253,1.2981694472;103.8029222855,1.2970478898;103.8034980162,1.2949669;103.8059849537,1.2938049;103.8042774846,1.2956737;103.80266735,1.2918678;103.80247,1.29026;103.80227,1.29792;103.8006147809,1.2962227643;103.8009496073,1.2913810053;103.806630449,1.290363;103.8077590945,1.2878833;103.8151952073,1.2893498964;103.81321,1.28738;103.8163366739,1.2862738254;103.8152417375,1.28587615;103.81581,1.28685;103.81639,1.28721;103.8169,1.28664;103.81701,1.2879;103.8155536,1.28833;103.81552,1.28803;103.81609,1.2883;103.81649,1.28885;103.81703,1.28894;103.81758,1.28855;103.81937,1.28794;103.81935,1.28729;103.81912,1.28669;103.81888,1.28727;103.81884,1.28592;103.81865,1.28594;103.8107121615,1.2931516;103.8121070076,1.29298105;103.8114222239,1.29438085;103.8109724232,1.2944609;103.8113931236,1.2931142;103.8116368241,1.2938599;103.8121025838,1.29372165;103.8121812035,1.2942066;103.81132,1.29287;103.81039,1.29442;103.81033,1.29398;103.81038,1.2953302;103.8104373981,1.2957434;103.8099501147,1.2958109;103.8094605259,1.29587985;103.82325,1.29013;103.80707,1.29497;103.82325,1.29013;103.8332107647,1.2865602187;103.8327645209,1.2869612292;103.8324739228,1.2867864855;103.8319132056,1.2866458889;103.8313400707,1.2869526258;103.8308400191,1.2865997775;103.8301315995,1.2865709009;103.8302850266,1.2870498637;103.8286368645,1.2869853319;103.8289368481,1.286905015;103.8295790559,1.2864253433;103.8291953554,1.2864775961;103.8287351628,1.2863325065;103.8296357255,1.2861482529;103.8389516,1.27620015;103.84085,1.27464;103.839888387,1.2758142;103.8390179425,1.2758331;103.8392052058,1.27531455;103.8397292575,1.2744195;103.8400995058,1.274474;103.8405280425,1.274708;103.8403063,1.27390185;103.8398831911,1.2738203;103.8393624791,1.273876544;103.839040851,1.2738854466;103.8422385,1.2807127;103.8400152584,1.2876153;103.83979,1.28794;103.8337788125,1.28046195;103.839116511,1.27851615;103.8382605,1.2765217;103.8385532,1.2758982;103.8368214992,1.2769933;103.8356838175,1.27544025;103.8365798866,1.2771014708;103.83644,1.27716;103.8319189,1.276292;103.8370674,1.2772421;103.8103369078,1.2812834411;103.814623353,1.2814730778;103.8143597774,1.28141645;103.8139921,1.2813887;103.8141210018,1.28188395;103.80393,1.27339;103.8033806948,1.27630965;103.80437,1.28111;103.81354,1.27878;103.8110375349,1.2759772268;103.81048,1.27674;103.8108471328,1.2759461847;103.8089725704,1.2773203522;103.8085091054,1.2766461989;103.8087494815,1.2769031026;103.8083521763,1.2774212421;103.8085076849,1.2762876218;103.8113569051,1.273378222;103.8069129682,1.2763456198;103.8066665703,1.2735963961;103.8072772644,1.2738710028;103.8074329971,1.2734759921;103.8073717214,1.2777594449;103.8068479091,1.2772519921;103.8068593331,1.2766898428;103.8075182178,1.2765723921;103.80696,1.27587;103.8070802888,1.2752618393;103.8081682423,1.2750262998;103.8079904288,1.274680835;103.8064107243,1.2723729275;103.8242820794,1.2663116011;103.8229637752,1.2661867386;103.8147465527,1.2692135657;103.8071096782,1.2717638496;103.645796,1.334696;103.621713,1.296095?annotations=distance,duration\n",
      "200\n"
     ]
    }
   ],
   "source": [
    "dist_matrix, time_matrix = querycar.find_matrix(cluster_latlongs)\n",
    "time_matrix = time_matrix*60\n",
    "# time_matrix[0:500,500] = time_matrix[0:500,500]+10*60*60\n",
    "# time_matrix[500,0:500] = time_matrix[500,0:500]+10*60*60\n",
    "\n",
    "dist_matrix = dist_matrix.astype(\"int64\").tolist()\n",
    "time_matrix = time_matrix.astype(\"int64\").tolist()"
   ]
  },
  {
   "cell_type": "markdown",
   "metadata": {},
   "source": [
    "### Add Vehicles"
   ]
  },
  {
   "cell_type": "code",
   "execution_count": 16,
   "metadata": {},
   "outputs": [
    {
     "data": {
      "text/html": [
       "<div>\n",
       "<style scoped>\n",
       "    .dataframe tbody tr th:only-of-type {\n",
       "        vertical-align: middle;\n",
       "    }\n",
       "\n",
       "    .dataframe tbody tr th {\n",
       "        vertical-align: top;\n",
       "    }\n",
       "\n",
       "    .dataframe thead th {\n",
       "        text-align: right;\n",
       "    }\n",
       "</style>\n",
       "<table border=\"1\" class=\"dataframe\">\n",
       "  <thead>\n",
       "    <tr style=\"text-align: right;\">\n",
       "      <th></th>\n",
       "      <th>id</th>\n",
       "      <th>Name</th>\n",
       "      <th>Vehicle_Type</th>\n",
       "      <th>Route_ID</th>\n",
       "      <th>Max_Trips</th>\n",
       "      <th>Manpower</th>\n",
       "      <th>Depot</th>\n",
       "      <th>Break_Time</th>\n",
       "      <th>Current_Lat</th>\n",
       "      <th>Current_Long</th>\n",
       "      <th>Current_Tonnage</th>\n",
       "      <th>Start_Time</th>\n",
       "      <th>End_Time</th>\n",
       "      <th>vehicleCapacity</th>\n",
       "      <th>vehicleRange</th>\n",
       "    </tr>\n",
       "  </thead>\n",
       "  <tbody>\n",
       "    <tr>\n",
       "      <th>0</th>\n",
       "      <td>0</td>\n",
       "      <td>XE6239D</td>\n",
       "      <td>8x2</td>\n",
       "      <td>0</td>\n",
       "      <td>3</td>\n",
       "      <td>2</td>\n",
       "      <td>0</td>\n",
       "      <td>12</td>\n",
       "      <td>1.3344</td>\n",
       "      <td>103.64579</td>\n",
       "      <td>0</td>\n",
       "      <td>00:00</td>\n",
       "      <td>00:00</td>\n",
       "      <td>16000</td>\n",
       "      <td>120</td>\n",
       "    </tr>\n",
       "    <tr>\n",
       "      <th>1</th>\n",
       "      <td>2</td>\n",
       "      <td>XE5596D</td>\n",
       "      <td>6x4</td>\n",
       "      <td>2</td>\n",
       "      <td>3</td>\n",
       "      <td>2</td>\n",
       "      <td>0</td>\n",
       "      <td>12</td>\n",
       "      <td>1.3344</td>\n",
       "      <td>103.64579</td>\n",
       "      <td>0</td>\n",
       "      <td>00:00</td>\n",
       "      <td>00:00</td>\n",
       "      <td>12000</td>\n",
       "      <td>120</td>\n",
       "    </tr>\n",
       "  </tbody>\n",
       "</table>\n",
       "</div>"
      ],
      "text/plain": [
       "   id     Name Vehicle_Type  Route_ID  Max_Trips  Manpower  Depot  Break_Time  \\\n",
       "0   0  XE6239D          8x2         0          3         2      0          12   \n",
       "1   2  XE5596D          6x4         2          3         2      0          12   \n",
       "\n",
       "   Current_Lat  Current_Long  Current_Tonnage Start_Time End_Time  \\\n",
       "0       1.3344     103.64579                0      00:00    00:00   \n",
       "1       1.3344     103.64579                0      00:00    00:00   \n",
       "\n",
       "   vehicleCapacity  vehicleRange  \n",
       "0            16000           120  \n",
       "1            12000           120  "
      ]
     },
     "execution_count": 16,
     "metadata": {},
     "output_type": "execute_result"
    }
   ],
   "source": [
    "fleet"
   ]
  },
  {
   "cell_type": "code",
   "execution_count": 17,
   "metadata": {},
   "outputs": [],
   "source": [
    "vehicles = []\n",
    "for idx, veh in fleet.iterrows():\n",
    "    v = Vehicle(veh['id'], 'car', \n",
    "                start =None, start_index=int(depot_idx), \n",
    "                end =None, end_index=int(depot_idx), \n",
    "                capacity=[int(veh[\"vehicleCapacity\"])], costs=None,\n",
    "                skills = vehicle_skills[veh['id']],\n",
    "                time_window=[7*60*60,18*60*60], max_tasks=None,\n",
    "                max_travel_time=None,\n",
    "                max_distance=300000).to_dict()\n",
    "    vehicles.append(v)"
   ]
  },
  {
   "cell_type": "code",
   "execution_count": 18,
   "metadata": {},
   "outputs": [
    {
     "data": {
      "text/plain": [
       "dict_keys(['pointsToAssign', 'vehiclesInvolved', 'routesInvolved', 'depotData', 'solverConfig', 'vehicleTypes'])"
      ]
     },
     "execution_count": 18,
     "metadata": {},
     "output_type": "execute_result"
    }
   ],
   "source": [
    "data.keys()"
   ]
  },
  {
   "cell_type": "code",
   "execution_count": 19,
   "metadata": {},
   "outputs": [],
   "source": [
    "cluster_load = points[\"Tonnage_kg\"].tolist()\n",
    "cluster_service_time = points[\"Service_Time_min\"].tolist()\n",
    "cluster_tw = list(zip(points[\"Min_Collection_Time_hrs\"].tolist(), points[\"Max_Collection_Time_hrs\"]))"
   ]
  },
  {
   "cell_type": "markdown",
   "metadata": {},
   "source": [
    "### Add pickup delivery"
   ]
  },
  {
   "cell_type": "code",
   "execution_count": 20,
   "metadata": {},
   "outputs": [],
   "source": [
    "shipments = []\n",
    "for idx in range(0,len(cluster_midpoints)):\n",
    "    amount = [cluster_load[idx]]\n",
    "    skills = [points.iloc[idx]['id']]\n",
    "    p = points.iloc[idx]\n",
    "    pickup_step = Shipment_Step(id=idx,\n",
    "                                description = (str(p[\"House\"])+\" \"+str(p[\"Street\"])+\" \"+str(p[\"Alias\"])).replace(\"None\",\"\").rstrip(\" \").lstrip(\" \"),\n",
    "                                location = None,\n",
    "                                location_index = idx,\n",
    "                                setup = None,\n",
    "                                service = int(cluster_service_time[idx])*60,\n",
    "                                time_windows = [[int(cluster_tw[idx][0])*60*60, int(cluster_tw[idx][1])*60*60]]).to_dict()\n",
    "    delivery_step = Shipment_Step(id=len(cluster_midpoints)+2+idx,\n",
    "                                  description = \"IP\",\n",
    "                                  location= None,\n",
    "                                  location_index= ip_idx,\n",
    "                                  setup = 20*60,\n",
    "                                  service= None,\n",
    "                                  time_windows = [[7*60*60, 24*60*60]]).to_dict()\n",
    "    ship = Shipment(pickup_step=pickup_step, delivery_step=delivery_step, amount=amount, skills=skills, priority=0).to_dict()\n",
    "    shipments.append(ship)\n",
    "\n",
    "\n",
    "    matrix = Matrix(duration_matrix = time_matrix, distance_matrix=None, cost_matrix=None).to_dict()\n"
   ]
  },
  {
   "cell_type": "code",
   "execution_count": 21,
   "metadata": {},
   "outputs": [],
   "source": [
    "data = sendData(jobs=[],shipments=shipments,vehicles=vehicles,matrices=matrix).to_dict()"
   ]
  },
  {
   "cell_type": "code",
   "execution_count": 22,
   "metadata": {},
   "outputs": [],
   "source": [
    "data = json.dumps(data, indent=2, default=int)"
   ]
  },
  {
   "cell_type": "code",
   "execution_count": 23,
   "metadata": {},
   "outputs": [],
   "source": [
    "data = json.loads(data)"
   ]
  },
  {
   "cell_type": "code",
   "execution_count": 24,
   "metadata": {},
   "outputs": [],
   "source": [
    "output = solve(data)"
   ]
  },
  {
   "cell_type": "code",
   "execution_count": 25,
   "metadata": {},
   "outputs": [
    {
     "data": {
      "text/plain": [
       "dict_keys(['code', 'summary', 'unassigned', 'routes'])"
      ]
     },
     "execution_count": 25,
     "metadata": {},
     "output_type": "execute_result"
    }
   ],
   "source": [
    "output.keys()"
   ]
  },
  {
   "cell_type": "code",
   "execution_count": 26,
   "metadata": {},
   "outputs": [
    {
     "name": "stdout",
     "output_type": "stream",
     "text": [
      "{'id': 80, 'location_index': 80, 'type': 'pickup', 'description': '1 JALAN KUKOH'}\n",
      "{'id': 79, 'location_index': 79, 'type': 'pickup', 'description': '52 CHIN SWEE RD Seacare Hotel'}\n",
      "{'id': 78, 'location_index': 78, 'type': 'pickup', 'description': '333 KRETA AYER RD'}\n"
     ]
    }
   ],
   "source": [
    "for u in output[\"unassigned\"]:\n",
    "    if u['type'] == 'pickup':\n",
    "        print(u)"
   ]
  },
  {
   "cell_type": "code",
   "execution_count": 27,
   "metadata": {},
   "outputs": [
    {
     "data": {
      "text/plain": [
       "{'cost': 18900,\n",
       " 'routes': 2,\n",
       " 'unassigned': 6,\n",
       " 'delivery': [51760],\n",
       " 'amount': [51760],\n",
       " 'pickup': [51760],\n",
       " 'setup': 4800,\n",
       " 'service': 43380,\n",
       " 'duration': 18900,\n",
       " 'waiting_time': 0,\n",
       " 'priority': 0,\n",
       " 'violations': [],\n",
       " 'computing_times': {'loading': 2, 'solving': 1590, 'routing': 0}}"
      ]
     },
     "execution_count": 27,
     "metadata": {},
     "output_type": "execute_result"
    }
   ],
   "source": [
    "output[\"summary\"]"
   ]
  },
  {
   "cell_type": "code",
   "execution_count": 28,
   "metadata": {},
   "outputs": [
    {
     "name": "stdout",
     "output_type": "stream",
     "text": [
      "['DP', 7, 8, 4, 2, 10, 11, 12, 42, 38, 34, 35, 40, 41, 39, 37, 46, 48, 47, 45, 43, 44, 36, 50, 'IP', 13, 17, 16, 51, 49, 28, 31, 29, 30, 33, 32, 20, 18, 19, 22, 23, 24, 25, 26, 27, 21, 15, 14, 5, 6, 3, 9, 0, 1, 'IP', 'DP']\n",
      "['DP', 97, 96, 121, 119, 118, 115, 114, 113, 116, 109, 117, 110, 112, 111, 125, 124, 123, 122, 61, 60, 56, 53, 52, 54, 59, 63, 57, 81, 107, 106, 104, 103, 105, 100, 102, 101, 120, 108, 99, 95, 92, 94, 93, 91, 98, 'IP', 65, 64, 62, 58, 55, 82, 86, 90, 85, 68, 66, 83, 67, 73, 72, 71, 70, 69, 77, 76, 75, 74, 84, 87, 88, 89, 'IP', 'DP']\n"
     ]
    }
   ],
   "source": [
    "for k in range(0,len(output['routes'])):\n",
    "    route1 = []\n",
    "    for i in output['routes'][k][\"steps\"]:\n",
    "        if i[\"location_index\"] == depot_idx:\n",
    "            route1.append(\"DP\")\n",
    "        elif i[\"location_index\"] > depot_idx:\n",
    "            route1.append(\"IP\")\n",
    "\n",
    "        else:\n",
    "            route1.append(i[\"location_index\"])\n",
    "\n",
    "\n",
    "    route1 = [route1[i] for i in range(len(route1)) if i == 0 or route1[i] != route1[i - 1]]\n",
    "    print(route1)"
   ]
  },
  {
   "cell_type": "code",
   "execution_count": 29,
   "metadata": {},
   "outputs": [
    {
     "data": {
      "text/plain": [
       "{'id': 80,\n",
       " 'location_index': 80,\n",
       " 'type': 'pickup',\n",
       " 'description': '1 JALAN KUKOH'}"
      ]
     },
     "execution_count": 29,
     "metadata": {},
     "output_type": "execute_result"
    }
   ],
   "source": [
    "output[\"unassigned\"][1]"
   ]
  },
  {
   "cell_type": "code",
   "execution_count": 30,
   "metadata": {},
   "outputs": [
    {
     "data": {
      "text/plain": [
       "{'type': 'pickup',\n",
       " 'description': '163  STIRLING ROAD',\n",
       " 'location_index': 7,\n",
       " 'id': 7,\n",
       " 'setup': 0,\n",
       " 'service': 1200,\n",
       " 'waiting_time': 0,\n",
       " 'job': 7,\n",
       " 'load': [1500],\n",
       " 'arrival': 26520,\n",
       " 'duration': 1320,\n",
       " 'violations': []}"
      ]
     },
     "execution_count": 30,
     "metadata": {},
     "output_type": "execute_result"
    }
   ],
   "source": [
    "output[\"routes\"][0][\"steps\"][1]"
   ]
  },
  {
   "cell_type": "code",
   "execution_count": 31,
   "metadata": {},
   "outputs": [
    {
     "data": {
      "text/plain": [
       "{'type': 'start',\n",
       " 'location_index': 126,\n",
       " 'setup': 0,\n",
       " 'service': 0,\n",
       " 'waiting_time': 0,\n",
       " 'load': [0],\n",
       " 'arrival': 25200,\n",
       " 'duration': 0,\n",
       " 'violations': []}"
      ]
     },
     "execution_count": 31,
     "metadata": {},
     "output_type": "execute_result"
    }
   ],
   "source": [
    "output[\"routes\"][0][\"steps\"][0]"
   ]
  },
  {
   "cell_type": "code",
   "execution_count": 32,
   "metadata": {},
   "outputs": [
    {
     "data": {
      "text/plain": [
       "5"
      ]
     },
     "execution_count": 32,
     "metadata": {},
     "output_type": "execute_result"
    }
   ],
   "source": [
    "33//6"
   ]
  },
  {
   "cell_type": "code",
   "execution_count": 33,
   "metadata": {},
   "outputs": [
    {
     "name": "stdout",
     "output_type": "stream",
     "text": [
      "<div class='list-group-item'>7:22<br/>163  STIRLING ROAD<br/>1500kg</div>\n",
      "<div class='list-group-item'>7:43<br/>166 STIRLING ROAD<br/>3500kg</div>\n",
      "<div class='list-group-item'>8:6<br/>143 - 150 MEI LING STREET (special equipment for CRC)<br/>4250kg</div>\n",
      "<div class='list-group-item'>8:28<br/>580 - 590 STIRLING ROAD<br/>5000kg</div>\n",
      "<div class='list-group-item'>8:36<br/>22A QUEENSWAY Special Ops<br/>6500kg</div>\n",
      "<div class='list-group-item'>8:41<br/>260 - 264 QUEENSWAY<br/>6740kg</div>\n",
      "<div class='list-group-item'>8:46<br/>358 - 360 ALEXANDRA ROAD Shell & Caltex<br/>6980kg</div>\n",
      "<div class='list-group-item'>8:51<br/>57 DAWSON RD Dawson Place<br/>7980kg</div>\n",
      "<div class='list-group-item'>9:11<br/>59 STRATHMORE AVE<br/>8280kg</div>\n",
      "<div class='list-group-item'>9:15<br/>58 STRATHMORE AVE<br/>8580kg</div>\n",
      "<div class='list-group-item'>9:19<br/>60 STRATHMORE AVE<br/>8880kg</div>\n",
      "<div class='list-group-item'>9:24<br/>61B STRATHMORE AVE<br/>9180kg</div>\n",
      "<div class='list-group-item'>9:28<br/>61C STRATHMORE AVE<br/>9480kg</div>\n",
      "<div class='list-group-item'>9:32<br/>61A STRATHMORE AVE<br/>9780kg</div>\n",
      "<div class='list-group-item'>9:36<br/>62B STRATHMORE AVE<br/>10080kg</div>\n",
      "<div class='list-group-item'>9:40<br/>86 DAWSON RD<br/>10380kg</div>\n",
      "<div class='list-group-item'>9:42<br/>88 DAWSON RD<br/>10680kg</div>\n",
      "<div class='list-group-item'>9:44<br/>87 DAWSON RD<br/>10980kg</div>\n",
      "<div class='list-group-item'>9:46<br/>85 DAWSON RD<br/>11280kg</div>\n",
      "<div class='list-group-item'>9:48<br/>78 DAWSON RD<br/>11580kg</div>\n",
      "<div class='list-group-item'>9:52<br/>79 DAWSON RD<br/>11880kg</div>\n",
      "<div class='list-group-item'>9:57<br/>62A STRATHMORE AVE<br/>12180kg</div>\n",
      "<div class='list-group-item'>10:2<br/>2 DUNDEE RD Church of Good Shepard<br/>12480kg</div>\n",
      "<div class='list-group-item'>11:17<br/>12 - 14 JALAN BUKIT MERAH<br/>750kg</div>\n",
      "<div class='list-group-item'>11:41<br/>100 REDHILL CLOSE Gan Eng Seng Pri<br/>990kg</div>\n",
      "<div class='list-group-item'>11:45<br/>98T  REDHILL CLOSE Chinese Temple beside GES Pri<br/>1230kg</div>\n",
      "<div class='list-group-item'>11:51<br/>1 HENDERSON ROAD Gan Eng Seng Sec<br/>1980kg</div>\n",
      "<div class='list-group-item'>11:53<br/>1 HENDERSON ROAD Gan Eng Seng Sec<br/>2730kg</div>\n",
      "<div class='list-group-item'>11:58<br/>81 REDHILL CLOSE<br/>2980kg</div>\n",
      "<div class='list-group-item'>12:2<br/>84/85/86 REDHILL CLOSE  Redhill Market/FoodCenter/Shops<br/>4980kg</div>\n",
      "<div class='list-group-item'>12:22<br/>82 REDHILL CLOSE<br/>5230kg</div>\n",
      "<div class='list-group-item'>12:26<br/>83 REDHILL CLOSE<br/>5480kg</div>\n",
      "<div class='list-group-item'>12:30<br/>88 REDHILL CLOSE<br/>5730kg</div>\n",
      "<div class='list-group-item'>12:34<br/>87 REDHILL CLOSE<br/>5980kg</div>\n",
      "<div class='list-group-item'>12:40<br/>70 REDHILL CLOSE<br/>6230kg</div>\n",
      "<div class='list-group-item'>12:44<br/>68 REDHILL CLOSE<br/>6480kg</div>\n",
      "<div class='list-group-item'>12:48<br/>69 REDHILL CLOSE<br/>6730kg</div>\n",
      "<div class='list-group-item'>12:53<br/>74A REDHILL ROAD<br/>6980kg</div>\n",
      "<div class='list-group-item'>12:57<br/>75A REDHILL ROAD<br/>7230kg</div>\n",
      "<div class='list-group-item'>13:1<br/>75B REDHILL ROAD<br/>7630kg</div>\n",
      "<div class='list-group-item'>13:5<br/>75C REDHILL ROAD<br/>8030kg</div>\n",
      "<div class='list-group-item'>13:9<br/>76A REDHILL ROAD<br/>8280kg</div>\n",
      "<div class='list-group-item'>13:13<br/>77A REDHILL ROAD<br/>8530kg</div>\n",
      "<div class='list-group-item'>13:17<br/>73A REDHILL ROAD<br/>8780kg</div>\n",
      "<div class='list-group-item'>13:23<br/>55 LENGKOK BAHRU<br/>10780kg</div>\n",
      "<div class='list-group-item'>13:29<br/>63 - 64  LENGKOK BAHRU<br/>11530kg</div>\n",
      "<div class='list-group-item'>13:41<br/>156B STIRLING ROAD<br/>12280kg</div>\n",
      "<div class='list-group-item'>13:46<br/>181 - 184  STIRLING ROAD<br/>13780kg</div>\n",
      "<div class='list-group-item'>14:6<br/>473 STIRLING ROAD Swimming Complex (Reno)<br/>14080kg</div>\n",
      "<div class='list-group-item'>14:26<br/>48 STIRLING ROAD<br/>14830kg</div>\n",
      "<div class='list-group-item'>14:37<br/>355 COMMENWEALTH AVE<br/>15080kg</div>\n",
      "<div class='list-group-item'>14:42<br/>365  COMMENWEALTH AVE<br/>15830kg</div>\n"
     ]
    }
   ],
   "source": [
    "\n",
    "for i in output[\"routes\"][0][\"steps\"]:\n",
    "    if i['type'] == \"pickup\":\n",
    "        h = i[\"arrival\"]//(60*60)\n",
    "        mm = round(i[\"arrival\"]%(60*60)/(60*60)*60)\n",
    "\n",
    "        s=\"<div class='list-group-item'>{k}</div>\".format(k= str(h)+\":\"+str(mm)+\"<br/>\" + i['description']+\"<br/>\"+str(i['load'][0])+\"kg\")\n",
    "        print(s)"
   ]
  }
 ],
 "metadata": {
  "kernelspec": {
   "display_name": "Python 3",
   "language": "python",
   "name": "python3"
  },
  "language_info": {
   "codemirror_mode": {
    "name": "ipython",
    "version": 3
   },
   "file_extension": ".py",
   "mimetype": "text/x-python",
   "name": "python",
   "nbconvert_exporter": "python",
   "pygments_lexer": "ipython3",
   "version": "3.11.3"
  }
 },
 "nbformat": 4,
 "nbformat_minor": 2
}
